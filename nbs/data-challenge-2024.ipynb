{
 "cells": [
  {
   "cell_type": "markdown",
   "id": "68a6a157-72d2-4ea8-bfed-b03803a61e12",
   "metadata": {},
   "source": [
    "# 2024 Public Service Data Challenge test notebook"
   ]
  },
  {
   "cell_type": "markdown",
   "id": "5f0de978-1862-4a1c-ac75-e0d9d22bb4da",
   "metadata": {},
   "source": [
    "`EN` Project name : Map air pollution data and other key indicators to improve policymaking\n",
    "               AKA \"AirTIME – Air trend information for managing exposure\"\n",
    "\n",
    "`FR` Nom du projet : Cartographie des données de pollution de l'air et autres indicateurs pour l'aide à l'élaboration des politiques\n",
    "\n",
    "Team members / Équipe :\n",
    "- [Rita So](rita.so@ec.gc.ca)  Team Lead / Gestionnaire de projet\n",
    "- [Zoe Davis](zoe.davis@ec.gc.ca) Deputy Team Lead / Gestionnaire de projet adjointe\n",
    "- [Kumari Gurusami](kumari.gurusamy@nrcan-rncan.gc.ca) NRCan / RNCan\n",
    "- [Ke Gai](ke.gai@ec.gc.ca) ECCC\n",
    "- [Andrea Hhazzawi](andrea.ghazzawi@tpsgc-pwgsc.gc.ca) TPSGC / PWGSC\n",
    "- [Charles Ryan Haynes](charlesryan.haynes@ec.gc.ca) ECCC\n",
    "- [Nicole Johnson](nicole.johnson2@agr.gc.ca) AGR\n",
    "- [Yves Moisan](yves.moisan@ec.gc.ca) ECCC -> NRCan / RNCan/ RNCan (01/04/2024)\n"
   ]
  },
  {
   "cell_type": "markdown",
   "id": "7f0a99aa-72fd-4607-bca5-3e077df8367b",
   "metadata": {},
   "source": [
    "<div class=\"alert alert-block alert-info\"><b>The challenge for me :</b><br>\"My understanding is that the datasets (<b>ambient monitoring</b>, <b>emission data</b>, <b>AQ modelling</b>) are not present in one consolidated location online for ECCC access.\"</div>\n",
    "\n",
    "IOW : **there are data silos**.\n",
    "\n",
    "I believe once that problem of data access is out of the way half the problem (of having an understanding of the data to enlighten decision-making) will be solved.\n"
   ]
  },
  {
   "cell_type": "markdown",
   "id": "7f5d0635-941e-48d0-a7f0-63ca289d7465",
   "metadata": {},
   "source": [
    "# Just to show we can embed equations in a notebook\n",
    "\\begin{equation}\n",
    "e^x=\\sum_{i=0}^\\infty \\frac{1}{i!}x^i\n",
    "\\end{equation}"
   ]
  },
  {
   "cell_type": "markdown",
   "id": "33e82ebd-b3fa-4a1d-b52c-4acf968b70ee",
   "metadata": {},
   "source": [
    "TOdo ; map"
   ]
  },
  {
   "cell_type": "code",
   "execution_count": null,
   "id": "b8786dfa-3d39-4f30-8abd-a8bd910cdddc",
   "metadata": {},
   "outputs": [],
   "source": [
    "import datetime as dt\n",
    "from datetime import date\n",
    "import numpy as np\n",
    "import pandas as pd\n",
    "import geopandas as gpd\n",
    "import polars as pl\n",
    "import polars.selectors as cs\n",
    "import pyarrow as pa\n",
    "from deltalake import DeltaTable  # S3FileSystem ??\n",
    "from deltalake.writer import write_deltalake\n",
    "from great_tables import GT, html, md\n",
    "from great_tables.data import islands\n",
    "from tabulate import tabulate\n",
    "from tqdm.notebook import tqdm\n",
    "import hvplot.pandas # Won't be needed hopefully; we'll be using Polars\n",
    "import hvplot.polars"
   ]
  },
  {
   "cell_type": "code",
   "execution_count": null,
   "id": "44e1dfaa-d515-494a-9988-8d57f1bae737",
   "metadata": {},
   "outputs": [],
   "source": [
    "from great_tables import GT, md, html, style, loc\n",
    "from great_tables.data import airquality, islands"
   ]
  },
  {
   "cell_type": "code",
   "execution_count": null,
   "id": "248db80e-fb2f-4796-95a1-6e48f708aeb0",
   "metadata": {},
   "outputs": [],
   "source": [
    "airquality_mini = airquality.head(10).assign(Year = 1973)\n",
    "pl_airquality = pl.DataFrame(airquality_mini).select(\n",
    "    \"Year\", \"Month\", \"Day\", \"Ozone\", \"Solar_R\", \"Wind\", \"Temp\"\n",
    ")\n",
    "gt_air = GT(pl_airquality)\n",
    "\n",
    "(\n",
    "    gt_air\n",
    "\n",
    "    # Table header ----\n",
    "    .tab_header(\n",
    "        title = \"New York Air Quality Measurements\",\n",
    "        subtitle = \"Daily measurements in New York City (May 1-10, 1973)\"\n",
    "    )\n",
    "\n",
    "    # Table column spanners ----\n",
    "    .tab_spanner(\n",
    "        label = \"Time\",\n",
    "        columns = [\"Year\", \"Month\", \"Day\"]\n",
    "    )\n",
    "    .tab_spanner(\n",
    "        label = \"Measurement\",\n",
    "        columns = [\"Ozone\", \"Solar_R\", \"Wind\", \"Temp\"]\n",
    "    )\n",
    "    .cols_label(\n",
    "        Ozone = html(\"Ozone,<br>ppbV\"),\n",
    "        Solar_R = html(\"Solar R.,<br>cal/m<sup>2</sup>\"),\n",
    "        Wind = html(\"Wind,<br>mph\"),\n",
    "        Temp = html(\"Temp,<br>&deg;F\")\n",
    "    )\n",
    "\n",
    "    # Table styles ----\n",
    "    .tab_style(\n",
    "        style.fill(\"lightyellow\"),\n",
    "        loc.body(\n",
    "            columns = cs.all(),\n",
    "            rows = pl.col(\"Wind\") == pl.col(\"Wind\").max()\n",
    "        )\n",
    "    )\n",
    "    .tab_style(\n",
    "        style.text(weight = \"bold\"),\n",
    "        loc.body(\"Wind\", pl.col(\"Wind\") == pl.col(\"Wind\").max())\n",
    "    )\n",
    ")"
   ]
  },
  {
   "cell_type": "code",
   "execution_count": null,
   "id": "ba8306c1-8d85-4251-8137-477781675c2b",
   "metadata": {},
   "outputs": [],
   "source": [
    "type(airquality_mini)\n",
    "type(pl_airquality)"
   ]
  },
  {
   "cell_type": "markdown",
   "id": "c845cee4-7b34-47fe-8688-540e1301b45c",
   "metadata": {},
   "source": [
    "# AQHI observation communities"
   ]
  },
  {
   "cell_type": "code",
   "execution_count": null,
   "id": "46bf87d9-82b7-4643-9577-ca764d1de62a",
   "metadata": {},
   "outputs": [],
   "source": [
    "AQHI_communities_df = pl.read_json(\"aqhi_community.geojson\")\n",
    "# From url = \"https://dd.weather.gc.ca/air_quality/aqhi/atl/observation/monthly/csv/202302_MONTHLY_AQHI_ATL_SiteObs_BACKFILLED.csv\"\n",
    "#AQHI_stations_df = pl.read_json(url)\n"
   ]
  },
  {
   "cell_type": "markdown",
   "id": "e660ca2f-c647-479b-9e7e-ea68e22040a1",
   "metadata": {},
   "source": [
    "# Air Pollutant Emission Inventory\n",
    "[Web page](https://data-donnees.az.ec.gc.ca/data/substances/monitor/canada-s-air-pollutant-emissions-inventory/)"
   ]
  },
  {
   "cell_type": "code",
   "execution_count": null,
   "id": "1408b610-a829-42bc-8460-8670bb29723c",
   "metadata": {},
   "outputs": [],
   "source": [
    "EN_APEI_Can_Prov_Terr = pl.scan_csv(\"EN_APEI-Can-Prov_Terr.csv\")"
   ]
  },
  {
   "cell_type": "code",
   "execution_count": null,
   "id": "f4a0efb2-d9bb-4a4d-abe4-7aae3485be6e",
   "metadata": {},
   "outputs": [],
   "source": [
    "APEI = EN_APEI_Can_Prov_Terr.collect()\n",
    "APEI"
   ]
  },
  {
   "cell_type": "code",
   "execution_count": null,
   "id": "53cc57e0-ed9a-42ae-9266-5b181f47dcb5",
   "metadata": {},
   "outputs": [],
   "source": [
    "# Your existing query\n",
    "# Define the start and end dates; will be used for the graph title\n",
    "#start_date = date(2024, 3, 4)\n",
    "#end_date = date(2024, 3, 8)\n",
    "\n",
    "APEI_query = (\n",
    "    APEI\n",
    "    .filter(pl.col(\"Region\") == \"AB\")\n",
    "    .sort(pl.col(\"Source\"), descending=False)\n",
    ")\n"
   ]
  },
  {
   "cell_type": "code",
   "execution_count": null,
   "id": "70fb3841-f01b-4194-9b93-f72ff96b7228",
   "metadata": {},
   "outputs": [],
   "source": [
    "APEI_query"
   ]
  },
  {
   "cell_type": "code",
   "execution_count": null,
   "id": "c5b057fb-f74f-4565-ba06-d8aad0aa20ea",
   "metadata": {},
   "outputs": [],
   "source": [
    "# Plot the DataFrame using hvplot\n",
    "plot = APEI_query.hvplot.line(x='Year', \n",
    "                                    y='TPM (t)', \n",
    "                                    by='Source', \n",
    "                                    title=f\"TPM (t) values for Alberta\")\n",
    "\n",
    "# Set the y-axis label to include the 'uom' value\n",
    "# Assuming 'uom' is a constant value for all rows in your filtered DataFrame\n",
    "uom = \"??\" # This should be dynamically fetched if it varies\n",
    "plot.opts(ylabel=f\"TPM (t) units = {uom}\")\n",
    "plot.opts(xlabel=f\"Year\")\n",
    "plot"
   ]
  },
  {
   "cell_type": "markdown",
   "id": "4bb00803-e7c7-473b-b303-f48222dbb46a",
   "metadata": {},
   "source": [
    "# AQHI observations\n",
    "[Atlantic realtime observation web page](https://dd.weather.gc.ca/air_quality/aqhi/atl/observation/realtime/csv/)"
   ]
  },
  {
   "cell_type": "code",
   "execution_count": null,
   "id": "8e7b1522-df57-4c7e-842c-8342fdf6ba61",
   "metadata": {},
   "outputs": [],
   "source": [
    "# AQHI_ATL_obs = pl.scan_csv(\"2024031007_AQHI_ATL_SiteObs.csv\")\n",
    "AQHI_ATL_obs_guessed_date = pl.read_csv(\"2024031007_AQHI_ATL_SiteObs.csv\", try_parse_dates=True) # WOW : that turned \"2024-03-10\" to an actual date object !!"
   ]
  },
  {
   "cell_type": "code",
   "execution_count": null,
   "id": "ab95e62f-0fa9-47d7-bf4b-2c2920068c7b",
   "metadata": {},
   "outputs": [],
   "source": [
    "# AQHI_ATL_obs"
   ]
  },
  {
   "cell_type": "code",
   "execution_count": null,
   "id": "f4d9fd8f-d7a0-42e0-90ff-45b56ea30563",
   "metadata": {},
   "outputs": [],
   "source": [
    "AQHI_ATL_obs_guessed_date"
   ]
  },
  {
   "cell_type": "code",
   "execution_count": null,
   "id": "2934e39c-1d08-4cce-9ea6-5a38a0c3b5e7",
   "metadata": {},
   "outputs": [],
   "source": [
    "# Your existing query\n",
    "# Define the start and end dates; will be used for the graph title\n",
    "start_date = date(2024, 3, 4)\n",
    "end_date = date(2024, 3, 8)\n",
    "\n",
    "basic_query_read = (\n",
    "    AQHI_ATL_obs_guessed_date\n",
    "    .filter(pl.col(\"Date\").is_between(start_date, end_date))\n",
    "    .sort(pl.col(\"Date\"), descending=True)\n",
    ")\n"
   ]
  },
  {
   "cell_type": "code",
   "execution_count": null,
   "id": "9c8b1d3a-9de3-4036-ba8b-c64c81b1344c",
   "metadata": {},
   "outputs": [],
   "source": [
    "basic_query_read"
   ]
  },
  {
   "cell_type": "code",
   "execution_count": null,
   "id": "803e592d-3c5c-4030-9e64-beb94a0faeb7",
   "metadata": {},
   "outputs": [],
   "source": [
    "# Plot the DataFrame using hvplot\n",
    "plot = basic_query_read.hvplot.line(x='Date', \n",
    "                                    y='AADCE', \n",
    "                                    by='Hour (UTC)', \n",
    "                                    title=f\"AADCE values between {start_date} and {end_date}\")\n",
    "\n",
    "# Set the y-axis label to include the 'uom' value\n",
    "# Assuming 'uom' is a constant value for all rows in your filtered DataFrame\n",
    "uom = \"??\" # This should be dynamically fetched if it varies\n",
    "plot.opts(ylabel=f\"Temperature ?? ({uom})\")\n",
    "plot.opts(xlabel=f\"Date J/MM\")\n",
    "plot"
   ]
  },
  {
   "cell_type": "markdown",
   "id": "78e04ca4-1453-44ab-b05c-353bb6320671",
   "metadata": {},
   "source": [
    "# AQHI forecast\n",
    "[Atlantic forecast web page](https://dd.weather.gc.ca/air_quality/aqhi/atl/forecast/model/csv/?C=M;O=D)\n",
    "\n",
    "```\n",
    "[TXT] 2024031800_AQHI_ATL_UMOSAQMIST.csv    2024-03-18 03:40  9.4K  \n",
    "[TXT] 2024031800_PM2.5_ATL_UMOSAQMIST.csv   2024-03-18 03:40   12K  \n",
    "[TXT] 2024031800_O3_ATL_UMOSAQMIST.csv      2024-03-18 03:40   14K  \n",
    "[TXT] 2024031800_NO2_ATL_UMOSAQMIST.csv     2024-03-18 03:40   12K \n",
    "```"
   ]
  },
  {
   "cell_type": "code",
   "execution_count": null,
   "id": "a8c81ff9-f462-4352-beef-c88654f3e700",
   "metadata": {},
   "outputs": [],
   "source": [
    "AQHI_ATL_forecast_AQHI = pl.scan_csv(\"2024031800_AQHI_ATL_UMOSAQMIST.csv\")\n",
    "AQHI_ATL_forecast_PM2_5 = pl.scan_csv(\"2024031800_PM2.5_ATL_UMOSAQMIST.csv\")\n",
    "AQHI_ATL_forecast_O3 = pl.scan_csv(\"2024031800_O3_ATL_UMOSAQMIST.csv\")\n",
    "AQHI_ATL_forecast_NO2 = pl.scan_csv(\"2024031800_NO2_ATL_UMOSAQMIST.csv\")\n"
   ]
  },
  {
   "cell_type": "code",
   "execution_count": null,
   "id": "9830c78e-0c34-4ea6-9459-2805a420dbe7",
   "metadata": {},
   "outputs": [],
   "source": [
    "AQHI_ATL_forecast_AQHI_df = AQHI_ATL_forecast_AQHI.collect()\n",
    "AQHI_ATL_forecast_PM2_5_df = AQHI_ATL_forecast_PM2_5.collect()\n",
    "AQHI_ATL_forecast_O3_df = AQHI_ATL_forecast_O3.collect()\n",
    "AQHI_ATL_forecast_NO2_df = AQHI_ATL_forecast_NO2.collect()\n"
   ]
  },
  {
   "cell_type": "code",
   "execution_count": null,
   "id": "d026036d-9d32-45cc-b06e-6db857913421",
   "metadata": {},
   "outputs": [],
   "source": [
    "# AQHI_ATL_forecast_AQHI_df #  shape: (25, 74); has \"cgndb\" as field name for station location\n",
    "\n",
    "# All next forecasts have 'stationId' as field name for station location\n",
    "\n",
    "AQHI_ATL_forecast_PM2_5_df # shape: (31, 74)\n",
    "# AQHI_ATL_forecast_O3_df # shape: (31, 74)\n",
    "# AQHI_ATL_forecast_NO2_df # shape: (31, 74)\n"
   ]
  },
  {
   "cell_type": "code",
   "execution_count": null,
   "id": "c7c0b9fd-9aaf-4e27-86b7-e73f633d2739",
   "metadata": {},
   "outputs": [],
   "source": [
    "# All next forecasts have 'stationId' as field name for station location\n",
    "\n",
    "AQHI_ATL_forecast_PM2_5_df # shape: (31, 74)\n",
    "AQHI_ATL_forecast_O3_df # shape: (31, 74)\n",
    "AQHI_ATL_forecast_NO2_df # shape: (31, 74)\n",
    "\n",
    "index = pl.col(\"stationId\").alias(\"Station Id\").struct(pl.col(\"date\").alias(\"date\"))\n",
    "combined_df = pl.concat([df1, df2, df3], index)\n",
    "\n"
   ]
  },
  {
   "cell_type": "code",
   "execution_count": null,
   "id": "cc2449be-43af-4ba7-8154-59e5107837c9",
   "metadata": {},
   "outputs": [],
   "source": [
    "type(AQHI_ATL_forecast_AQHI.collect().to_pandas())\n",
    "#AQHI_ATL_forecast_PM2_5.collect()\n",
    "#AQHI_ATL_forecast_O3.collect()\n",
    "#AQHI_ATL_forecast_NO2.collect()\n"
   ]
  },
  {
   "cell_type": "code",
   "execution_count": null,
   "id": "7ef9498e-6ce4-4ef2-9e73-7ddcec692209",
   "metadata": {},
   "outputs": [],
   "source": [
    "# AQHI_ATL_forecast_AQHI.collect().hvplot()\n",
    "AQHI_pd_df = AQHI_ATL_forecast_AQHI.collect().to_pandas() # hvplot explorer does not support Polars dataframes yet\n",
    "AQHI_numerical_df = AQHI_pd_df.select_dtypes(include=['int64', 'float64']) # Select only columns with numeric values\n",
    "AQHI_explorer = AQHI_numerical_df.hvplot.explorer()\n",
    "# AQHI_pd_df.columns\n",
    "#AQHI_explorer = AQHI_pd_df.hvplot.explorer()"
   ]
  },
  {
   "cell_type": "code",
   "execution_count": null,
   "id": "c414f46f-e79f-4ad8-9321-0fbed3cec174",
   "metadata": {},
   "outputs": [],
   "source": [
    "AQHI_ATL_obs_guessed_date_explorer = AQHI_ATL_obs_guessed_date.to_pandas().hvplot.explorer()\n",
    "# AQHI_ATL_obs_guessed_date_explorer\n",
    "\n",
    "# AQHI_ATL_forecast_AQHI.collect().hvplot()\n",
    "# AQHI_pd_df = AQHI_ATL_forecast_AQHI.collect().to_pandas() # hvplot explorer does not support Polars dataframes yet\n",
    "# AQHI_numerical_df = AQHI_pd_df.select_dtypes(include=['int64', 'float64']) # Select only columns with numeric values\n",
    "# AQHI_explorer = AQHI_numerical_df.hvplot.explorer()\n",
    "# AQHI_pd_df.columns\n",
    "#AQHI_explorer = AQHI_pd_df.hvplot.explorer()"
   ]
  },
  {
   "cell_type": "code",
   "execution_count": null,
   "id": "60862ae8-dc6e-4880-addc-f30e2952a42d",
   "metadata": {},
   "outputs": [],
   "source": [
    "AQHI_ATL_obs_guessed_date_explorer"
   ]
  },
  {
   "cell_type": "code",
   "execution_count": null,
   "id": "5189f880-04da-40ec-8a33-8e81a775b724",
   "metadata": {},
   "outputs": [],
   "source": [
    "from bokeh.sampledata.penguins import data as df\n",
    "\n",
    "df.head(2)\n",
    "type(df)"
   ]
  },
  {
   "cell_type": "code",
   "execution_count": null,
   "id": "e95c61bc-e10b-4ecf-98fe-bf865a587368",
   "metadata": {},
   "outputs": [],
   "source": [
    "hvexplorer = df.hvplot.explorer()\n",
    "hvexplorer"
   ]
  },
  {
   "cell_type": "code",
   "execution_count": null,
   "id": "03426b6e-4475-4129-b9d0-5eec9e2d8a1b",
   "metadata": {},
   "outputs": [],
   "source": []
  }
 ],
 "metadata": {
  "kernelspec": {
   "display_name": "pandas_polars_daft_deltalake",
   "language": "python",
   "name": "pandas_polars_daft_deltalake"
  }
 },
 "nbformat": 4,
 "nbformat_minor": 5
}
