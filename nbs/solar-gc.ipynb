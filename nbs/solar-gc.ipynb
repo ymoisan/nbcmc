{
 "cells": [
  {
   "cell_type": "code",
   "execution_count": 1,
   "id": "172095d9-d9dc-405f-88ee-d52c7b4f8794",
   "metadata": {},
   "outputs": [],
   "source": [
    "import numpy as np\n",
    "import pandas as pd\n",
    "import pyarrow as pa\n",
    "import ast\n",
    "import operator\n",
    "from typing import Callable, Iterator\n",
    "\n",
    "import pyarrow.parquet as pq\n",
    "import pyarrow.compute as pc\n",
    "import overturemaps\n",
    "from palettable.colorbrewer.sequential import Reds_6\n",
    "from palettable.colorbrewer.diverging import RdBu_9\n",
    "from pathlib import Path\n",
    "import polars as pl\n",
    "from deltalake import DeltaTable, write_deltalake\n",
    "import ast"
   ]
  },
  {
   "cell_type": "code",
   "execution_count": 2,
   "id": "cf584600-faab-48c1-b59d-1e6eed75e660",
   "metadata": {},
   "outputs": [],
   "source": [
    "import lonboard\n",
    "from lonboard import Map, PolygonLayer, SolidPolygonLayer, viz\n",
    "from lonboard.colormap import apply_continuous_cmap\n",
    "import geoarrow.rust.core\n",
    "from geoarrow.rust.io import read_parquet\n",
    "import bokeh, ipyleaflet\n",
    "\n",
    "import geopandas as gpd\n",
    "import leafmap\n",
    "from matplotlib.colors import LogNorm\n",
    "# import leafmap.deckgl as leafmap"
   ]
  },
  {
   "cell_type": "code",
   "execution_count": 13,
   "id": "1055d47c-a766-4fab-a237-f90fce6e62e8",
   "metadata": {},
   "outputs": [],
   "source": [
    "import polars.selectors as cs\n",
    "from great_tables import loc, style, GT"
   ]
  },
  {
   "cell_type": "markdown",
   "id": "3f9b0595-9f81-4aa7-b002-9d941bd3b253",
   "metadata": {
    "jp-MarkdownHeadingCollapsed": true
   },
   "source": [
    "# Cleanup"
   ]
  },
  {
   "cell_type": "markdown",
   "id": "114efffd-bbf4-4473-8ae9-4fb1279b85e4",
   "metadata": {
    "jp-MarkdownHeadingCollapsed": true
   },
   "source": [
    "## Wrong encoding \n",
    "Because the encoding is not specified, software will expect UTF-8 but it is not.\n",
    "This is a hurdle for interoperability purposes."
   ]
  },
  {
   "cell_type": "code",
   "execution_count": null,
   "id": "2afad971-dbbc-4999-8d9a-e373c0a29833",
   "metadata": {},
   "outputs": [],
   "source": [
    "def convert_files_to_utf8(files):\n",
    "    for file in files:\n",
    "        # Open the CSV file with Latin1 encoding\n",
    "        df = pd.read_csv(file, encoding='latin1')\n",
    "        \n",
    "        # Save the DataFrame to a new CSV file with UTF-8 encoding\n",
    "        new_file = file.replace('.csv', '_utf8.csv')\n",
    "        df.to_csv(new_file, encoding='utf-8', index=False)"
   ]
  },
  {
   "cell_type": "code",
   "execution_count": null,
   "id": "b7fee7f4-e00d-4368-802e-62516b15b1a4",
   "metadata": {},
   "outputs": [],
   "source": [
    "files_to_convert = [\"solar-gc/municip_potentiel-potential.csv\", \n",
    "                    \"solar-gc/municip_kWh.csv\", \n",
    "                    \"solar-gc/municip_MJ.csv\"]"
   ]
  },
  {
   "cell_type": "code",
   "execution_count": null,
   "id": "153d47f4-82b8-46cb-b95c-13ae86025455",
   "metadata": {},
   "outputs": [],
   "source": [
    "convert_files_to_utf8(files_to_convert)"
   ]
  },
  {
   "cell_type": "markdown",
   "id": "393a000a-d377-4efb-8912-719bca20f2cd",
   "metadata": {
    "jp-MarkdownHeadingCollapsed": true
   },
   "source": [
    "## Empty columns\n",
    "\n",
    "`municip_potentiel-potential.csv` has **10** empty columns !"
   ]
  },
  {
   "cell_type": "code",
   "execution_count": null,
   "id": "f5a905da-8b01-41c9-aaee-c20df05ae1a5",
   "metadata": {},
   "outputs": [],
   "source": [
    "problem_file = Path('solar-gc/municip_potentiel-potential_utf8.csv')"
   ]
  },
  {
   "cell_type": "code",
   "execution_count": null,
   "id": "c1615ddf-cb50-4ccf-b031-89ebfcd68cc7",
   "metadata": {},
   "outputs": [],
   "source": [
    "# Read the CSV file\n",
    "df = pd.read_csv(problem_file)"
   ]
  },
  {
   "cell_type": "code",
   "execution_count": null,
   "id": "271cb860-3107-4321-a549-a563ff8b411c",
   "metadata": {},
   "outputs": [],
   "source": [
    "df.head()"
   ]
  },
  {
   "cell_type": "code",
   "execution_count": null,
   "id": "3cbcaa26-dc20-41a0-8079-ebf11b171f10",
   "metadata": {},
   "outputs": [],
   "source": [
    "# Drop columns with all NaN values\n",
    "df2 = df.dropna(axis=1, how='all')"
   ]
  },
  {
   "cell_type": "code",
   "execution_count": null,
   "id": "01f42cac-2c7d-45a8-8faf-e76e12b2d419",
   "metadata": {},
   "outputs": [],
   "source": [
    "df2.head()"
   ]
  },
  {
   "cell_type": "code",
   "execution_count": null,
   "id": "16ce6151-1029-4bce-b944-88af137315f3",
   "metadata": {},
   "outputs": [],
   "source": [
    "# Write the updated DataFrame to a new CSV file\n",
    "df2.to_csv(problem_file, index=False)\n",
    "# Half a MB gone ..."
   ]
  },
  {
   "cell_type": "markdown",
   "id": "1979bfcf-86fa-488d-a364-14527b127da0",
   "metadata": {
    "jp-MarkdownHeadingCollapsed": true
   },
   "source": [
    "## Exceedingly complex header\n",
    "- three lines (instead of one); all files : `municip_potentiel-potential.csv`, `municip_kWh.csv`, `municip_MJ.csv`\n",
    "- bilingual column names\n",
    "\n",
    "As a result, the first three columns are unnamed because their first row is empty ...\n",
    "\n",
    "Schemas need to be in English only.  Translations should be managed elsewhere, not in the dataset.  Plus, bilingual column names mean ludicrous/unmanageable column names.  \n",
    "\n",
    "This is a MAJOR hurdle for interoperability purposes.  See below."
   ]
  },
  {
   "cell_type": "code",
   "execution_count": null,
   "id": "90cdcb39-0399-43f1-ba8e-815a7ab67e21",
   "metadata": {},
   "outputs": [],
   "source": [
    "from IPython.display import Image"
   ]
  },
  {
   "cell_type": "code",
   "execution_count": null,
   "id": "d922ee2c-57d9-4b40-a662-8a2b6d0f9fff",
   "metadata": {
    "scrolled": true
   },
   "outputs": [],
   "source": [
    "Image(filename='./solar-gc/malformed_header.png')"
   ]
  },
  {
   "cell_type": "code",
   "execution_count": null,
   "id": "af1d989e-2865-4ebc-a0af-fb443a769108",
   "metadata": {
    "jupyter": {
     "source_hidden": true
    }
   },
   "outputs": [],
   "source": [
    "from io import StringIO\n",
    "\n",
    "def concatenate_columns(csv_data):\n",
    "    # Read the CSV data\n",
    "    df = pd.read_csv(StringIO(csv_data))\n",
    "\n",
    "    # Apply a lambda function to concatenate strings in each row\n",
    "    df['concatenated'] = df.apply(lambda row: ''.join(map(str, row.values)), axis=1)\n",
    "\n",
    "    return df['concatenated']"
   ]
  },
  {
   "cell_type": "code",
   "execution_count": null,
   "id": "4f35338e-cc37-4c2a-97f6-0b5ef998e0a4",
   "metadata": {
    "jupyter": {
     "source_hidden": true
    }
   },
   "outputs": [],
   "source": [
    "csv_data_MJ = \"\"\"\n",
    "Unnamed: 0,Unnamed: 1,Unnamed: 2,Mean daily global insolation (MJ/m2),Mean daily global insolation (MJ/m2).1,Mean daily global insolation (MJ/m2).2,Mean daily global insolation (MJ/m2).3,Mean daily global insolation (MJ/m2).4,Mean daily global insolation (MJ/m2).5\n",
    ",,,Ensoleillement global quotidien moyen (MJ/m2),Ensoleillement global quotidien moyen (MJ/m2),Ensoleillement global quotidien moyen (MJ/m2),Ensoleillement global quotidien moyen (MJ/m2),Ensoleillement global quotidien moyen (MJ/m2),Ensoleillement global quotidien moyen (MJ/m2)\n",
    "Province,Municipality,Mois,South-facing with vertical (90 degrees) tilt,South-facing with latitude tilt,South-facing with tilt=latitude+15 degrees,South-facing with tilt=latitude-15 degrees,2-axis tracking,Horizontal (0 degree)\n",
    "Province,Municipalité,Month,Vertical orienté vers le sud (inclinaison=90 degrés),Orienté vers le sud avec inclinaison=latitude,Orienté vers le sud avec inclinaison=latitude+15 degrés,Orienté vers le sud avec inclinaison=latitude-15 degrés,Suivi du soleil selon deux axes,Horizontal (inclinaison=0 degré)\n",
    "\"\"\""
   ]
  },
  {
   "cell_type": "code",
   "execution_count": null,
   "id": "9a5c9527-d005-4cdf-a18c-8dadf640a66b",
   "metadata": {
    "jupyter": {
     "source_hidden": true
    }
   },
   "outputs": [],
   "source": [
    "csv_data_MPV = \"\"\"Unnamed: 0,Unnamed: 1,Unnamed: 2,Photovoltaic potential (kWh/kWp),Photovoltaic potential (kWh/kWp).1,Photovoltaic potential (kWh/kWp).2,Photovoltaic potential (kWh/kWp).3,Photovoltaic potential (kWh/kWp).4,Photovoltaic potential (kWh/kWp).5\n",
    ",,,Potentiel photovoltaïque (kWh/kWp),Potentiel photovoltaïque (kWh/kWp),Potentiel photovoltaïque (kWh/kWp),Potentiel photovoltaïque (kWh/kWp),Potentiel photovoltaïque (kWh/kWp),Potentiel photovoltaïque (kWh/kWp)\n",
    "Province,Municipality,Mois,South-facing with vertical (90 degrees) tilt,South-facing with latitude tilt,South-facing with tilt=latitude+15 degrees,South-facing with tilt=latitude-15 degrees,2-axis tracking,Horizontal (0 degree)\n",
    "Province,Municipalité,Month,Vertical orienté vers le sud (inclinaison=90 degrés),Orienté vers le sud avec inclinaison=latitude,Orienté vers le sud avec inclinaison=latitude+15 degrés,Orienté vers le sud avec inclinaison=latitude-15 degrés,Suivi du soleil selon deux axes,Horizontal (inclinaison=0 degré)\n",
    "\"\"\""
   ]
  },
  {
   "cell_type": "code",
   "execution_count": null,
   "id": "0d2223f7-6941-48f6-8f80-4f942d59cd1b",
   "metadata": {
    "jupyter": {
     "source_hidden": true
    }
   },
   "outputs": [],
   "source": [
    "# Read the CSV data\n",
    "df = pd.read_csv(StringIO(csv_data_MPV), header=None)\n",
    "# Initialize a list to store the concatenated columns\n",
    "concatenated_columns = []"
   ]
  },
  {
   "cell_type": "code",
   "execution_count": null,
   "id": "98cd0e52-8801-466d-9aa3-fcf0422015c0",
   "metadata": {
    "jupyter": {
     "source_hidden": true
    }
   },
   "outputs": [],
   "source": [
    "# Loop through each column and concatenate its values\n",
    "for col in df.columns:\n",
    "    column_values = df[col].fillna('').astype(str).tolist()\n",
    "    concatenated_column = ''.join(column_values)\n",
    "    concatenated_columns.append(concatenated_column)"
   ]
  },
  {
   "cell_type": "code",
   "execution_count": null,
   "id": "dfab4dc4-0ebc-4fb6-be2a-c51d88fe4aca",
   "metadata": {
    "jupyter": {
     "source_hidden": true
    }
   },
   "outputs": [],
   "source": [
    "# Print the concatenated columns\n",
    "for i, column in enumerate(concatenated_columns):\n",
    "    print(f\"Column {i}: {column}\")"
   ]
  },
  {
   "cell_type": "code",
   "execution_count": null,
   "id": "b19726a5-67ab-4a80-96a1-097b152aff06",
   "metadata": {
    "jupyter": {
     "source_hidden": true
    }
   },
   "outputs": [],
   "source": [
    "# Check the number of rows\n",
    "print(\"Number of rows:\", len(df))"
   ]
  },
  {
   "cell_type": "code",
   "execution_count": null,
   "id": "bc3546b8-54e2-490d-a74b-049658f6a985",
   "metadata": {
    "jupyter": {
     "source_hidden": true
    }
   },
   "outputs": [],
   "source": [
    "# Concatenate each column\n",
    "concatenated_columns = df.apply(lambda x: ''.join(map(str, x.fillna(''))), axis=0)"
   ]
  },
  {
   "cell_type": "code",
   "execution_count": null,
   "id": "77363544-3f6a-417a-aff3-af8f5c5f40cb",
   "metadata": {
    "jupyter": {
     "source_hidden": true
    }
   },
   "outputs": [],
   "source": [
    "# Check the concatenated column\n",
    "print(df['concatenated'])"
   ]
  },
  {
   "cell_type": "code",
   "execution_count": null,
   "id": "f523ae2d-2969-4709-acf5-98a26eec6807",
   "metadata": {
    "jupyter": {
     "source_hidden": true
    }
   },
   "outputs": [],
   "source": [
    "concatenated_column = concatenate_columns(csv_data_MJ)\n",
    "len(concatenated_column)\n",
    "concatenated_column"
   ]
  },
  {
   "cell_type": "markdown",
   "id": "b107a831-32ff-4f72-a109-9366e0be8ba0",
   "metadata": {
    "jp-MarkdownHeadingCollapsed": true
   },
   "source": [
    "## Replace header row and delete first three rows"
   ]
  },
  {
   "cell_type": "code",
   "execution_count": null,
   "id": "fd15da92-9fc0-401b-810c-cca238bf7e6f",
   "metadata": {},
   "outputs": [],
   "source": [
    "pv_file = Path('solar-gc/municip_potentiel-potential_utf8.csv')\n",
    "kwh_file = Path('solar-gc/municip_kWh_utf8.csv')\n",
    "mj_file = Path('solar-gc/municip_MJ_utf8.csv')"
   ]
  },
  {
   "cell_type": "code",
   "execution_count": null,
   "id": "aeb6d3be-91e2-43ec-98a1-f2fcd7630d49",
   "metadata": {},
   "outputs": [],
   "source": [
    "# Read the CSV file\n",
    "df_pv = pd.read_csv(pv_file)\n",
    "df_kwh = pd.read_csv(kwh_file)\n",
    "df_mj = pd.read_csv(mj_file)"
   ]
  },
  {
   "cell_type": "code",
   "execution_count": null,
   "id": "67488922-d9c1-41b1-b6ce-9d68c55da3e5",
   "metadata": {},
   "outputs": [],
   "source": [
    "df_kwh.head()"
   ]
  },
  {
   "cell_type": "code",
   "execution_count": null,
   "id": "759bd042-687f-4826-98d6-40a12d5cf80b",
   "metadata": {},
   "outputs": [],
   "source": [
    "new_column_names_mj = ['Province','Municipality','Month','MDGI_mj_south_vert_tilt','MDGI_mj_south_lat_tilt','MDGI_mj_south_lat_plus_15_tilt','MDGI_mj_south_lat_minus_15_tilt','MDGI_mj_two_axis_tracking','MDGI_mj_hor']\n",
    "\n",
    "new_column_names_kwh = ['Province','Municipality','Month','MDGI_kwh_south_vert_tilt','MDGI_kwh_south_lat_tilt','MDGI_kwh_south_lat_plus_15_tilt','MDGI_kwh_south_lat_minus_15_tilt','MDGI_kwh_two_axis_tracking','MDGI_kwh_hor']\n",
    "\n",
    "new_column_names_pv = ['Province','Municipality','Month','PV_pot_kWh_p_south_vert_tilt','PV_pot_kWh_p_south_lat_tilt','PV_pot_kWh_p_south_lat_plus_15_tilt','PV_pot_kWh_p_south_lat_minus_15_tilt','PV_pot_kWh_p_two_axis_tracking','PV_pot_kWh_p_hor']"
   ]
  },
  {
   "cell_type": "code",
   "execution_count": null,
   "id": "197b351b-d2cb-4823-981a-836f1e2c6314",
   "metadata": {},
   "outputs": [],
   "source": [
    "df_pv.columns = new_column_names_pv\n",
    "df_kwh.columns = new_column_names_kwh\n",
    "df_mj.columns = new_column_names_mj"
   ]
  },
  {
   "cell_type": "code",
   "execution_count": null,
   "id": "07ad4d97-d61d-4d60-8270-73eea8180cba",
   "metadata": {},
   "outputs": [],
   "source": [
    "# remove first three rows\n",
    "df_pv = df_pv[3:]\n",
    "df_kwh = df_kwh[3:]\n",
    "df_mj = df_mj[3:]"
   ]
  },
  {
   "cell_type": "markdown",
   "id": "9e23e3bb-489d-4722-8958-fe53b6c42bf1",
   "metadata": {
    "jp-MarkdownHeadingCollapsed": true
   },
   "source": [
    "## More string manipulation\n",
    "Province and month"
   ]
  },
  {
   "cell_type": "code",
   "execution_count": null,
   "id": "93d11e17-062f-4588-aeee-83744bcf1195",
   "metadata": {},
   "outputs": [],
   "source": [
    "selected_columns = ['Province','Month']\n",
    "for column in selected_columns:\n",
    "    unique_values = df_kwh[column].unique()\n",
    "    print(f\"Unique values in column '{column}': {unique_values}\")"
   ]
  },
  {
   "cell_type": "code",
   "execution_count": null,
   "id": "e8dff669-3db1-47bc-9e1a-99e7536a7743",
   "metadata": {},
   "outputs": [],
   "source": [
    "province_map = {\n",
    "    'Alberta/Alberta': 'ALTA',\n",
    "    'British Columbia/Colombie-Britannique': 'BC',\n",
    "    'Manitoba/Manitoba': 'MAN',\n",
    "    'New Brunswick/Nouveau-Brunswick': 'NB',\n",
    "    'Newfoundland and Labrador/Terre-Neuve-et-Labrador': 'NFL',\n",
    "    'Northwest Territories/Territoires du Nord-Ouest': 'NWT',\n",
    "    'Nova Scotia/Nouvelle-Écosse': 'NS',\n",
    "    'Nunavut/Nunavut': 'NU',\n",
    "    'Ontario/Ontario': 'ON',\n",
    "    'Prince Edward Island/île du Prince-Édouard': 'PEI',\n",
    "    'Quebec/Québec': 'QC',\n",
    "    'Saskatchewan/Saskatchewan': 'SK',\n",
    "    'Yukon Territory/Yukon': 'YK'\n",
    "}"
   ]
  },
  {
   "cell_type": "code",
   "execution_count": null,
   "id": "333b8663-9e20-46ec-a112-29d7ee0d1b37",
   "metadata": {},
   "outputs": [],
   "source": [
    "month_map = {\n",
    "    'January/Janvier': 'Jan',\n",
    "    'February/Février': 'Feb',\n",
    "    'March/Mars': 'Mar',\n",
    "    'April/Avril': 'Apr',\n",
    "    'May/Mai': 'May',\n",
    "    'June/Juin': 'Jun',\n",
    "    'July/Juillet': 'Jul',\n",
    "    'August/Août': 'Aug',\n",
    "    'September/Septembre': 'Sep',\n",
    "    'October/Octobre': 'Oct',\n",
    "    'November/Novembre': 'Nov',\n",
    "    'December/Décembre': 'Dec',\n",
    "    'Annual/Annuel': 'Annual'\n",
    "}"
   ]
  },
  {
   "cell_type": "code",
   "execution_count": null,
   "id": "7f7928d1-577d-4191-80d8-9f09fe4207be",
   "metadata": {},
   "outputs": [],
   "source": [
    "dataframes = [df_pv, df_mj, df_kwh]"
   ]
  },
  {
   "cell_type": "code",
   "execution_count": null,
   "id": "717777ee-cfa2-4122-8e33-737973b217f3",
   "metadata": {},
   "outputs": [],
   "source": [
    "df_pv['Province'] = df_pv['Province'].map(province_map)"
   ]
  },
  {
   "cell_type": "code",
   "execution_count": null,
   "id": "41b38a29-98db-47b9-b28b-118379e377ea",
   "metadata": {},
   "outputs": [],
   "source": [
    "def replace_values(df):\n",
    "    df['Province'] = df['Province'].apply(lambda x: province_map.get(x, x))\n",
    "    df['Month'] = df['Month'].apply(lambda x: month_map.get(x, x))\n",
    "    return df"
   ]
  },
  {
   "cell_type": "code",
   "execution_count": null,
   "id": "98515af7-7124-4014-8d6f-f8f280d2c8b4",
   "metadata": {},
   "outputs": [],
   "source": [
    "# Apply the function to each DataFrame in the list\n",
    "for i, df in enumerate(dataframes):\n",
    "    dataframes[i] = replace_values(df)\n",
    "\n",
    "# Print the updated DataFrames\n",
    "#for df in dataframes:\n",
    "#    print(df)"
   ]
  },
  {
   "cell_type": "markdown",
   "id": "61a5af10-7f27-47ac-9382-4efd7ddc1ad5",
   "metadata": {},
   "source": [
    "## Save clean files to delta lake"
   ]
  },
  {
   "cell_type": "markdown",
   "id": "32e385d6-70a0-42f5-827b-e179f1463274",
   "metadata": {
    "jp-MarkdownHeadingCollapsed": true
   },
   "source": [
    "# Pandas will save everything as `str`"
   ]
  },
  {
   "cell_type": "code",
   "execution_count": null,
   "id": "57bfc328-1a9b-4464-871d-3734ef7b43b5",
   "metadata": {},
   "outputs": [],
   "source": [
    "column_names = df_kwh.columns.tolist()[3:]"
   ]
  },
  {
   "cell_type": "code",
   "execution_count": null,
   "id": "be8f7ac2-8d40-43f2-849a-1cfc469646c9",
   "metadata": {},
   "outputs": [],
   "source": [
    "column_names"
   ]
  },
  {
   "cell_type": "code",
   "execution_count": null,
   "id": "f20633c4-f81b-47a7-b5d6-c97fa2329855",
   "metadata": {},
   "outputs": [],
   "source": [
    "column_types_pv = {\n",
    "    'Province':'str',\n",
    "    'Month':'str',\n",
    "    'PV_pot_kWh_p_south_vert_tilt': 'int',\n",
    "    'PV_pot_kWh_p_south_lat_tilt': 'int',\n",
    "    'PV_pot_kWh_p_south_lat_plus_15_tilt': 'int',\n",
    "    'PV_pot_kWh_p_south_lat_minus_15_tilt': 'int',\n",
    "    'PV_pot_kWh_p_two_axis_tracking': 'int',\n",
    "    'PV_pot_kWh_p_hor': 'int',\n",
    "    # Add more columns and their types as needed\n",
    "}"
   ]
  },
  {
   "cell_type": "code",
   "execution_count": null,
   "id": "b5bed2e5-48d5-4cae-8292-75882dab2519",
   "metadata": {},
   "outputs": [],
   "source": [
    "column_types_mj = {\n",
    "    'Province':'str',\n",
    "    'Month':'str',\n",
    "    'MDGI_mj_south_vert_tilt': 'float',\n",
    "    'MDGI_mj_south_lat_tilt': 'float',\n",
    "    'MDGI_mj_south_lat_plus_15_tilt': 'float',\n",
    "    'MDGI_mj_south_lat_minus_15_tilt': 'float',\n",
    "    'MDGI_mj_two_axis_tracking': 'float',\n",
    "    'MDGI_mj_hor': 'float',\n",
    "    # Add more columns and their types as needed\n",
    "}"
   ]
  },
  {
   "cell_type": "code",
   "execution_count": null,
   "id": "e1a1f9bb-0860-4375-b204-a47093a1c6a5",
   "metadata": {},
   "outputs": [],
   "source": [
    "column_types_kwh = {\n",
    "    'Province':'str',\n",
    "    'Month':'str',\n",
    "    'MDGI_kwh_south_vert_tilt': 'float',\n",
    "    'MDGI_kwh_south_lat_tilt': 'float',\n",
    "    'MDGI_kwh_south_lat_plus_15_tilt': 'float',\n",
    "    'MDGI_kwh_south_lat_minus_15_tilt': 'float',\n",
    "    'MDGI_kwh_two_axis_tracking': 'float',\n",
    "    'MDGI_kwh_hor': 'float',\n",
    "    # Add more columns and their types as needed\n",
    "}"
   ]
  },
  {
   "cell_type": "code",
   "execution_count": null,
   "id": "926748f1-9fac-49a6-b08e-368a1d10e340",
   "metadata": {},
   "outputs": [],
   "source": [
    "df_mj = df_mj.astype(column_types_mj) # and other dfs"
   ]
  },
  {
   "cell_type": "code",
   "execution_count": null,
   "id": "381a2111-be30-42d7-b006-f2c8e876b7ce",
   "metadata": {},
   "outputs": [],
   "source": [
    "write_deltalake('./solar-gc/pv', df_pv)"
   ]
  },
  {
   "cell_type": "code",
   "execution_count": null,
   "id": "843eaf0b-f4f3-4c24-9064-6d8ded56dfba",
   "metadata": {},
   "outputs": [],
   "source": [
    "write_deltalake('./solar-gc/mj', df_mj)"
   ]
  },
  {
   "cell_type": "code",
   "execution_count": null,
   "id": "3de1cc0d-3725-4fc6-b7a4-01f3ddadd983",
   "metadata": {},
   "outputs": [],
   "source": [
    "write_deltalake('./solar-gc/kwh', df_kwh)"
   ]
  },
  {
   "cell_type": "markdown",
   "id": "c61aa643-5e69-4b48-bc73-da6b3758be29",
   "metadata": {},
   "source": [
    "## Unnecessary information"
   ]
  },
  {
   "cell_type": "markdown",
   "id": "9d0d383b-ef35-478d-8de1-2f07260a87b9",
   "metadata": {},
   "source": [
    "MJ/m² et kWh/m² : No need for two files since it is just a conversion factor !!\n",
    "\n",
    "1 kWh/m² =  3.597122 mJ/m²\n",
    "\n",
    "1 MJ/m² =  0.278 kWh/m²\n",
    "\n",
    "Every 12 rows : Annual/Annuel; \n",
    "- not necessary (can be computed)\n",
    "- is misleading!  should be \"Annual mean\""
   ]
  },
  {
   "cell_type": "markdown",
   "id": "ea95ea7c-1890-4715-bf1a-753c4804c392",
   "metadata": {},
   "source": [
    "# Work with delta tables"
   ]
  },
  {
   "cell_type": "code",
   "execution_count": 4,
   "id": "47147969-3cdd-4cd5-8659-ae34766cf19f",
   "metadata": {},
   "outputs": [],
   "source": [
    "pldf_pv = pl.read_delta(\"./solar-gc/pv\")"
   ]
  },
  {
   "cell_type": "code",
   "execution_count": 5,
   "id": "caf53032-8bd7-477f-97d9-7c40dd910cc1",
   "metadata": {},
   "outputs": [],
   "source": [
    "pldf_mj = pl.read_delta(\"./solar-gc/mj\")"
   ]
  },
  {
   "cell_type": "code",
   "execution_count": 6,
   "id": "fcaa48be-ec13-4294-b05c-019e32f58a5d",
   "metadata": {},
   "outputs": [],
   "source": [
    "pldf_kwh = pl.read_delta(\"./solar-gc/kwh\")"
   ]
  },
  {
   "cell_type": "code",
   "execution_count": 10,
   "id": "ff696812-3d12-472b-a167-01fd837dc6b5",
   "metadata": {},
   "outputs": [
    {
     "data": {
      "text/html": [
       "<div><style>\n",
       ".dataframe > thead > tr,\n",
       ".dataframe > tbody > tr {\n",
       "  text-align: right;\n",
       "  white-space: pre-wrap;\n",
       "}\n",
       "</style>\n",
       "<small>shape: (45_578, 9)</small><table border=\"1\" class=\"dataframe\"><thead><tr><th>Province</th><th>Municipality</th><th>Month</th><th>PV_pot_kWh_p_south_vert_tilt</th><th>PV_pot_kWh_p_south_lat_tilt</th><th>PV_pot_kWh_p_south_lat_plus_15_tilt</th><th>PV_pot_kWh_p_south_lat_minus_15_tilt</th><th>PV_pot_kWh_p_two_axis_tracking</th><th>PV_pot_kWh_p_hor</th></tr><tr><td>str</td><td>str</td><td>str</td><td>i32</td><td>i32</td><td>i32</td><td>i32</td><td>i32</td><td>i32</td></tr></thead><tbody><tr><td>&quot;ALTA&quot;</td><td>&quot;Acadia Valley&quot;</td><td>&quot;Jan&quot;</td><td>88</td><td>83</td><td>89</td><td>72</td><td>100</td><td>29</td></tr><tr><td>&quot;ALTA&quot;</td><td>&quot;Acadia Valley&quot;</td><td>&quot;Feb&quot;</td><td>98</td><td>100</td><td>104</td><td>91</td><td>123</td><td>47</td></tr><tr><td>&quot;ALTA&quot;</td><td>&quot;Acadia Valley&quot;</td><td>&quot;Mar&quot;</td><td>111</td><td>130</td><td>128</td><td>125</td><td>167</td><td>84</td></tr><tr><td>&quot;ALTA&quot;</td><td>&quot;Acadia Valley&quot;</td><td>&quot;Apr&quot;</td><td>92</td><td>130</td><td>120</td><td>134</td><td>190</td><td>112</td></tr><tr><td>&quot;ALTA&quot;</td><td>&quot;Acadia Valley&quot;</td><td>&quot;May&quot;</td><td>78</td><td>130</td><td>114</td><td>141</td><td>211</td><td>136</td></tr><tr><td>&hellip;</td><td>&hellip;</td><td>&hellip;</td><td>&hellip;</td><td>&hellip;</td><td>&hellip;</td><td>&hellip;</td><td>&hellip;</td><td>&hellip;</td></tr><tr><td>&quot;YK&quot;</td><td>&quot;Whitehorse&quot;</td><td>&quot;Sep&quot;</td><td>68</td><td>83</td><td>78</td><td>83</td><td>109</td><td>59</td></tr><tr><td>&quot;YK&quot;</td><td>&quot;Whitehorse&quot;</td><td>&quot;Oct&quot;</td><td>49</td><td>53</td><td>53</td><td>51</td><td>64</td><td>28</td></tr><tr><td>&quot;YK&quot;</td><td>&quot;Whitehorse&quot;</td><td>&quot;Nov&quot;</td><td>30</td><td>30</td><td>31</td><td>27</td><td>34</td><td>10</td></tr><tr><td>&quot;YK&quot;</td><td>&quot;Whitehorse&quot;</td><td>&quot;Dec&quot;</td><td>17</td><td>16</td><td>17</td><td>14</td><td>18</td><td>4</td></tr><tr><td>&quot;YK&quot;</td><td>&quot;Whitehorse&quot;</td><td>&quot;Annual&quot;</td><td>774</td><td>961</td><td>887</td><td>985</td><td>1374</td><td>758</td></tr></tbody></table></div>"
      ],
      "text/plain": [
       "shape: (45_578, 9)\n",
       "┌──────────┬───────────────┬────────┬───────────────┬───┬───────────────┬───────────────┬───────────────┬──────────────┐\n",
       "│ Province ┆ Municipality  ┆ Month  ┆ PV_pot_kWh_p_ ┆ … ┆ PV_pot_kWh_p_ ┆ PV_pot_kWh_p_ ┆ PV_pot_kWh_p_ ┆ PV_pot_kWh_p │\n",
       "│ ---      ┆ ---           ┆ ---    ┆ south_vert_ti ┆   ┆ south_lat_plu ┆ south_lat_min ┆ two_axis_trac ┆ _hor         │\n",
       "│ str      ┆ str           ┆ str    ┆ lt            ┆   ┆ s_15…         ┆ us_1…         ┆ king          ┆ ---          │\n",
       "│          ┆               ┆        ┆ ---           ┆   ┆ ---           ┆ ---           ┆ ---           ┆ i32          │\n",
       "│          ┆               ┆        ┆ i32           ┆   ┆ i32           ┆ i32           ┆ i32           ┆              │\n",
       "╞══════════╪═══════════════╪════════╪═══════════════╪═══╪═══════════════╪═══════════════╪═══════════════╪══════════════╡\n",
       "│ ALTA     ┆ Acadia Valley ┆ Jan    ┆ 88            ┆ … ┆ 89            ┆ 72            ┆ 100           ┆ 29           │\n",
       "│ ALTA     ┆ Acadia Valley ┆ Feb    ┆ 98            ┆ … ┆ 104           ┆ 91            ┆ 123           ┆ 47           │\n",
       "│ ALTA     ┆ Acadia Valley ┆ Mar    ┆ 111           ┆ … ┆ 128           ┆ 125           ┆ 167           ┆ 84           │\n",
       "│ ALTA     ┆ Acadia Valley ┆ Apr    ┆ 92            ┆ … ┆ 120           ┆ 134           ┆ 190           ┆ 112          │\n",
       "│ ALTA     ┆ Acadia Valley ┆ May    ┆ 78            ┆ … ┆ 114           ┆ 141           ┆ 211           ┆ 136          │\n",
       "│ …        ┆ …             ┆ …      ┆ …             ┆ … ┆ …             ┆ …             ┆ …             ┆ …            │\n",
       "│ YK       ┆ Whitehorse    ┆ Sep    ┆ 68            ┆ … ┆ 78            ┆ 83            ┆ 109           ┆ 59           │\n",
       "│ YK       ┆ Whitehorse    ┆ Oct    ┆ 49            ┆ … ┆ 53            ┆ 51            ┆ 64            ┆ 28           │\n",
       "│ YK       ┆ Whitehorse    ┆ Nov    ┆ 30            ┆ … ┆ 31            ┆ 27            ┆ 34            ┆ 10           │\n",
       "│ YK       ┆ Whitehorse    ┆ Dec    ┆ 17            ┆ … ┆ 17            ┆ 14            ┆ 18            ┆ 4            │\n",
       "│ YK       ┆ Whitehorse    ┆ Annual ┆ 774           ┆ … ┆ 887           ┆ 985           ┆ 1374          ┆ 758          │\n",
       "└──────────┴───────────────┴────────┴───────────────┴───┴───────────────┴───────────────┴───────────────┴──────────────┘"
      ]
     },
     "execution_count": 10,
     "metadata": {},
     "output_type": "execute_result"
    }
   ],
   "source": [
    "pldf_pv"
   ]
  },
  {
   "cell_type": "markdown",
   "id": "06bcac4d-8371-4087-91b4-ec3b1a1b0e27",
   "metadata": {
    "jp-MarkdownHeadingCollapsed": true
   },
   "source": [
    "# Write to FSDH\n",
    "Does not work yet"
   ]
  },
  {
   "cell_type": "code",
   "execution_count": null,
   "id": "63a05f8d-ce33-491b-aeb2-3984eef1eeff",
   "metadata": {},
   "outputs": [],
   "source": [
    "from azure.identity import DefaultAzureCredential\n",
    "from azure.storage.blob import BlobServiceClient"
   ]
  },
  {
   "cell_type": "code",
   "execution_count": null,
   "id": "e7718c01-15da-44f5-950f-27e395ee97ad",
   "metadata": {},
   "outputs": [],
   "source": [
    "credential = DefaultAzureCredential()"
   ]
  },
  {
   "cell_type": "code",
   "execution_count": null,
   "id": "3a04c431-d646-46a8-b6a5-cec6fd5f3f74",
   "metadata": {},
   "outputs": [],
   "source": [
    "credential"
   ]
  },
  {
   "cell_type": "code",
   "execution_count": null,
   "id": "2e86ffca-cd65-4b95-88cc-578eca4ddcb7",
   "metadata": {},
   "outputs": [],
   "source": [
    "blob_service_client = BlobServiceClient(\n",
    "    account_url=\"https://fsdhprojteympoc.blob.core.windows.net/\",\n",
    "    credential=credential\n",
    ")"
   ]
  },
  {
   "cell_type": "code",
   "execution_count": null,
   "id": "29d11dcd-0c7d-445a-9b1f-3607e2f5b812",
   "metadata": {},
   "outputs": [],
   "source": [
    "blob_service_client"
   ]
  },
  {
   "cell_type": "code",
   "execution_count": null,
   "id": "5edadf4f-ef3d-473b-a023-962509800d91",
   "metadata": {},
   "outputs": [],
   "source": [
    "storage_opts = {\n",
    "    \"anon\": False,\n",
    "    \"credential\": credential\n",
    "}"
   ]
  },
  {
   "cell_type": "code",
   "execution_count": null,
   "id": "ead36de5-6a35-4f34-81d0-fe67d36bb16f",
   "metadata": {},
   "outputs": [],
   "source": [
    "pldf_pv.write_delta(\n",
    "    \"wasbs://datahub@fsdhprojteympoc.blob.core.windows.net/pv\",\n",
    "    storage_options=storage_opts\n",
    ")"
   ]
  },
  {
   "cell_type": "markdown",
   "id": "d19d4236-601b-4dbf-a88a-36476eeb6572",
   "metadata": {},
   "source": [
    "# Dice and slice"
   ]
  },
  {
   "cell_type": "code",
   "execution_count": null,
   "id": "4b8bacb4-488c-4ae2-998f-4b9b02b9b73e",
   "metadata": {},
   "outputs": [],
   "source": [
    "pldf_pv.style.tab_style(\n",
    "    style.fill(\"yellow\"),\n",
    "    loc.body(rows=pl.col(\"PV_pot_kWh_p_south_vert_tilt\") == pl.col(\"PV_pot_kWh_p_south_vert_tilt\").max()),\n",
    ")  \n"
   ]
  },
  {
   "cell_type": "code",
   "execution_count": null,
   "id": "a53ab044-6d9f-4739-9c70-87e16514408d",
   "metadata": {},
   "outputs": [],
   "source": [
    "pldf_pv.head(10).style.tab_spanner(\n",
    "    \"Photovoltaic potential\", cs.starts_with(\"PV\")\n",
    ")  "
   ]
  },
  {
   "cell_type": "code",
   "execution_count": 19,
   "id": "7c831edb-961e-43d9-a0f6-e5d94ae5c655",
   "metadata": {},
   "outputs": [],
   "source": [
    "# Colors at https://natural-resources.canada.ca/energy/energy-sources-distribution/renewables/solar-photovoltaic-energy/tools-solar-photovoltaic-energy/photovoltaic-and-solar-resource-maps/18366\n",
    "# Annual PV potential; south facing with latitude tilt\n",
    "gc_pv_colors = {\n",
    "    '0-500': '#010080',\n",
    "    '500-600': '#0000CC',\n",
    "    '600-700': '#0099FF',\n",
    "    '700-800': '#009999',\n",
    "    '800-900': '#01CC00',\n",
    "    '900-1000': '#00FF01',\n",
    "    '1000-1100': '#CCFF00',\n",
    "    '1100-1200': '#FFFF00',\n",
    "    '1200-1300': '#FFCC00',\n",
    "    '1300-1400': '#FE9900',\n",
    "    '1400+': '#FE332D'\n",
    "}"
   ]
  },
  {
   "cell_type": "code",
   "execution_count": 20,
   "id": "c9ee3d2a-f217-4ae7-aac3-dd0b59828008",
   "metadata": {},
   "outputs": [
    {
     "data": {
      "text/html": [
       "<span style='background-color:#010080; color:white; padding:5px'>0-500</span>"
      ],
      "text/plain": [
       "<IPython.core.display.HTML object>"
      ]
     },
     "metadata": {},
     "output_type": "display_data"
    },
    {
     "data": {
      "text/html": [
       "<span style='background-color:#0000CC; color:white; padding:5px'>500-600</span>"
      ],
      "text/plain": [
       "<IPython.core.display.HTML object>"
      ]
     },
     "metadata": {},
     "output_type": "display_data"
    },
    {
     "data": {
      "text/html": [
       "<span style='background-color:#0099FF; color:white; padding:5px'>600-700</span>"
      ],
      "text/plain": [
       "<IPython.core.display.HTML object>"
      ]
     },
     "metadata": {},
     "output_type": "display_data"
    },
    {
     "data": {
      "text/html": [
       "<span style='background-color:#009999; color:white; padding:5px'>700-800</span>"
      ],
      "text/plain": [
       "<IPython.core.display.HTML object>"
      ]
     },
     "metadata": {},
     "output_type": "display_data"
    },
    {
     "data": {
      "text/html": [
       "<span style='background-color:#01CC00; color:white; padding:5px'>800-900</span>"
      ],
      "text/plain": [
       "<IPython.core.display.HTML object>"
      ]
     },
     "metadata": {},
     "output_type": "display_data"
    },
    {
     "data": {
      "text/html": [
       "<span style='background-color:#00FF01; color:white; padding:5px'>900-1000</span>"
      ],
      "text/plain": [
       "<IPython.core.display.HTML object>"
      ]
     },
     "metadata": {},
     "output_type": "display_data"
    },
    {
     "data": {
      "text/html": [
       "<span style='background-color:#CCFF00; color:white; padding:5px'>1000-1100</span>"
      ],
      "text/plain": [
       "<IPython.core.display.HTML object>"
      ]
     },
     "metadata": {},
     "output_type": "display_data"
    },
    {
     "data": {
      "text/html": [
       "<span style='background-color:#FFFF00; color:white; padding:5px'>1100-1200</span>"
      ],
      "text/plain": [
       "<IPython.core.display.HTML object>"
      ]
     },
     "metadata": {},
     "output_type": "display_data"
    },
    {
     "data": {
      "text/html": [
       "<span style='background-color:#FFCC00; color:white; padding:5px'>1200-1300</span>"
      ],
      "text/plain": [
       "<IPython.core.display.HTML object>"
      ]
     },
     "metadata": {},
     "output_type": "display_data"
    },
    {
     "data": {
      "text/html": [
       "<span style='background-color:#FE9900; color:white; padding:5px'>1300-1400</span>"
      ],
      "text/plain": [
       "<IPython.core.display.HTML object>"
      ]
     },
     "metadata": {},
     "output_type": "display_data"
    },
    {
     "data": {
      "text/html": [
       "<span style='background-color:#FE332D; color:white; padding:5px'>1400+</span>"
      ],
      "text/plain": [
       "<IPython.core.display.HTML object>"
      ]
     },
     "metadata": {},
     "output_type": "display_data"
    }
   ],
   "source": [
    "import IPython.display as ipd\n",
    "\n",
    "for interval, color in gc_pv_colors.items():\n",
    "    ipd.display(ipd.HTML(f\"<span style='background-color:{color}; color:white; padding:5px'>{interval}</span>\"))"
   ]
  },
  {
   "cell_type": "code",
   "execution_count": null,
   "id": "b7ac53ad-0ab7-451f-b866-4ba5ba5c28cf",
   "metadata": {},
   "outputs": [],
   "source": []
  }
 ],
 "metadata": {
  "kernelspec": {
   "display_name": "twins",
   "language": "python",
   "name": "twins"
  },
  "language_info": {
   "codemirror_mode": {
    "name": "ipython",
    "version": 3
   },
   "file_extension": ".py",
   "mimetype": "text/x-python",
   "name": "python",
   "nbconvert_exporter": "python",
   "pygments_lexer": "ipython3",
   "version": "3.12.4"
  }
 },
 "nbformat": 4,
 "nbformat_minor": 5
}
