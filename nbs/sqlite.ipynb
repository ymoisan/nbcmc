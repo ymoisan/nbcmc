{
 "cells": [
  {
   "cell_type": "code",
   "execution_count": null,
   "id": "5a2e709d-b9a5-482a-844d-00528d78211d",
   "metadata": {},
   "outputs": [],
   "source": [
    "import sqlite3, getpass\n",
    "import pandas as pd\n",
    "import polars as pl\n",
    "from itables import show\n",
    "# import itables.options as opt\n",
    "# opt.maxBytes = 131072"
   ]
  },
  {
   "cell_type": "code",
   "execution_count": null,
   "id": "e6c2d323-ad2d-4a0c-9b90-def28769085b",
   "metadata": {},
   "outputs": [
    {
     "name": "stdin",
     "output_type": "stream",
     "text": [
      "Base directory for SQLite files :  ········\n"
     ]
    }
   ],
   "source": [
    "sqlite_dir = getpass.getpass(prompt='Base directory for SQLite files : ')"
   ]
  },
  {
   "cell_type": "code",
   "execution_count": null,
   "id": "41d926a6-fa19-4e6f-b543-839f1a497118",
   "metadata": {},
   "outputs": [
    {
     "name": "stdout",
     "output_type": "stream",
     "text": [
      "('DATA',)\n",
      "('HEADER',)\n",
      "('OmF',)\n"
     ]
    }
   ],
   "source": [
    "#connection = sqlite3.connect(f\"{sqlite_dir}synop_b.2024031112.sqlite\")\n",
    "\n",
    "connection = sqlite3.connect(f\"{sqlite_dir}2024031318__sqlite\")\n",
    "cursor = connection.cursor()\n",
    "\n",
    "query = \"SELECT name FROM sqlite_master WHERE type='table';\"\n",
    "cursor.execute(query)\n",
    "tables = cursor.fetchall() # ('DATA',) ('HEADER',) ('OmF',)\n",
    "\n",
    "for table in tables:\n",
    "    print(table)\n",
    "\n",
    "connection.close()"
   ]
  },
  {
   "cell_type": "code",
   "execution_count": null,
   "id": "3b7929a1-e4fd-40ca-82d7-0dfa297a7c53",
   "metadata": {},
   "outputs": [],
   "source": [
    "# connection = sqlite3.connect(f\"{sqlite_dir}synop_b.2024031112.sqlite\")\n",
    "connection = sqlite3.connect(f\"{sqlite_dir}2024031318__sqlite\")\n",
    "# burp2rdb\n",
    "\n",
    "data_table = 'DATA'\n",
    "header_table = 'HEADER'\n",
    "# Define the SQL query you want to execute\n",
    "query_data = f\"SELECT * FROM {data_table};\"\n",
    "query_header = f\"SELECT * FROM {header_table};\"\n",
    "\n",
    "# Execute the query and store the result in a DataFrame\n",
    "result_data = pd.read_sql_query(query_data, connection)\n",
    "result_data_arrow = pd.read_sql_query(query_data, connection, dtype_backend='pyarrow')\n",
    "result_header = pd.read_sql_query(query_header, connection)\n",
    "\n",
    "connection.close()"
   ]
  },
  {
   "cell_type": "code",
   "execution_count": null,
   "id": "01777572-5e69-4c41-af90-2fe2597e5225",
   "metadata": {},
   "outputs": [],
   "source": [
    "result_data_pl_df = pl.from_pandas(result_data)"
   ]
  },
  {
   "cell_type": "code",
   "execution_count": null,
   "id": "127b9848-245c-46a4-b510-d55d5afa27ba",
   "metadata": {},
   "outputs": [
    {
     "name": "stdout",
     "output_type": "stream",
     "text": [
      "<class 'pandas.core.frame.DataFrame'>\n",
      "<class 'polars.dataframe.frame.DataFrame'>\n"
     ]
    }
   ],
   "source": [
    "print(type(result_data))\n",
    "print(type(result_data_pl_df))"
   ]
  },
  {
   "cell_type": "code",
   "execution_count": null,
   "id": "5d5c2ae8-08ba-415b-92c5-9654a951d869",
   "metadata": {},
   "outputs": [],
   "source": [
    "delta_lake_df = pl.scan_delta(\"tar_swob_no_optimization\")"
   ]
  },
  {
   "cell_type": "code",
   "execution_count": null,
   "id": "79a090c7-1d77-4498-8716-4e232adc8cef",
   "metadata": {},
   "outputs": [
    {
     "name": "stdout",
     "output_type": "stream",
     "text": [
      "ID_DATA          int64\n",
      "ID_OBS           int64\n",
      "BURP_BTYP        int64\n",
      "VCOORD         float64\n",
      "VARNO            int64\n",
      "VCOORD_TYPE     object\n",
      "OBSVALUE       float64\n",
      "FLAG             int64\n",
      "OMP             object\n",
      "OMA             object\n",
      "OBS_ERROR       object\n",
      "FG_ERROR        object\n",
      "FSO             object\n",
      "dtype: object\n"
     ]
    }
   ],
   "source": [
    "print(result_data.dtypes)"
   ]
  },
  {
   "cell_type": "code",
   "execution_count": null,
   "id": "2e20762c-fe41-460b-8a44-0d1cf5082e79",
   "metadata": {},
   "outputs": [
    {
     "name": "stdout",
     "output_type": "stream",
     "text": [
      "[Int64, Int64, Int64, Float64, Int64, String, Float64, Int64, String, String, String, String, String]\n"
     ]
    }
   ],
   "source": [
    "print(result_data_pl_df.dtypes)"
   ]
  },
  {
   "cell_type": "code",
   "execution_count": null,
   "id": "e203e90a-a47a-4f53-90f0-dc1bc249096f",
   "metadata": {},
   "outputs": [],
   "source": [
    "# result_data_arrow = pd.read_sql_query(query_data, connection, dtype_backend='pyarrow')\n",
    "print(result_data_arrow.dtypes)"
   ]
  },
  {
   "cell_type": "code",
   "execution_count": null,
   "id": "3d1c4c0d-722b-419e-af36-84e74163d31a",
   "metadata": {},
   "outputs": [
    {
     "data": {
      "text/html": [
       "<table id=\"itables_36238bfc_f3c1_4380_ba12_2cb90f0b0b71\" class=\"display nowrap\" data-quarto-disable-processing=\"true\" style=\"table-layout:auto;width:auto;margin:auto;caption-side:bottom\">\n",
       "<thead>\n",
       "    <tr style=\"text-align: right;\">\n",
       "      \n",
       "      <th>ID_DATA</th>\n",
       "      <th>ID_OBS</th>\n",
       "      <th>BURP_BTYP</th>\n",
       "      <th>VCOORD</th>\n",
       "      <th>VARNO</th>\n",
       "      <th>VCOORD_TYPE</th>\n",
       "      <th>OBSVALUE</th>\n",
       "      <th>FLAG</th>\n",
       "      <th>OMP</th>\n",
       "      <th>OMA</th>\n",
       "      <th>OBS_ERROR</th>\n",
       "      <th>FG_ERROR</th>\n",
       "      <th>FSO</th>\n",
       "    </tr>\n",
       "  </thead><tbody><tr><td>Loading... (need <a href=https://mwouts.github.io/itables/troubleshooting.html>help</a>?)</td></tr></tbody>\n",
       "\n",
       "</table>\n",
       "<link href=\"https://www.unpkg.com/dt_for_itables@2.0.1/dt_bundle.css\" rel=\"stylesheet\">\n",
       "<script type=\"module\">\n",
       "    import {DataTable, jQuery as $} from 'https://www.unpkg.com/dt_for_itables@2.0.1/dt_bundle.js';\n",
       "\n",
       "    document.querySelectorAll(\"#itables_36238bfc_f3c1_4380_ba12_2cb90f0b0b71:not(.dataTable)\").forEach(table => {\n",
       "        // Define the table data\n",
       "        const data = [[4, 1, 0, null, 12004, null, 288.20001220703125, 0, null, null, null, null, null], [30, 2, 0, null, 12004, null, 285.6000061035156, 0, null, null, null, null, null], [44, 3, 0, null, 12004, null, 300.20001220703125, 0, null, null, null, null, null], [66, 4, 0, null, 12004, null, 302.6000061035156, 0, null, null, null, null, null], [93, 5, 0, null, 12004, null, 297.1000061035156, 0, null, null, null, null, null], [118, 6, 0, null, 12004, null, 298.3999938964844, 0, null, null, null, null, null], [146, 7, 0, null, 12004, null, 303.0, 0, null, null, null, null, null], [171, 8, 0, null, 12004, null, 293.29998779296875, 0, null, null, null, null, null], [193, 9, 0, null, 12004, null, 289.70001220703125, 0, null, null, null, null, null], [212, 10, 0, null, 12004, null, 292.0, 0, null, null, null, null, null], [231, 11, 0, null, 12004, null, 285.79998779296875, 0, null, null, null, null, null], [259, 12, 0, null, 12004, null, 286.1000061035156, 0, null, null, null, null, null], [282, 13, 0, null, 12004, null, 289.29998779296875, 0, null, null, null, null, null], [308, 14, 0, null, 12004, null, 285.8999938964844, 0, null, null, null, null, null], [333, 15, 0, null, 12004, null, 283.5, 0, null, null, null, null, null], [356, 16, 0, null, 12004, null, 284.5, 0, null, null, null, null, null], [383, 17, 0, null, 12004, null, 284.0, 0, null, null, null, null, null], [406, 18, 0, null, 12004, null, 284.3999938964844, 0, null, null, null, null, null], [429, 19, 0, null, 12004, null, 281.6000061035156, 0, null, null, null, null, null], [452, 20, 0, null, 12004, null, 285.5, 0, null, null, null, null, null], [477, 21, 0, null, 12004, null, 284.70001220703125, 0, null, null, null, null, null], [504, 22, 0, null, 12004, null, 287.3999938964844, 0, null, null, null, null, null], [529, 23, 0, null, 12004, null, 283.70001220703125, 0, null, null, null, null, null], [552, 24, 0, null, 12004, null, 282.8999938964844, 0, null, null, null, null, null], [574, 25, 0, null, 12004, null, 272.8999938964844, 0, null, null, null, null, null], [599, 26, 0, null, 12004, null, 281.20001220703125, 0, null, null, null, null, null], [627, 27, 0, null, 12004, null, 281.20001220703125, 0, null, null, null, null, null], [650, 28, 0, null, 12004, null, 283.29998779296875, 0, null, null, null, null, null], [677, 29, 0, null, 12004, null, 281.5, 0, null, null, null, null, null], [703, 30, 0, null, 12004, null, 275.79998779296875, 0, null, null, null, null, null], [729, 31, 0, null, 12004, null, 283.70001220703125, 0, null, null, null, null, null], [753, 32, 0, null, 12004, null, 281.29998779296875, 0, null, null, null, null, null], [778, 33, 0, null, 12004, null, 267.3999938964844, 0, null, null, null, null, null], [802, 34, 0, null, 12004, null, 279.70001220703125, 0, null, null, null, null, null], [828, 35, 0, null, 12004, null, 281.79998779296875, 0, null, null, null, null, null], [851, 36, 0, null, 12004, null, 281.29998779296875, 0, null, null, null, null, null], [874, 37, 0, null, 12004, null, 283.1000061035156, 0, null, null, null, null, null], [901, 38, 0, null, 12004, null, 282.8999938964844, 0, null, null, null, null, null], [926, 39, 0, null, 12004, null, 279.8999938964844, 0, null, null, null, null, null], [949, 40, 0, null, 12004, null, 283.3999938964844, 0, null, null, null, null, null], [972, 41, 0, null, 12004, null, 283.0, 0, null, null, null, null, null], [997, 42, 0, null, 12004, null, 282.8999938964844, 0, null, null, null, null, null], [1020, 43, 0, null, 12004, null, 282.79998779296875, 0, null, null, null, null, null], [1043, 44, 0, null, 12004, null, 283.29998779296875, 0, null, null, null, null, null], [1068, 45, 0, null, 12004, null, 284.29998779296875, 0, null, null, null, null, null], [1091, 46, 0, null, 12004, null, 282.70001220703125, 0, null, null, null, null, null], [1118, 47, 0, null, 12004, null, 284.79998779296875, 0, null, null, null, null, null], [1145, 48, 0, null, 12004, null, 285.5, 0, null, null, null, null, null], [1170, 49, 0, null, 12004, null, 285.5, 0, null, null, null, null, null], [1193, 50, 0, null, 12004, null, 283.1000061035156, 0, null, null, null, null, null], [1216, 51, 0, null, 12004, null, 284.6000061035156, 0, null, null, null, null, null], [1241, 52, 0, null, 12004, null, 282.79998779296875, 0, null, null, null, null, null], [1266, 53, 0, null, 12004, null, 285.29998779296875, 0, null, null, null, null, null], [1293, 54, 0, null, 12004, null, 286.79998779296875, 0, null, null, null, null, null], [1309, 55, 0, null, 12004, null, 287.0, 0, null, null, null, null, null], [1334, 56, 0, null, 12004, null, 286.20001220703125, 0, null, null, null, null, null], [1354, 57, 0, null, 12004, null, 285.70001220703125, 0, null, null, null, null, null], [1377, 58, 0, null, 12004, null, 285.8999938964844, 0, null, null, null, null, null], [1400, 59, 0, null, 12004, null, 284.6000061035156, 0, null, null, null, null, null], [1423, 60, 0, null, 12004, null, 284.79998779296875, 0, null, null, null, null, null], [1448, 61, 0, null, 12004, null, 284.20001220703125, 0, null, null, null, null, null], [1473, 62, 0, null, 12004, null, 285.20001220703125, 0, null, null, null, null, null], [1496, 63, 0, null, 12004, null, 283.0, 0, null, null, null, null, null], [1523, 64, 0, null, 12004, null, 285.29998779296875, 0, null, null, null, null, null], [1548, 65, 0, null, 12004, null, 285.29998779296875, 0, null, null, null, null, null], [1573, 66, 0, null, 12004, null, 286.29998779296875, 0, null, null, null, null, null], [1600, 67, 0, null, 12004, null, 284.70001220703125, 0, null, null, null, null, null], [1625, 68, 0, null, 12004, null, 285.3999938964844, 0, null, null, null, null, null], [1650, 69, 0, null, 12004, null, 286.1000061035156, 0, null, null, null, null, null], [1673, 70, 0, null, 12004, null, 286.3999938964844, 0, null, null, null, null, null], [1698, 71, 0, null, 12004, null, 282.5, 0, null, null, null, null, null], [1725, 72, 0, null, 12004, null, 278.8999938964844, 0, null, null, null, null, null], [1748, 73, 0, null, 12004, null, 281.3999938964844, 0, null, null, null, null, null], [1771, 74, 0, null, 12004, null, 283.1000061035156, 0, null, null, null, null, null], [1798, 75, 0, null, 12004, null, 282.1000061035156, 0, null, null, null, null, null], [1820, 76, 0, null, 12004, null, 276.8999938964844, 0, null, null, null, null, null], [1845, 77, 0, null, 12004, null, 278.29998779296875, 0, null, null, null, null, null], [1873, 78, 0, null, 12004, null, 281.6000061035156, 0, null, null, null, null, null], [1896, 79, 0, null, 12004, null, 284.79998779296875, 0, null, null, null, null, null], [1923, 80, 0, null, 12004, null, 283.20001220703125, 0, null, null, null, null, null], [1945, 81, 0, null, 12004, null, 278.1000061035156, 0, null, null, null, null, null], [1973, 82, 0, null, 12004, null, 282.70001220703125, 0, null, null, null, null, null], [1996, 83, 0, null, 12004, null, 280.70001220703125, 0, null, null, null, null, null], [2020, 84, 0, null, 12004, null, 279.70001220703125, 0, null, null, null, null, null], [2048, 85, 0, null, 12004, null, 284.6000061035156, 0, null, null, null, null, null], [2071, 86, 0, null, 12004, null, 283.79998779296875, 0, null, null, null, null, null], [2098, 87, 0, null, 12004, null, 285.5, 0, null, null, null, null, null], [2124, 88, 0, null, 12004, null, 280.3999938964844, 0, null, null, null, null, null], [2150, 89, 0, null, 12004, null, 282.5, 0, null, null, null, null, null], [2173, 90, 0, null, 12004, null, 282.6000061035156, 0, null, null, null, null, null], [2196, 91, 0, null, 12004, null, 283.79998779296875, 0, null, null, null, null, null], [2219, 92, 0, null, 12004, null, 283.1000061035156, 0, null, null, null, null, null], [2242, 93, 0, null, 12004, null, 280.20001220703125, 0, null, null, null, null, null], [2265, 94, 0, null, 12004, null, 283.8999938964844, 0, null, null, null, null, null], [2292, 95, 0, null, 12004, null, 282.0, 0, null, null, null, null, null], [2319, 96, 0, null, 12004, null, 283.79998779296875, 0, null, null, null, null, null], [2346, 97, 0, null, 12004, null, 285.29998779296875, 0, null, null, null, null, null], [2371, 98, 0, null, 12004, null, 284.70001220703125, 0, null, null, null, null, null], [2398, 99, 0, null, 12004, null, 282.6000061035156, 0, null, null, null, null, null], [2421, 100, 0, null, 12004, null, 282.70001220703125, 0, null, null, null, null, null], [2444, 101, 0, null, 12004, null, 283.1000061035156, 0, null, null, null, null, null], [2467, 102, 0, null, 12004, null, 283.5, 0, null, null, null, null, null], [2490, 103, 0, null, 12004, null, 281.70001220703125, 0, null, null, null, null, null], [2515, 104, 0, null, 12004, null, 280.70001220703125, 0, null, null, null, null, null], [2538, 105, 0, null, 12004, null, 280.0, 0, null, null, null, null, null], [2561, 106, 0, null, 12004, null, 286.79998779296875, 0, null, null, null, null, null], [2583, 107, 0, null, 12004, null, 280.0, 0, null, null, null, null, null], [2608, 108, 0, null, 12004, null, 280.3999938964844, 0, null, null, null, null, null], [2638, 109, 0, null, 12004, null, 282.6000061035156, 0, null, null, null, null, null], [2665, 110, 0, null, 12004, null, 282.20001220703125, 0, null, null, null, null, null], [2688, 111, 0, null, 12004, null, 282.29998779296875, 0, null, null, null, null, null], [2713, 112, 0, null, 12004, null, 283.6000061035156, 0, null, null, null, null, null], [2740, 113, 0, null, 12004, null, 282.70001220703125, 0, null, null, null, null, null], [2763, 114, 0, null, 12004, null, 283.29998779296875, 0, null, null, null, null, null], [2790, 115, 0, null, 12004, null, 280.6000061035156, 0, null, null, null, null, null], [2813, 116, 0, null, 12004, null, 284.29998779296875, 0, null, null, null, null, null], [2840, 117, 0, null, 12004, null, 282.6000061035156, 0, null, null, null, null, null], [2864, 118, 0, null, 12004, null, 290.29998779296875, 0, null, null, null, null, null], [2890, 119, 0, null, 12004, null, 292.0, 0, null, null, null, null, null], [2916, 120, 0, null, 12004, null, 290.8999938964844, 0, null, null, null, null, null], [2941, 121, 0, null, 12004, null, 292.29998779296875, 0, null, null, null, null, null], [2966, 122, 0, null, 12004, null, 287.5, 0, null, null, null, null, null], [2994, 123, 0, null, 12004, null, 286.79998779296875, 0, null, null, null, null, null], [3015, 124, 0, null, 12004, null, 289.5, 0, null, null, null, null, null], [3041, 125, 0, null, 12004, null, 288.70001220703125, 0, null, null, null, null, null], [3066, 126, 0, null, 12004, null, 288.20001220703125, 0, null, null, null, null, null], [3089, 127, 0, null, 12004, null, 289.6000061035156, 0, null, null, null, null, null], [3115, 128, 0, null, 12004, null, 288.70001220703125, 0, null, null, null, null, null], [3138, 129, 0, null, 12004, null, 289.3999938964844, 0, null, null, null, null, null], [3164, 130, 0, null, 12004, null, 292.79998779296875, 0, null, null, null, null, null], [3188, 131, 0, null, 12004, null, 285.70001220703125, 0, null, null, null, null, null], [3217, 132, 0, null, 12004, null, 288.0, 0, null, null, null, null, null], [3237, 133, 0, null, 12004, null, 281.5, 0, null, null, null, null, null], [3260, 134, 0, null, 12004, null, 279.79998779296875, 0, null, null, null, null, null], [3283, 135, 0, null, 12004, null, 282.29998779296875, 0, null, null, null, null, null], [3308, 136, 0, null, 12004, null, 284.29998779296875, 0, null, null, null, null, null], [3335, 137, 0, null, 12004, null, 283.6000061035156, 0, null, null, null, null, null], [3358, 138, 0, null, 12004, null, 285.70001220703125, 0, null, null, null, null, null], [3381, 139, 0, null, 12004, null, 286.1000061035156, 0, null, null, null, null, null], [3404, 140, 0, null, 12004, null, 283.5, 0, null, null, null, null, null], [3427, 141, 0, null, 12004, null, 287.20001220703125, 0, null, null, null, null, null], [3454, 142, 0, null, 12004, null, 283.3999938964844, 0, null, null, null, null, null], [3479, 143, 0, null, 12004, null, 286.29998779296875, 0, null, null, null, null, null], [3504, 144, 0, null, 12004, null, 286.70001220703125, 0, null, null, null, null, null], [3527, 145, 0, null, 12004, null, 285.70001220703125, 0, null, null, null, null, null], [3550, 146, 0, null, 12004, null, 284.70001220703125, 0, null, null, null, null, null], [3573, 147, 0, null, 12004, null, 283.1000061035156, 0, null, null, null, null, null], [3596, 148, 0, null, 12004, null, 282.6000061035156, 0, null, null, null, null, null], [3623, 149, 0, null, 12004, null, 285.0, 0, null, null, null, null, null], [3648, 150, 0, null, 12004, null, 280.70001220703125, 0, null, null, null, null, null], [3671, 151, 0, null, 12004, null, 284.29998779296875, 0, null, null, null, null, null], [3696, 152, 0, null, 12004, null, 283.70001220703125, 0, null, null, null, null, null], [3721, 153, 0, null, 12004, null, 282.79998779296875, 0, null, null, null, null, null], [3743, 154, 0, null, 12004, null, 282.8999938964844, 0, null, null, null, null, null], [3770, 155, 0, null, 12004, null, 280.70001220703125, 0, null, null, null, null, null], [3795, 156, 0, null, 12004, null, 283.6000061035156, 0, null, null, null, null, null], [3810, 157, 0, null, 12004, null, 283.29998779296875, 0, null, null, null, null, null], [3835, 158, 0, null, 12004, null, 279.0, 0, null, null, null, null, null], [3858, 159, 0, null, 12004, null, 282.3999938964844, 0, null, null, null, null, null], [3881, 160, 0, null, 12004, null, 283.3999938964844, 0, null, null, null, null, null], [3904, 161, 0, null, 12004, null, 286.6000061035156, 0, null, null, null, null, null], [3927, 162, 0, null, 12004, null, 285.8999938964844, 0, null, null, null, null, null], [3954, 163, 0, null, 12004, null, 286.5, 0, null, null, null, null, null], [3979, 164, 0, null, 12004, null, 284.20001220703125, 0, null, null, null, null, null], [4005, 165, 0, null, 12004, null, 286.1000061035156, 0, null, null, null, null, null], [4028, 166, 0, null, 12004, null, 287.1000061035156, 0, null, null, null, null, null], [4055, 167, 0, null, 12004, null, 287.20001220703125, 0, null, null, null, null, null], [4080, 168, 0, null, 12004, null, 284.3999938964844, 0, null, null, null, null, null], [4102, 169, 0, null, 12004, null, 280.20001220703125, 0, null, null, null, null, null], [4128, 170, 0, null, 12004, null, 283.79998779296875, 0, null, null, null, null, null], [4152, 171, 0, null, 12004, null, 276.3999938964844, 0, null, null, null, null, null], [4178, 172, 0, null, 12004, null, 287.20001220703125, 0, null, null, null, null, null], [4203, 173, 0, null, 12004, null, 284.3999938964844, 0, null, null, null, null, null], [4226, 174, 0, null, 12004, null, 284.3999938964844, 0, null, null, null, null, null], [4249, 175, 0, null, 12004, null, 286.1000061035156, 0, null, null, null, null, null], [4274, 176, 0, null, 12004, null, 285.70001220703125, 0, null, null, null, null, null], [4297, 177, 0, null, 12004, null, 283.29998779296875, 0, null, null, null, null, null], [4319, 178, 0, null, 12004, null, 278.6000061035156, 0, null, null, null, null, null], [4345, 179, 0, null, 12004, null, 283.70001220703125, 0, null, null, null, null, null], [4369, 180, 0, null, 12004, null, 275.70001220703125, 0, null, null, null, null, null], [4397, 181, 0, null, 12004, null, 284.3999938964844, 0, null, null, null, null, null], [4420, 182, 0, null, 12004, null, 283.79998779296875, 0, null, null, null, null, null], [4443, 183, 0, null, 12004, null, 284.5, 0, null, null, null, null, null], [4468, 184, 0, null, 12004, null, 285.20001220703125, 0, null, null, null, null, null], [4495, 185, 0, null, 12004, null, 286.29998779296875, 0, null, null, null, null, null], [4522, 186, 0, null, 12004, null, 286.6000061035156, 0, null, null, null, null, null], [4549, 187, 0, null, 12004, null, 285.3999938964844, 0, null, null, null, null, null], [4572, 188, 0, null, 12004, null, 286.3999938964844, 0, null, null, null, null, null], [4597, 189, 0, null, 12004, null, 286.70001220703125, 0, null, null, null, null, null], [4613, 190, 0, null, 12004, null, 286.3999938964844, 0, null, null, null, null, null], [4636, 191, 0, null, 12004, null, 282.5, 0, null, null, null, null, null], [4659, 192, 0, null, 12004, null, 284.70001220703125, 0, null, null, null, null, null], [4684, 193, 0, null, 12004, null, 282.6000061035156, 0, null, null, null, null, null], [4707, 194, 0, null, 12004, null, 283.6000061035156, 0, null, null, null, null, null], [4734, 195, 0, null, 12004, null, 282.1000061035156, 0, null, null, null, null, null], [4757, 196, 0, null, 12004, null, 282.8999938964844, 0, null, null, null, null, null], [4784, 197, 0, null, 12004, null, 283.0, 0, null, null, null, null, null], [4809, 198, 0, null, 12004, null, 282.29998779296875, 0, null, null, null, null, null], [4832, 199, 0, null, 12004, null, 280.6000061035156, 0, null, null, null, null, null], [4855, 200, 0, null, 12004, null, 305.5, 0, null, null, null, null, null], [4877, 201, 0, null, 12004, null, 302.29998779296875, 0, null, null, null, null, null], [4897, 202, 0, null, 12004, null, 299.1000061035156, 0, null, null, null, null, null], [4917, 203, 0, null, 12004, null, 301.20001220703125, 0, null, null, null, null, null], [4937, 204, 0, null, 12004, null, 301.1000061035156, 0, null, null, null, null, null], [4952, 205, 0, null, 12004, null, 297.5, 0, null, null, null, null, null], [4972, 206, 0, null, 12004, null, 298.70001220703125, 0, null, null, null, null, null], [4992, 207, 0, null, 12004, null, 299.8999938964844, 0, null, null, null, null, null], [5019, 208, 0, null, 12004, null, 297.79998779296875, 0, null, null, null, null, null], [5039, 209, 0, null, 12004, null, 299.0, 0, null, null, null, null, null], [5068, 210, 0, null, 12004, null, 299.5, 0, null, null, null, null, null], [5088, 211, 0, null, 12004, null, 302.70001220703125, 0, null, null, null, null, null], [5109, 212, 0, null, 12004, null, 301.8999938964844, 0, null, null, null, null, null], [5130, 213, 0, null, 12004, null, 303.79998779296875, 0, null, null, null, null, null], [5151, 214, 0, null, 12004, null, 286.79998779296875, 0, null, null, null, null, null], [5172, 215, 0, null, 12004, null, 282.8999938964844, 0, null, null, null, null, null], [5193, 216, 0, null, 12004, null, 301.70001220703125, 0, null, null, null, null, null], [5218, 217, 0, null, 12004, null, 299.70001220703125, 0, null, null, null, null, null], [5228, 218, 0, null, 12004, null, 299.1000061035156, 0, null, null, null, null, null], [5238, 219, 0, null, 12004, null, 299.29998779296875, 0, null, null, null, null, null], [5246, 220, 0, null, 12004, null, 299.8999938964844, 0, null, null, null, null, null], [5255, 221, 0, null, 12004, null, 298.8999938964844, 0, null, null, null, null, null], [5265, 222, 0, null, 12004, null, 297.70001220703125, 0, null, null, null, null, null], [5275, 223, 0, null, 12004, null, 300.20001220703125, 0, null, null, null, null, null], [5285, 224, 0, null, 12004, null, 297.1000061035156, 0, null, null, null, null, null], [5295, 225, 0, null, 12004, null, 299.29998779296875, 0, null, null, null, null, null], [5305, 226, 0, null, 12004, null, 297.0, 0, null, null, null, null, null], [5315, 227, 0, null, 12004, null, 301.20001220703125, 0, null, null, null, null, null], [5324, 228, 0, null, 12004, null, 301.5, 0, null, null, null, null, null], [5333, 229, 0, null, 12004, null, 301.5, 0, null, null, null, null, null], [5341, 230, 0, null, 12004, null, 298.29998779296875, 0, null, null, null, null, null], [5351, 231, 0, null, 12004, null, 301.1000061035156, 0, null, null, null, null, null], [5360, 232, 0, null, 12004, null, 300.8999938964844, 0, null, null, null, null, null], [5370, 233, 0, null, 12004, null, 295.5, 0, null, null, null, null, null], [5380, 234, 0, null, 12004, null, 297.1000061035156, 0, null, null, null, null, null], [5390, 235, 0, null, 12004, null, 298.5, 0, null, null, null, null, null], [5399, 236, 0, null, 12004, null, 297.0, 0, null, null, null, null, null], [5408, 237, 0, null, 12004, null, 297.6000061035156, 0, null, null, null, null, null], [5415, 238, 0, null, 12004, null, 298.3999938964844, 0, null, null, null, null, null], [5423, 239, 0, null, 12004, null, 295.6000061035156, 0, null, null, null, null, null], [5433, 240, 0, null, 12004, null, 298.5, 0, null, null, null, null, null], [5443, 241, 0, null, 12004, null, 297.8999938964844, 0, null, null, null, null, null], [5453, 242, 0, null, 12004, null, 298.8999938964844, 0, null, null, null, null, null], [5460, 243, 0, null, 12004, null, 298.1000061035156, 0, null, null, null, null, null], [5470, 244, 0, null, 12004, null, 299.29998779296875, 0, null, null, null, null, null], [5479, 245, 0, null, 12004, null, 299.29998779296875, 0, null, null, null, null, null], [5488, 246, 0, null, 12004, null, 294.20001220703125, 0, null, null, null, null, null], [5498, 247, 0, null, 12004, null, 296.20001220703125, 0, null, null, null, null, null], [5508, 248, 0, null, 12004, null, 294.8999938964844, 0, null, null, null, null, null], [5518, 249, 0, null, 12004, null, 288.6000061035156, 0, null, null, null, null, null], [5528, 250, 0, null, 12004, null, 295.70001220703125, 0, null, null, null, null, null], [5538, 251, 0, null, 12004, null, 298.3999938964844, 0, null, null, null, null, null], [5548, 252, 0, null, 12004, null, 297.79998779296875, 0, null, null, null, null, null], [5558, 253, 0, null, 12004, null, 301.20001220703125, 0, null, null, null, null, null], [5567, 254, 0, null, 12004, null, 302.20001220703125, 0, null, null, null, null, null], [5577, 255, 0, null, 12004, null, 297.8999938964844, 0, null, null, null, null, null], [5584, 256, 0, null, 12004, null, 299.3999938964844, 0, null, null, null, null, null], [5592, 257, 0, null, 12004, null, 290.6000061035156, 0, null, null, null, null, null], [5602, 258, 0, null, 12004, null, 288.29998779296875, 0, null, null, null, null, null], [5612, 259, 0, null, 12004, null, 289.1000061035156, 0, null, null, null, null, null], [5622, 260, 0, null, 12004, null, 285.20001220703125, 0, null, null, null, null, null], [5632, 261, 0, null, 12004, null, 295.20001220703125, 0, null, null, null, null, null], [5642, 262, 0, null, 12004, null, 292.6000061035156, 0, null, null, null, null, null], [5652, 263, 0, null, 12004, null, 293.29998779296875, 0, null, null, null, null, null], [5660, 264, 0, null, 12004, null, 296.6000061035156, 0, null, null, null, null, null], [5670, 265, 0, null, 12004, null, 289.6000061035156, 0, null, null, null, null, null], [5680, 266, 0, null, 12004, null, 299.6000061035156, 0, null, null, null, null, null], [5690, 267, 0, null, 12004, null, 301.8999938964844, 0, null, null, null, null, null], [5700, 268, 0, null, 12004, null, 297.20001220703125, 0, null, null, null, null, null], [5710, 269, 0, null, 12004, null, 297.0, 0, null, null, null, null, null], [5720, 270, 0, null, 12004, null, 298.8999938964844, 0, null, null, null, null, null], [5730, 271, 0, null, 12004, null, 298.3999938964844, 0, null, null, null, null, null], [5740, 272, 0, null, 12004, null, 290.6000061035156, 0, null, null, null, null, null], [5750, 273, 0, null, 12004, null, 294.8999938964844, 0, null, null, null, null, null], [5760, 274, 0, null, 12004, null, 290.5, 0, null, null, null, null, null], [5770, 275, 0, null, 12004, null, 289.3999938964844, 0, null, null, null, null, null], [5779, 276, 0, null, 12004, null, 289.8999938964844, 0, null, null, null, null, null], [5787, 277, 0, null, 12004, null, 289.3999938964844, 0, null, null, null, null, null], [5796, 278, 0, null, 12004, null, 295.5, 0, null, null, null, null, null], [5804, 279, 0, null, 12004, null, 293.3999938964844, 0, null, null, null, null, null], [5814, 280, 0, null, 12004, null, 293.6000061035156, 0, null, null, null, null, null], [5824, 281, 0, null, 12004, null, 290.8999938964844, 0, null, null, null, null, null], [5834, 282, 0, null, 12004, null, 295.0, 0, null, null, null, null, null], [5847, 284, 0, null, 12004, null, 291.1000061035156, 0, null, null, null, null, null], [5856, 285, 0, null, 12004, null, 292.29998779296875, 0, null, null, null, null, null], [5864, 286, 0, null, 12004, null, 298.79998779296875, 0, null, null, null, null, null], [5874, 287, 0, null, 12004, null, 291.70001220703125, 0, null, null, null, null, null], [5884, 288, 0, null, 12004, null, 292.29998779296875, 0, null, null, null, null, null], [5894, 289, 0, null, 12004, null, 290.0, 0, null, null, null, null, null], [5904, 290, 0, null, 12004, null, 295.79998779296875, 0, null, null, null, null, null], [5914, 291, 0, null, 12004, null, 294.20001220703125, 0, null, null, null, null, null], [5932, 292, 0, null, 12004, null, 300.70001220703125, 0, null, null, null, null, null], [5942, 293, 0, null, 12004, null, 296.1000061035156, 0, null, null, null, null, null], [5952, 294, 0, null, 12004, null, 295.6000061035156, 0, null, null, null, null, null], [5965, 296, 0, null, 12004, null, 292.6000061035156, 0, null, null, null, null, null], [5975, 297, 0, null, 12004, null, 286.0, 0, null, null, null, null, null], [5985, 298, 0, null, 12004, null, 299.1000061035156, 0, null, null, null, null, null], [5995, 299, 0, null, 12004, null, 299.20001220703125, 0, null, null, null, null, null], [6005, 300, 0, null, 12004, null, 296.29998779296875, 0, null, null, null, null, null], [6015, 301, 0, null, 12004, null, 300.20001220703125, 0, null, null, null, null, null], [6024, 302, 0, null, 12004, null, 295.20001220703125, 0, null, null, null, null, null], [6032, 303, 0, null, 12004, null, 297.79998779296875, 0, null, null, null, null, null], [6041, 304, 0, null, 12004, null, 294.8999938964844, 0, null, null, null, null, null], [6051, 305, 0, null, 12004, null, 295.6000061035156, 0, null, null, null, null, null], [6061, 306, 0, null, 12004, null, 297.20001220703125, 0, null, null, null, null, null], [6071, 307, 0, null, 12004, null, 294.8999938964844, 0, null, null, null, null, null], [6089, 309, 0, null, 12004, null, 300.5, 0, null, null, null, null, null], [6099, 310, 0, null, 12004, null, 296.3999938964844, 0, null, null, null, null, null], [6115, 312, 0, null, 12004, null, 297.20001220703125, 0, null, null, null, null, null], [6125, 313, 0, null, 12004, null, 298.70001220703125, 0, null, null, null, null, null], [6135, 314, 0, null, 12004, null, 295.1000061035156, 0, null, null, null, null, null], [6145, 315, 0, null, 12004, null, 297.29998779296875, 0, null, null, null, null, null], [6155, 316, 0, null, 12004, null, 294.20001220703125, 0, null, null, null, null, null], [6165, 317, 0, null, 12004, null, 297.0, 0, null, null, null, null, null], [6174, 318, 0, null, 12004, null, 298.3999938964844, 0, null, null, null, null, null], [6181, 319, 0, null, 12004, null, 298.3999938964844, 0, null, null, null, null, null], [6189, 320, 0, null, 12004, null, 297.5, 0, null, null, null, null, null], [6199, 321, 0, null, 12004, null, 299.3999938964844, 0, null, null, null, null, null], [6209, 322, 0, null, 12004, null, 296.79998779296875, 0, null, null, null, null, null], [6219, 323, 0, null, 12004, null, 298.6000061035156, 0, null, null, null, null, null], [6228, 324, 0, null, 12004, null, 296.0, 0, null, null, null, null, null], [6238, 325, 0, null, 12004, null, 298.79998779296875, 0, null, null, null, null, null], [6248, 326, 0, null, 12004, null, 295.3999938964844, 0, null, null, null, null, null], [6258, 327, 0, null, 12004, null, 298.6000061035156, 0, null, null, null, null, null], [6267, 328, 0, null, 12004, null, 297.6000061035156, 0, null, null, null, null, null], [6277, 329, 0, null, 12004, null, 298.5, 0, null, null, null, null, null], [6287, 330, 0, null, 12004, null, 298.5, 0, null, null, null, null, null], [6301, 332, 0, null, 12004, null, 296.1000061035156, 0, null, null, null, null, null], [6311, 333, 0, null, 12004, null, 295.79998779296875, 0, null, null, null, null, null], [6321, 334, 0, null, 12004, null, 295.20001220703125, 0, null, null, null, null, null], [6331, 335, 0, null, 12004, null, 297.29998779296875, 0, null, null, null, null, null], [6341, 336, 0, null, 12004, null, 295.29998779296875, 0, null, null, null, null, null], [6350, 337, 0, null, 12004, null, 290.29998779296875, 0, null, null, null, null, null], [6357, 338, 0, null, 12004, null, 290.8999938964844, 0, null, null, null, null, null], [6364, 339, 0, null, 12004, null, 297.29998779296875, 0, null, null, null, null, null], [6372, 340, 0, null, 12004, null, 301.0, 0, null, null, null, null, null], [6382, 341, 0, null, 12004, null, 297.20001220703125, 0, null, null, null, null, null], [6392, 342, 0, null, 12004, null, 289.0, 0, null, null, null, null, null], [6402, 343, 0, null, 12004, null, 291.8999938964844, 0, null, null, null, null, null], [6412, 344, 0, null, 12004, null, 285.79998779296875, 0, null, null, null, null, null], [6422, 345, 0, null, 12004, null, 288.0, 0, null, null, null, null, null], [6431, 346, 0, null, 12004, null, 294.79998779296875, 0, null, null, null, null, null], [6438, 347, 0, null, 12004, null, 290.29998779296875, 0, null, null, null, null, null], [6446, 348, 0, null, 12004, null, 294.6000061035156, 0, null, null, null, null, null], [6456, 349, 0, null, 12004, null, 294.6000061035156, 0, null, null, null, null, null], [6466, 350, 0, null, 12004, null, 291.0, 0, null, null, null, null, null], [6476, 351, 0, null, 12004, null, 298.3999938964844, 0, null, null, null, null, null], [6486, 352, 0, null, 12004, null, 296.79998779296875, 0, null, null, null, null, null], [6496, 353, 0, null, 12004, null, 293.29998779296875, 0, null, null, null, null, null], [6506, 354, 0, null, 12004, null, 295.20001220703125, 0, null, null, null, null, null], [6516, 355, 0, null, 12004, null, 296.70001220703125, 0, null, null, null, null, null], [6532, 358, 0, null, 12004, null, 294.0, 0, null, null, null, null, null], [6542, 359, 0, null, 12004, null, 296.79998779296875, 0, null, null, null, null, null], [6552, 360, 0, null, 12004, null, 294.70001220703125, 0, null, null, null, null, null], [6562, 361, 0, null, 12004, null, 295.3999938964844, 0, null, null, null, null, null], [6572, 362, 0, null, 12004, null, 294.0, 0, null, null, null, null, null], [6581, 363, 0, null, 12004, null, 296.8999938964844, 0, null, null, null, null, null], [6597, 365, 0, null, 12004, null, 295.20001220703125, 0, null, null, null, null, null], [6607, 366, 0, null, 12004, null, 298.29998779296875, 0, null, null, null, null, null], [6617, 367, 0, null, 12004, null, 299.1000061035156, 0, null, null, null, null, null], [6627, 368, 0, null, 12004, null, 298.3999938964844, 0, null, null, null, null, null], [6637, 369, 0, null, 12004, null, 300.29998779296875, 0, null, null, null, null, null], [6647, 370, 0, null, 12004, null, 293.70001220703125, 0, null, null, null, null, null], [6657, 371, 0, null, 12004, null, 294.29998779296875, 0, null, null, null, null, null], [6667, 372, 0, null, 12004, null, 289.79998779296875, 0, null, null, null, null, null], [6677, 373, 0, null, 12004, null, 298.6000061035156, 0, null, null, null, null, null], [6686, 374, 0, null, 12004, null, 293.5, 0, null, null, null, null, null], [6694, 375, 0, null, 12004, null, 294.20001220703125, 0, null, null, null, null, null], [6704, 376, 0, null, 12004, null, 291.29998779296875, 0, null, null, null, null, null], [6714, 377, 0, null, 12004, null, 296.6000061035156, 0, null, null, null, null, null], [6724, 378, 0, null, 12004, null, 288.0, 0, null, null, null, null, null], [6734, 379, 0, null, 12004, null, 288.5, 0, null, null, null, null, null], [6744, 380, 0, null, 12004, null, 291.1000061035156, 0, null, null, null, null, null], [6754, 381, 0, null, 12004, null, 287.6000061035156, 0, null, null, null, null, null], [6764, 382, 0, null, 12004, null, 288.6000061035156, 0, null, null, null, null, null], [6774, 383, 0, null, 12004, null, 289.20001220703125, 0, null, null, null, null, null], [6784, 384, 0, null, 12004, null, 289.5, 0, null, null, null, null, null], [6794, 385, 0, null, 12004, null, 295.6000061035156, 0, null, null, null, null, null], [6804, 386, 0, null, 12004, null, 301.5, 0, null, null, null, null, null], [6814, 387, 0, null, 12004, null, 293.0, 0, null, null, null, null, null], [6824, 388, 0, null, 12004, null, 293.70001220703125, 0, null, null, null, null, null], [6834, 389, 0, null, 12004, null, 295.29998779296875, 0, null, null, null, null, null], [6844, 390, 0, null, 12004, null, 295.20001220703125, 0, null, null, null, null, null], [6854, 391, 0, null, 12004, null, 297.5, 0, null, null, null, null, null], [6864, 392, 0, null, 12004, null, 296.1000061035156, 0, null, null, null, null, null], [6874, 393, 0, null, 12004, null, 296.70001220703125, 0, null, null, null, null, null], [6884, 394, 0, null, 12004, null, 298.0, 0, null, null, null, null, null], [6894, 395, 0, null, 12004, null, 298.70001220703125, 0, null, null, null, null, null], [6904, 396, 0, null, 12004, null, 298.29998779296875, 0, null, null, null, null, null], [6913, 397, 0, null, 12004, null, 290.6000061035156, 0, null, null, null, null, null], [6923, 399, 0, null, 12004, null, 297.6000061035156, 0, null, null, null, null, null], [6931, 400, 0, null, 12004, null, 297.70001220703125, 0, null, null, null, null, null], [6941, 401, 0, null, 12004, null, 288.8999938964844, 0, null, null, null, null, null], [6951, 402, 0, null, 12004, null, 291.20001220703125, 0, null, null, null, null, null], [6961, 403, 0, null, 12004, null, 290.1000061035156, 0, null, null, null, null, null], [6971, 404, 0, null, 12004, null, 291.20001220703125, 0, null, null, null, null, null], [6981, 405, 0, null, 12004, null, 288.6000061035156, 0, null, null, null, null, null], [6991, 406, 0, null, 12004, null, 291.6000061035156, 0, null, null, null, null, null], [7000, 407, 0, null, 12004, null, 289.29998779296875, 0, null, null, null, null, null], [7008, 408, 0, null, 12004, null, 287.29998779296875, 0, null, null, null, null, null], [7041, 409, 0, null, 12004, null, 287.1000061035156, 0, null, null, null, null, null], [7072, 410, 0, null, 12004, null, 284.5, 0, null, null, null, null, null], [7104, 411, 0, null, 12004, null, 286.5, 0, null, null, null, null, null], [7126, 412, 0, null, 12004, null, 287.6000061035156, 0, null, null, null, null, null], [7148, 413, 0, null, 12004, null, 297.29998779296875, 0, null, null, null, null, null], [7179, 414, 0, null, 12004, null, 300.6000061035156, 0, null, null, null, null, null], [7213, 415, 0, null, 12004, null, 302.29998779296875, 0, null, null, null, null, null], [7237, 416, 0, null, 12004, null, 302.79998779296875, 0, null, null, null, null, null], [7258, 417, 0, null, 12004, null, 277.8999938964844, 0, null, null, null, null, null], [7272, 418, 0, null, 12004, null, 302.3999938964844, 0, null, null, null, null, null], [7282, 419, 0, null, 12004, null, 300.1000061035156, 0, null, null, null, null, null], [7292, 420, 0, null, 12004, null, 304.8999938964844, 0, null, null, null, null, null], [7302, 421, 0, null, 12004, null, 298.8999938964844, 0, null, null, null, null, null], [7312, 422, 0, null, 12004, null, 293.20001220703125, 0, null, null, null, null, null], [7322, 423, 0, null, 12004, null, 298.6000061035156, 0, null, null, null, null, null], [7332, 424, 0, null, 12004, null, 300.20001220703125, 0, null, null, null, null, null], [7342, 425, 0, null, 12004, null, 302.8999938964844, 0, null, null, null, null, null], [7352, 426, 0, null, 12004, null, 294.20001220703125, 0, null, null, null, null, null], [7365, 428, 0, null, 12004, null, 298.6000061035156, 0, null, null, null, null, null], [7375, 429, 0, null, 12004, null, 298.79998779296875, 0, null, null, null, null, null], [7385, 430, 0, null, 12004, null, 291.29998779296875, 0, null, null, null, null, null], [7395, 431, 0, null, 12004, null, 291.79998779296875, 0, null, null, null, null, null], [7405, 432, 0, null, 12004, null, 295.3999938964844, 0, null, null, null, null, null], [7415, 433, 0, null, 12004, null, 296.6000061035156, 0, null, null, null, null, null], [7425, 434, 0, null, 12004, null, 289.29998779296875, 0, null, null, null, null, null], [7435, 435, 0, null, 12004, null, 301.1000061035156, 0, null, null, null, null, null], [7445, 436, 0, null, 12004, null, 297.5, 0, null, null, null, null, null], [7455, 437, 0, null, 12004, null, 293.6000061035156, 0, null, null, null, null, null], [7465, 438, 0, null, 12004, null, 292.0, 0, null, null, null, null, null], [446573, 25661, 0, null, 12004, null, 287.0, 0, null, null, null, null, null], [446588, 25662, 0, null, 12004, null, 285.29998779296875, 0, null, null, null, null, null], [446601, 25663, 0, null, 12004, null, 280.79998779296875, 0, null, null, null, null, null], [446609, 25664, 0, null, 12004, null, 288.79998779296875, 0, null, null, null, null, null], [446622, 25665, 0, null, 12004, null, 285.20001220703125, 0, null, null, null, null, null], [446637, 25666, 0, null, 12004, null, 284.5, 0, null, null, null, null, null], [446648, 25667, 0, null, 12004, null, 284.5, 0, null, null, null, null, null], [446655, 25668, 0, null, 12004, null, 285.5, 0, null, null, null, null, null], [446662, 25669, 0, null, 12004, null, 278.29998779296875, 0, null, null, null, null, null], [446669, 25670, 0, null, 12004, null, 275.20001220703125, 0, null, null, null, null, null], [446677, 25671, 0, null, 12004, null, 288.1000061035156, 0, null, null, null, null, null], [446692, 25672, 0, null, 12004, null, 288.70001220703125, 0, null, null, null, null, null], [446704, 25673, 0, null, 12004, null, 284.29998779296875, 0, null, null, null, null, null], [446716, 25674, 0, null, 12004, null, 286.29998779296875, 0, null, null, null, null, null], [446736, 25676, 0, null, 12004, null, 293.1000061035156, 0, null, null, null, null, null], [446749, 25677, 0, null, 12004, null, 294.20001220703125, 0, null, null, null, null, null], [446765, 25679, 0, null, 12004, null, 294.70001220703125, 0, null, null, null, null, null], [446778, 25680, 0, null, 12004, null, 294.20001220703125, 0, null, null, null, null, null], [446794, 25681, 0, null, 12004, null, 294.8999938964844, 0, null, null, null, null, null], [446809, 25682, 0, null, 12004, null, 294.6000061035156, 0, null, null, null, null, null], [446817, 25683, 0, null, 12004, null, 292.8999938964844, 0, null, null, null, null, null], [446825, 25684, 0, null, 12004, null, 288.79998779296875, 0, null, null, null, null, null], [446838, 25685, 0, null, 12004, null, 290.8999938964844, 0, null, null, null, null, null], [446851, 25686, 0, null, 12004, null, 290.6000061035156, 0, null, null, null, null, null], [446861, 25687, 0, null, 12004, null, 288.70001220703125, 0, null, null, null, null, null], [446873, 25688, 0, null, 12004, null, 289.70001220703125, 0, null, null, null, null, null], [446886, 25689, 0, null, 12004, null, 295.0, 0, null, null, null, null, null], [446899, 25690, 0, null, 12004, null, 298.70001220703125, 0, null, null, null, null, null], [446912, 25691, 0, null, 12004, null, 298.20001220703125, 0, null, null, null, null, null], [446928, 25692, 0, null, 12004, null, 299.29998779296875, 0, null, null, null, null, null], [446941, 25693, 0, null, 12004, null, 300.29998779296875, 0, null, null, null, null, null], [446954, 25694, 0, null, 12004, null, 299.1000061035156, 0, null, null, null, null, null], [446968, 25695, 0, null, 12004, null, 301.29998779296875, 0, null, null, null, null, null], [446984, 25696, 0, null, 12004, null, 301.3999938964844, 0, null, null, null, null, null], [446997, 25697, 0, null, 12004, null, 299.20001220703125, 0, null, null, null, null, null], [447010, 25698, 0, null, 12004, null, 297.29998779296875, 0, null, null, null, null, null], [447029, 25700, 0, null, 12004, null, 294.3999938964844, 0, null, null, null, null, null], [447042, 25701, 0, null, 12004, null, 295.6000061035156, 0, null, null, null, null, null], [447054, 25702, 0, null, 12004, null, 291.29998779296875, 0, null, null, null, null, null], [447064, 25703, 0, null, 12004, null, 292.3999938964844, 0, null, null, null, null, null], [447080, 25704, 0, null, 12004, null, 294.79998779296875, 0, null, null, null, null, null], [447092, 25705, 0, null, 12004, null, 289.3999938964844, 0, null, null, null, null, null], [447103, 25707, 0, null, 12004, null, 291.20001220703125, 0, null, null, null, null, null], [447112, 25708, 0, null, 12004, null, 292.5, 0, null, null, null, null, null], [447128, 25709, 0, null, 12004, null, 293.5, 0, null, null, null, null, null], [447141, 25710, 0, null, 12004, null, 290.3999938964844, 0, null, null, null, null, null], [447154, 25711, 0, null, 12004, null, 291.20001220703125, 0, null, null, null, null, null], [447170, 25712, 0, null, 12004, null, 289.6000061035156, 0, null, null, null, null, null], [447186, 25713, 0, null, 12004, null, 291.20001220703125, 0, null, null, null, null, null], [447204, 25714, 0, null, 12004, null, 291.20001220703125, 0, null, null, null, null, null], [447212, 25715, 0, null, 12004, null, 291.0, 0, null, null, null, null, null], [447225, 25716, 0, null, 12004, null, 290.29998779296875, 0, null, null, null, null, null], [447238, 25717, 0, null, 12004, null, 292.8999938964844, 0, null, null, null, null, null], [447253, 25718, 0, null, 12004, null, 290.3999938964844, 0, null, null, null, null, null], [447269, 25719, 0, null, 12004, null, 290.1000061035156, 0, null, null, null, null, null], [447281, 25720, 0, null, 12004, null, 288.0, 0, null, null, null, null, null], [447289, 25721, 0, null, 12004, null, 289.20001220703125, 0, null, null, null, null, null], [447303, 25722, 0, null, 12004, null, 289.6000061035156, 0, null, null, null, null, null], [447310, 25723, 0, null, 12004, null, 291.70001220703125, 0, null, null, null, null, null], [447317, 25724, 0, null, 12004, null, 289.8999938964844, 0, null, null, null, null, null], [447324, 25725, 0, null, 12004, null, 290.70001220703125, 0, null, null, null, null, null], [447331, 25726, 0, null, 12004, null, 291.3999938964844, 0, null, null, null, null, null], [447345, 25727, 0, null, 12004, null, 291.5, 0, null, null, null, null, null], [447352, 25728, 0, null, 12004, null, 293.5, 0, null, null, null, null, null], [447363, 25729, 0, null, 12004, null, 293.1000061035156, 0, null, null, null, null, null], [447370, 25730, 0, null, 12004, null, 288.0, 0, null, null, null, null, null], [447381, 25732, 0, null, 12004, null, 290.3999938964844, 0, null, null, null, null, null], [447390, 25733, 0, null, 12004, null, 295.3999938964844, 0, null, null, null, null, null], [447395, 25734, 0, null, 12004, null, 293.29998779296875, 0, null, null, null, null, null], [447400, 25735, 0, null, 12004, null, 296.20001220703125, 0, null, null, null, null, null], [447405, 25736, 0, null, 12004, null, 295.6000061035156, 0, null, null, null, null, null], [447410, 25737, 0, null, 12004, null, 299.20001220703125, 0, null, null, null, null, null], [447418, 25738, 0, null, 12004, null, 289.29998779296875, 0, null, null, null, null, null], [447432, 25739, 0, null, 12004, null, 286.0, 0, null, null, null, null, null], [447442, 25740, 0, null, 12004, null, 292.70001220703125, 0, null, null, null, null, null], [447454, 25741, 0, null, 12004, null, 287.79998779296875, 0, null, null, null, null, null], [447467, 25742, 0, null, 12004, null, 290.5, 0, null, null, null, null, null], [447479, 25743, 0, null, 12004, null, 290.0, 0, null, null, null, null, null], [447492, 25744, 0, null, 12004, null, 289.29998779296875, 0, null, null, null, null, null], [447501, 25745, 0, null, 12004, null, 292.8999938964844, 0, null, null, null, null, null], [447511, 25746, 0, null, 12004, null, 293.3999938964844, 0, null, null, null, null, null], [447522, 25747, 0, null, 12004, null, 296.70001220703125, 0, null, null, null, null, null], [447530, 25748, 0, null, 12004, null, 289.5, 0, null, null, null, null, null], [447542, 25749, 0, null, 12004, null, 290.79998779296875, 0, null, null, null, null, null], [447548, 25750, 0, null, 12004, null, 293.5, 0, null, null, null, null, null], [447552, 25751, 0, null, 12004, null, 289.20001220703125, 0, null, null, null, null, null], [447559, 25752, 0, null, 12004, null, 290.0, 0, null, null, null, null, null], [447566, 25753, 0, null, 12004, null, 282.79998779296875, 0, null, null, null, null, null], [447574, 25754, 0, null, 12004, null, 298.1000061035156, 0, null, null, null, null, null], [447586, 25755, 0, null, 12004, null, 295.1000061035156, 0, null, null, null, null, null], [447598, 25756, 0, null, 12004, null, 299.79998779296875, 0, null, null, null, null, null], [447610, 25757, 0, null, 12004, null, 295.70001220703125, 0, null, null, null, null, null], [447624, 25758, 0, null, 12004, null, 296.8999938964844, 0, null, null, null, null, null], [447633, 25759, 0, null, 12004, null, 297.5, 0, null, null, null, null, null], [447648, 25760, 0, null, 12004, null, 292.0, 0, null, null, null, null, null], [447660, 25761, 0, null, 12004, null, 293.20001220703125, 0, null, null, null, null, null], [447672, 25762, 0, null, 12004, null, 294.8999938964844, 0, null, null, null, null, null], [447684, 25763, 0, null, 12004, null, 296.0, 0, null, null, null, null, null], [447699, 25764, 0, null, 12004, null, 284.70001220703125, 0, null, null, null, null, null], [447715, 25765, 0, null, 12004, null, 293.20001220703125, 0, null, null, null, null, null], [447728, 25766, 0, null, 12004, null, 293.1000061035156, 0, null, null, null, null, null], [447740, 25767, 0, null, 12004, null, 290.3999938964844, 0, null, null, null, null, null], [447752, 25768, 0, null, 12004, null, 294.5, 0, null, null, null, null, null], [447764, 25769, 0, null, 12004, null, 285.79998779296875, 0, null, null, null, null, null], [447776, 25770, 0, null, 12004, null, 291.8999938964844, 0, null, null, null, null, null], [447791, 25771, 0, null, 12004, null, 289.8999938964844, 0, null, null, null, null, null], [447804, 25772, 0, null, 12004, null, 288.6000061035156, 0, null, null, null, null, null], [447817, 25773, 0, null, 12004, null, 290.5, 0, null, null, null, null, null], [447830, 25774, 0, null, 12004, null, 290.8999938964844, 0, null, null, null, null, null], [447842, 25775, 0, null, 12004, null, 293.5, 0, null, null, null, null, null], [447853, 25777, 0, null, 12004, null, 289.8999938964844, 0, null, null, null, null, null], [447867, 25778, 0, null, 12004, null, 285.8999938964844, 0, null, null, null, null, null], [447879, 25779, 0, null, 12004, null, 285.8999938964844, 0, null, null, null, null, null], [447891, 25780, 0, null, 12004, null, 290.6000061035156, 0, null, null, null, null, null], [447905, 25781, 0, null, 12004, null, 292.29998779296875, 0, null, null, null, null, null], [447913, 25782, 0, null, 12004, null, 287.8999938964844, 0, null, null, null, null, null], [447928, 25784, 0, null, 12004, null, 293.79998779296875, 0, null, null, null, null, null], [447940, 25785, 0, null, 12004, null, 286.79998779296875, 0, null, null, null, null, null], [447952, 25786, 0, null, 12004, null, 283.0, 0, null, null, null, null, null], [447964, 25787, 0, null, 12004, null, 290.20001220703125, 0, null, null, null, null, null], [447972, 25788, 0, null, 12004, null, 290.20001220703125, 0, null, null, null, null, null], [447985, 25789, 0, null, 12004, null, 292.5, 0, null, null, null, null, null], [447997, 25790, 0, null, 12004, null, 295.3999938964844, 0, null, null, null, null, null], [448011, 25791, 0, null, 12004, null, 289.20001220703125, 0, null, null, null, null, null], [448018, 25792, 0, null, 12004, null, 287.1000061035156, 0, null, null, null, null, null], [448026, 25793, 0, null, 12004, null, 292.20001220703125, 0, null, null, null, null, null], [448043, 25794, 0, null, 12004, null, 292.5, 0, null, null, null, null, null], [448056, 25795, 0, null, 12004, null, 293.70001220703125, 0, null, null, null, null, null], [448070, 25796, 0, null, 12004, null, 293.29998779296875, 0, null, null, null, null, null], [448100, 25800, 0, null, 12004, null, 299.79998779296875, 0, null, null, null, null, null], [448108, 25801, 0, null, 12004, null, 301.0, 0, null, null, null, null, null], [448119, 25802, 0, null, 12004, null, 298.70001220703125, 0, null, null, null, null, null], [448125, 25803, 0, null, 12004, null, 291.8999938964844, 0, null, null, null, null, null], [448136, 25804, 0, null, 12004, null, 297.8999938964844, 0, null, null, null, null, null], [448145, 25805, 0, null, 12004, null, 296.0, 0, null, null, null, null, null], [448155, 25806, 0, null, 12004, null, 289.70001220703125, 0, null, null, null, null, null], [448166, 25807, 0, null, 12004, null, 286.70001220703125, 0, null, null, null, null, null], [448175, 25808, 0, null, 12004, null, 287.0, 0, null, null, null, null, null], [448185, 25809, 0, null, 12004, null, 300.29998779296875, 0, null, null, null, null, null], [448200, 25811, 0, null, 12004, null, 276.70001220703125, 0, null, null, null, null, null], [448214, 25813, 0, null, 12004, null, 274.1000061035156, 0, null, null, null, null, null], [448227, 25814, 0, null, 12004, null, 275.5, 0, null, null, null, null, null], [448240, 25815, 0, null, 12004, null, 276.0, 0, null, null, null, null, null], [448287, 25820, 0, null, 12004, null, 291.3999938964844, 0, null, null, null, null, null], [448309, 25822, 0, null, 12004, null, 260.20001220703125, 0, null, null, null, null, null], [448328, 25823, 0, null, 12004, null, 260.3999938964844, 0, null, null, null, null, null], [448347, 25824, 0, null, 12004, null, 260.3999938964844, 0, null, null, null, null, null], [448365, 25825, 0, null, 12004, null, 267.0, 0, null, null, null, null, null], [448372, 25826, 0, null, 12004, null, 279.8999938964844, 0, null, null, null, null, null], [448379, 25827, 0, null, 12004, null, 274.3999938964844, 0, null, null, null, null, null], [448386, 25828, 0, null, 12004, null, 276.20001220703125, 0, null, null, null, null, null], [448395, 25829, 0, null, 12004, null, 280.29998779296875, 0, null, null, null, null, null], [448423, 25832, 0, null, 12004, null, 278.3999938964844, 0, null, null, null, null, null], [448448, 25833, 0, null, 12004, null, 281.8999938964844, 0, null, null, null, null, null], [448470, 25834, 0, null, 12004, null, 281.3999938964844, 0, null, null, null, null, null], [448489, 25835, 0, null, 12004, null, 281.20001220703125, 0, null, null, null, null, null], [448508, 25836, 0, null, 12004, null, 284.6000061035156, 0, null, null, null, null, null], [448521, 25837, 0, null, 12004, null, 285.6000061035156, 0, null, null, null, null, null], [448540, 25838, 0, null, 12004, null, 273.3999938964844, 0, null, null, null, null, null], [448563, 25839, 0, null, 12004, null, 280.20001220703125, 0, null, null, null, null, null], [448582, 25840, 0, null, 12004, null, 279.6000061035156, 0, null, null, null, null, null], [448602, 25841, 0, null, 12004, null, 284.29998779296875, 0, null, null, null, null, null], [448624, 25842, 0, null, 12004, null, 285.29998779296875, 0, null, null, null, null, null], [448644, 25843, 0, null, 12004, null, 286.70001220703125, 0, null, null, null, null, null], [448664, 25844, 0, null, 12004, null, 286.20001220703125, 0, null, null, null, null, null], [448684, 25845, 0, null, 12004, null, 284.5, 0, null, null, null, null, null], [448703, 25846, 0, null, 12004, null, 285.6000061035156, 0, null, null, null, null, null], [448721, 25847, 0, null, 12004, null, 278.20001220703125, 0, null, null, null, null, null], [448743, 25848, 0, null, 12004, null, 280.5, 0, null, null, null, null, null], [448763, 25849, 0, null, 12004, null, 283.3999938964844, 0, null, null, null, null, null], [448783, 25850, 0, null, 12004, null, 284.79998779296875, 0, null, null, null, null, null], [448803, 25851, 0, null, 12004, null, 282.0, 0, null, null, null, null, null], [448823, 25852, 0, null, 12004, null, 283.79998779296875, 0, null, null, null, null, null], [448842, 25853, 0, null, 12004, null, 283.70001220703125, 0, null, null, null, null, null], [448861, 25854, 0, null, 12004, null, 283.70001220703125, 0, null, null, null, null, null], [448883, 25855, 0, null, 12004, null, 283.3999938964844, 0, null, null, null, null, null], [448901, 25856, 0, null, 12004, null, 280.0, 0, null, null, null, null, null], [448920, 25857, 0, null, 12004, null, 284.8999938964844, 0, null, null, null, null, null], [448939, 25858, 0, null, 12004, null, 283.29998779296875, 0, null, null, null, null, null], [448959, 25859, 0, null, 12004, null, 286.1000061035156, 0, null, null, null, null, null], [448979, 25860, 0, null, 12004, null, 284.6000061035156, 0, null, null, null, null, null], [448998, 25861, 0, null, 12004, null, 284.29998779296875, 0, null, null, null, null, null], [449018, 25862, 0, null, 12004, null, 286.1000061035156, 0, null, null, null, null, null], [449038, 25863, 0, null, 12004, null, 285.29998779296875, 0, null, null, null, null, null], [449058, 25864, 0, null, 12004, null, 287.20001220703125, 0, null, null, null, null, null], [449078, 25865, 0, null, 12004, null, 260.3999938964844, 0, null, null, null, null, null], [449096, 25866, 0, null, 12004, null, 268.1000061035156, 0, null, null, null, null, null], [449106, 25867, 0, null, 12004, null, 273.70001220703125, 0, null, null, null, null, null], [449120, 25868, 0, null, 12004, null, 278.1000061035156, 0, null, null, null, null, null], [449153, 25871, 0, null, 12004, null, 288.3999938964844, 0, null, null, null, null, null], [449168, 25872, 0, null, 12004, null, 280.6000061035156, 0, null, null, null, null, null], [449183, 25873, 0, null, 12004, null, 270.5, 0, null, null, null, null, null], [449196, 25874, 0, null, 12004, null, 280.70001220703125, 0, null, null, null, null, null], [449207, 25875, 0, null, 12004, null, 280.3999938964844, 0, null, null, null, null, null], [449218, 25876, 0, null, 12004, null, 281.29998779296875, 0, null, null, null, null, null], [449230, 25877, 0, null, 12004, null, 280.79998779296875, 0, null, null, null, null, null], [449242, 25878, 0, null, 12004, null, 281.70001220703125, 0, null, null, null, null, null], [449258, 25880, 0, null, 12004, null, 280.6000061035156, 0, null, null, null, null, null], [449267, 25881, 0, null, 12004, null, 281.1000061035156, 0, null, null, null, null, null], [449276, 25882, 0, null, 12004, null, 278.1000061035156, 0, null, null, null, null, null], [449289, 25883, 0, null, 12004, null, 279.70001220703125, 0, null, null, null, null, null], [449301, 25884, 0, null, 12004, null, 280.6000061035156, 0, null, null, null, null, null], [449312, 25885, 0, null, 12004, null, 280.70001220703125, 0, null, null, null, null, null], [449324, 25886, 0, null, 12004, null, 280.8999938964844, 0, null, null, null, null, null], [449337, 25887, 0, null, 12004, null, 280.79998779296875, 0, null, null, null, null, null], [449357, 25889, 0, null, 12004, null, 280.3999938964844, 0, null, null, null, null, null], [449366, 25890, 0, null, 12004, null, 278.6000061035156, 0, null, null, null, null, null], [449376, 25891, 0, null, 12004, null, 280.29998779296875, 0, null, null, null, null, null], [449386, 25892, 0, null, 12004, null, 280.5, 0, null, null, null, null, null], [449399, 25893, 0, null, 12004, null, 280.5, 0, null, null, null, null, null], [449410, 25894, 0, null, 12004, null, 293.5, 0, null, null, null, null, null], [449434, 25895, 0, null, 12004, null, 302.20001220703125, 0, null, null, null, null, null], [449459, 25896, 0, null, 12004, null, 299.20001220703125, 0, null, null, null, null, null], [449484, 25897, 0, null, 12004, null, 300.20001220703125, 0, null, null, null, null, null], [449503, 25898, 0, null, 12004, null, 302.20001220703125, 0, null, null, null, null, null], [449528, 25899, 0, null, 12004, null, 284.29998779296875, 0, null, null, null, null, null], [449555, 25900, 0, null, 12004, null, 260.20001220703125, 0, null, null, null, null, null], [449574, 25901, 0, null, 12004, null, 284.29998779296875, 0, null, null, null, null, null], [449587, 25902, 0, null, 12004, null, 279.20001220703125, 0, null, null, null, null, null], [449600, 25903, 0, null, 12004, null, 283.3999938964844, 0, null, null, null, null, null], [449613, 25904, 0, null, 12004, null, 281.5, 0, null, null, null, null, null], [449624, 25905, 0, null, 12004, null, 287.6000061035156, 0, null, null, null, null, null], [449632, 25906, 0, null, 12004, null, 292.29998779296875, 0, null, null, null, null, null], [449642, 25907, 0, null, 12004, null, 268.20001220703125, 0, null, null, null, null, null], [449653, 25908, 0, null, 12004, null, 278.20001220703125, 0, null, null, null, null, null], [449661, 25909, 0, null, 12004, null, 276.70001220703125, 0, null, null, null, null, null], [449670, 25910, 0, null, 12004, null, 276.6000061035156, 0, null, null, null, null, null], [449680, 25911, 0, null, 12004, null, 278.5, 0, null, null, null, null, null], [449689, 25912, 0, null, 12004, null, 266.5, 0, null, null, null, null, null], [449699, 25913, 0, null, 12004, null, 303.20001220703125, 0, null, null, null, null, null], [449723, 25914, 0, null, 12004, null, 301.0, 0, null, null, null, null, null], [449747, 25915, 0, null, 12004, null, 303.0, 0, null, null, null, null, null], [449771, 25916, 0, null, 12004, null, 307.5, 0, null, null, null, null, null], [449795, 25917, 0, null, 12004, null, 306.0, 0, null, null, null, null, null], [449819, 25918, 0, null, 12004, null, 306.0, 0, null, null, null, null, null], [449843, 25919, 0, null, 12004, null, 304.1000061035156, 0, null, null, null, null, null], [449867, 25920, 0, null, 12004, null, 303.3999938964844, 0, null, null, null, null, null], [449891, 25921, 0, null, 12004, null, 298.3999938964844, 0, null, null, null, null, null], [449918, 25922, 0, null, 12004, null, 296.6000061035156, 0, null, null, null, null, null], [449945, 25923, 0, null, 12004, null, 303.6000061035156, 0, null, null, null, null, null], [449972, 25924, 0, null, 12004, null, 302.6000061035156, 0, null, null, null, null, null], [449999, 25925, 0, null, 12004, null, 298.6000061035156, 0, null, null, null, null, null], [450028, 25926, 0, null, 12004, null, 303.6000061035156, 0, null, null, null, null, null], [450051, 25927, 0, null, 12004, null, 302.20001220703125, 0, null, null, null, null, null], [450071, 25928, 0, null, 12004, null, 297.8999938964844, 0, null, null, null, null, null], [450095, 25929, 0, null, 12004, null, 295.8999938964844, 0, null, null, null, null, null], [450122, 25930, 0, null, 12004, null, 296.79998779296875, 0, null, null, null, null, null], [450149, 25931, 0, null, 12004, null, 297.29998779296875, 0, null, null, null, null, null], [450176, 25932, 0, null, 12004, null, 297.6000061035156, 0, null, null, null, null, null], [450203, 25933, 0, null, 12004, null, 280.29998779296875, 0, null, null, null, null, null], [450216, 25934, 0, null, 12004, null, 281.5, 0, null, null, null, null, null], [450231, 25935, 0, null, 12004, null, 271.3999938964844, 0, null, null, null, null, null], [450243, 25936, 0, null, 12004, null, 310.20001220703125, 0, null, null, null, null, null], [450269, 25937, 0, null, 12004, null, 305.0, 0, null, null, null, null, null], [450295, 25938, 0, null, 12004, null, 303.79998779296875, 0, null, null, null, null, null], [450322, 25939, 0, null, 12004, null, 309.6000061035156, 0, null, null, null, null, null], [450349, 25940, 0, null, 12004, null, 305.0, 0, null, null, null, null, null], [450373, 25941, 0, null, 12004, null, 310.6000061035156, 0, null, null, null, null, null], [450397, 25942, 0, null, 12004, null, 301.79998779296875, 0, null, null, null, null, null], [450421, 25943, 0, null, 12004, null, 301.6000061035156, 0, null, null, null, null, null], [450445, 25944, 0, null, 12004, null, 311.20001220703125, 0, null, null, null, null, null], [450472, 25945, 0, null, 12004, null, 310.20001220703125, 0, null, null, null, null, null], [450499, 25946, 0, null, 12004, null, 305.29998779296875, 0, null, null, null, null, null], [450518, 25947, 0, null, 12004, null, 303.70001220703125, 0, null, null, null, null, null], [450540, 25948, 0, null, 12004, null, 307.8999938964844, 0, null, null, null, null, null], [450567, 25949, 0, null, 12004, null, 299.20001220703125, 0, null, null, null, null, null], [450591, 25950, 0, null, 12004, null, 296.29998779296875, 0, null, null, null, null, null], [450615, 25951, 0, null, 12004, null, 296.70001220703125, 0, null, null, null, null, null], [450645, 25952, 0, null, 12004, null, 296.20001220703125, 0, null, null, null, null, null], [450672, 25953, 0, null, 12004, null, 297.0, 0, null, null, null, null, null], [450698, 25954, 0, null, 12004, null, 296.6000061035156, 0, null, null, null, null, null], [450725, 25955, 0, null, 12004, null, 296.3999938964844, 0, null, null, null, null, null], [450752, 25956, 0, null, 12004, null, 296.6000061035156, 0, null, null, null, null, null], [450779, 25957, 0, null, 12004, null, 297.20001220703125, 0, null, null, null, null, null], [450805, 25958, 0, null, 12004, null, 298.0, 0, null, null, null, null, null], [450828, 25959, 0, null, 12004, null, 296.79998779296875, 0, null, null, null, null, null], [450852, 25960, 0, null, 12004, null, 297.0, 0, null, null, null, null, null], [450876, 25961, 0, null, 12004, null, 300.3999938964844, 0, null, null, null, null, null], [450900, 25962, 0, null, 12004, null, 289.3999938964844, 0, null, null, null, null, null], [450923, 25963, 0, null, 12004, null, 294.0, 0, null, null, null, null, null], [450950, 25964, 0, null, 12004, null, 302.20001220703125, 0, null, null, null, null, null], [450973, 25965, 0, null, 12004, null, 293.3999938964844, 0, null, null, null, null, null], [451000, 25966, 0, null, 12004, null, 285.0, 0, null, null, null, null, null], [451047, 25972, 0, null, 12004, null, 270.3999938964844, 0, null, null, null, null, null], [451059, 25973, 0, null, 12004, null, 275.6000061035156, 0, null, null, null, null, null], [451075, 25975, 0, null, 12004, null, 281.6000061035156, 0, null, null, null, null, null], [451092, 25976, 0, null, 12004, null, 281.6000061035156, 0, null, null, null, null, null], [451113, 25977, 0, null, 12004, null, 280.3999938964844, 0, null, null, null, null, null], [451134, 25978, 0, null, 12004, null, 280.70001220703125, 0, null, null, null, null, null], [451153, 25979, 0, null, 12004, null, 281.3999938964844, 0, null, null, null, null, null], [451170, 25980, 0, null, 12004, null, 282.0, 0, null, null, null, null, null], [451184, 25981, 0, null, 12004, null, 282.1000061035156, 0, null, null, null, null, null], [451201, 25982, 0, null, 12004, null, 281.79998779296875, 0, null, null, null, null, null], [451227, 25983, 0, null, 12004, null, 279.3999938964844, 0, null, null, null, null, null], [451245, 25984, 0, null, 12004, null, 278.20001220703125, 0, null, null, null, null, null], [451266, 25985, 0, null, 12004, null, 277.0, 0, null, null, null, null, null], [451284, 25986, 0, null, 12004, null, 260.20001220703125, 0, null, null, null, null, null], [451303, 25987, 0, null, 12004, null, 260.20001220703125, 0, null, null, null, null, null], [451322, 25988, 0, null, 12004, null, 254.1999969482422, 0, null, null, null, null, null], [451337, 25989, 0, null, 12004, null, 262.5, 0, null, null, null, null, null], [451357, 25990, 0, null, 12004, null, 264.0, 0, null, null, null, null, null], [451377, 25991, 0, null, 12004, null, 264.6000061035156, 0, null, null, null, null, null], [451394, 25992, 0, null, 12004, null, 267.0, 0, null, null, null, null, null], [451409, 25993, 0, null, 12004, null, 267.0, 0, null, null, null, null, null], [451429, 25994, 0, null, 12004, null, 268.29998779296875, 0, null, null, null, null, null], [451449, 25995, 0, null, 12004, null, 269.6000061035156, 0, null, null, null, null, null], [451469, 25996, 0, null, 12004, null, 270.79998779296875, 0, null, null, null, null, null], [451488, 25997, 0, null, 12004, null, 243.60000610351562, 0, null, null, null, null, null], [451500, 25998, 0, null, 12004, null, 256.79998779296875, 0, null, null, null, null, null], [451515, 25999, 0, null, 12004, null, 255.3000030517578, 0, null, null, null, null, null], [451529, 26000, 0, null, 12004, null, 270.5, 0, null, null, null, null, null], [451545, 26001, 0, null, 12004, null, 272.79998779296875, 0, null, null, null, null, null], [451562, 26002, 0, null, 12004, null, 270.8999938964844, 0, null, null, null, null, null], [451573, 26003, 0, null, 12004, null, 277.6000061035156, 0, null, null, null, null, null], [451583, 26004, 0, null, 12004, null, 260.3999938964844, 0, null, null, null, null, null], [451596, 26005, 0, null, 12004, null, 267.20001220703125, 0, null, null, null, null, null], [451609, 26006, 0, null, 12004, null, 273.29998779296875, 0, null, null, null, null, null], [451621, 26007, 0, null, 12004, null, 302.5, 0, null, null, null, null, null], [451636, 26008, 0, null, 12004, null, 297.1000061035156, 0, null, null, null, null, null], [451651, 26009, 0, null, 12004, null, 299.79998779296875, 0, null, null, null, null, null], [451666, 26010, 0, null, 12004, null, 298.3999938964844, 0, null, null, null, null, null], [451681, 26011, 0, null, 12004, null, 302.5, 0, null, null, null, null, null], [451696, 26012, 0, null, 12004, null, 292.1000061035156, 0, null, null, null, null, null], [451711, 26013, 0, null, 12004, null, 304.29998779296875, 0, null, null, null, null, null], [451726, 26014, 0, null, 12004, null, 301.6000061035156, 0, null, null, null, null, null], [451741, 26015, 0, null, 12004, null, 299.79998779296875, 0, null, null, null, null, null], [451756, 26016, 0, null, 12004, null, 299.0, 0, null, null, null, null, null], [451771, 26017, 0, null, 12004, null, 299.3999938964844, 0, null, null, null, null, null], [451794, 26018, 0, null, 12004, null, 298.8999938964844, 0, null, null, null, null, null], [451810, 26019, 0, null, 12004, null, 298.6000061035156, 0, null, null, null, null, null], [451826, 26020, 0, null, 12004, null, 297.1000061035156, 0, null, null, null, null, null], [451842, 26021, 0, null, 12004, null, 292.0, 0, null, null, null, null, null], [451858, 26022, 0, null, 12004, null, 300.1000061035156, 0, null, null, null, null, null], [451874, 26023, 0, null, 12004, null, 297.3999938964844, 0, null, null, null, null, null], [451890, 26024, 0, null, 12004, null, 297.6000061035156, 0, null, null, null, null, null], [451906, 26025, 0, null, 12004, null, 303.8999938964844, 0, null, null, null, null, null], [451922, 26026, 0, null, 12004, null, 303.5, 0, null, null, null, null, null], [451938, 26027, 0, null, 12004, null, 301.1000061035156, 0, null, null, null, null, null], [451954, 26028, 0, null, 12004, null, 300.70001220703125, 0, null, null, null, null, null], [451970, 26029, 0, null, 12004, null, 298.3999938964844, 0, null, null, null, null, null], [451986, 26030, 0, null, 12004, null, 297.6000061035156, 0, null, null, null, null, null], [452002, 26031, 0, null, 12004, null, 293.79998779296875, 0, null, null, null, null, null], [452018, 26032, 0, null, 12004, null, 298.3999938964844, 0, null, null, null, null, null], [452034, 26033, 0, null, 12004, null, 299.8999938964844, 0, null, null, null, null, null], [452050, 26034, 0, null, 12004, null, 298.1000061035156, 0, null, null, null, null, null], [452066, 26035, 0, null, 12004, null, 294.29998779296875, 0, null, null, null, null, null], [452082, 26036, 0, null, 12004, null, 295.8999938964844, 0, null, null, null, null, null], [452098, 26037, 0, null, 12004, null, 298.5, 0, null, null, null, null, null], [452114, 26038, 0, null, 12004, null, 293.1000061035156, 0, null, null, null, null, null], [452141, 26040, 0, null, 12004, null, 293.1000061035156, 0, null, null, null, null, null], [452157, 26041, 0, null, 12004, null, 290.79998779296875, 0, null, null, null, null, null], [452174, 26042, 0, null, 12004, null, 290.29998779296875, 0, null, null, null, null, null], [452188, 26043, 0, null, 12004, null, 288.6000061035156, 0, null, null, null, null, null], [452199, 26044, 0, null, 12004, null, 294.1000061035156, 0, null, null, null, null, null], [452213, 26045, 0, null, 12004, null, 300.29998779296875, 0, null, null, null, null, null], [452229, 26046, 0, null, 12004, null, 299.5, 0, null, null, null, null, null], [452245, 26047, 0, null, 12004, null, 297.5, 0, null, null, null, null, null], [452261, 26048, 0, null, 12004, null, 299.70001220703125, 0, null, null, null, null, null], [452277, 26049, 0, null, 12004, null, 299.0, 0, null, null, null, null, null], [452293, 26050, 0, null, 12004, null, 298.1000061035156, 0, null, null, null, null, null], [452309, 26051, 0, null, 12004, null, 291.0, 0, null, null, null, null, null], [452325, 26052, 0, null, 12004, null, 289.0, 0, null, null, null, null, null], [452341, 26053, 0, null, 12004, null, 291.20001220703125, 0, null, null, null, null, null], [452357, 26054, 0, null, 12004, null, 292.3999938964844, 0, null, null, null, null, null], [452373, 26055, 0, null, 12004, null, 291.70001220703125, 0, null, null, null, null, null], [452390, 26056, 0, null, 12004, null, 293.79998779296875, 0, null, null, null, null, null], [452403, 26057, 0, null, 12004, null, 291.70001220703125, 0, null, null, null, null, null], [452419, 26058, 0, null, 12004, null, 292.5, 0, null, null, null, null, null], [452435, 26059, 0, null, 12004, null, 288.20001220703125, 0, null, null, null, null, null], [452452, 26060, 0, null, 12004, null, 290.79998779296875, 0, null, null, null, null, null], [452465, 26061, 0, null, 12004, null, 292.29998779296875, 0, null, null, null, null, null], [452481, 26062, 0, null, 12004, null, 298.3999938964844, 0, null, null, null, null, null], [452497, 26063, 0, null, 12004, null, 300.6000061035156, 0, null, null, null, null, null], [452513, 26064, 0, null, 12004, null, 294.29998779296875, 0, null, null, null, null, null], [452529, 26065, 0, null, 12004, null, 298.8999938964844, 0, null, null, null, null, null], [452545, 26066, 0, null, 12004, null, 293.8999938964844, 0, null, null, null, null, null], [452559, 26067, 0, null, 12004, null, 294.0, 0, null, null, null, null, null], [452575, 26068, 0, null, 12004, null, 288.70001220703125, 0, null, null, null, null, null], [452591, 26069, 0, null, 12004, null, 287.29998779296875, 0, null, null, null, null, null], [452607, 26070, 0, null, 12004, null, 291.5, 0, null, null, null, null, null], [452624, 26071, 0, null, 12004, null, 298.29998779296875, 0, null, null, null, null, null], [452636, 26072, 0, null, 12004, null, 298.1000061035156, 0, null, null, null, null, null], [452650, 26073, 0, null, 12004, null, 297.3999938964844, 0, null, null, null, null, null], [452664, 26074, 0, null, 12004, null, 292.29998779296875, 0, null, null, null, null, null], [452675, 26075, 0, null, 12004, null, 289.29998779296875, 0, null, null, null, null, null], [452691, 26076, 0, null, 12004, null, 288.3999938964844, 0, null, null, null, null, null], [452707, 26077, 0, null, 12004, null, 291.29998779296875, 0, null, null, null, null, null], [452723, 26078, 0, null, 12004, null, 288.3999938964844, 0, null, null, null, null, null], [452739, 26079, 0, null, 12004, null, 290.0, 0, null, null, null, null, null], [452755, 26080, 0, null, 12004, null, 288.8999938964844, 0, null, null, null, null, null], [452771, 26081, 0, null, 12004, null, 289.20001220703125, 0, null, null, null, null, null], [452787, 26082, 0, null, 12004, null, 292.1000061035156, 0, null, null, null, null, null], [452804, 26083, 0, null, 12004, null, 295.20001220703125, 0, null, null, null, null, null], [452827, 26085, 0, null, 12004, null, 294.6000061035156, 0, null, null, null, null, null], [452841, 26086, 0, null, 12004, null, 288.0, 0, null, null, null, null, null], [452854, 26087, 0, null, 12004, null, 292.6000061035156, 0, null, null, null, null, null], [452870, 26088, 0, null, 12004, null, 286.8999938964844, 0, null, null, null, null, null], [452886, 26089, 0, null, 12004, null, 291.3999938964844, 0, null, null, null, null, null], [452902, 26090, 0, null, 12004, null, 291.1000061035156, 0, null, null, null, null, null], [452918, 26091, 0, null, 12004, null, 289.29998779296875, 0, null, null, null, null, null], [452934, 26092, 0, null, 12004, null, 289.70001220703125, 0, null, null, null, null, null], [452950, 26093, 0, null, 12004, null, 288.70001220703125, 0, null, null, null, null, null], [452967, 26094, 0, null, 12004, null, 289.5, 0, null, null, null, null, null], [452981, 26095, 0, null, 12004, null, 292.20001220703125, 0, null, null, null, null, null], [453003, 26096, 0, null, 12004, null, 292.0, 0, null, null, null, null, null], [453019, 26097, 0, null, 12004, null, 290.20001220703125, 0, null, null, null, null, null], [453035, 26098, 0, null, 12004, null, 289.6000061035156, 0, null, null, null, null, null], [453052, 26099, 0, null, 12004, null, 293.6000061035156, 0, null, null, null, null, null], [453065, 26100, 0, null, 12004, null, 290.3999938964844, 0, null, null, null, null, null], [453082, 26101, 0, null, 12004, null, 291.20001220703125, 0, null, null, null, null, null], [453096, 26102, 0, null, 12004, null, 291.6000061035156, 0, null, null, null, null, null], [453110, 26103, 0, null, 12004, null, 291.29998779296875, 0, null, null, null, null, null], [453124, 26104, 0, null, 12004, null, 293.20001220703125, 0, null, null, null, null, null], [453138, 26105, 0, null, 12004, null, 289.5, 0, null, null, null, null, null], [453152, 26106, 0, null, 12004, null, 291.20001220703125, 0, null, null, null, null, null], [453166, 26107, 0, null, 12004, null, 284.70001220703125, 0, null, null, null, null, null], [453178, 26108, 0, null, 12004, null, 262.5, 0, null, null, null, null, null], [453192, 26109, 0, null, 12004, null, 265.70001220703125, 0, null, null, null, null, null], [453201, 26110, 0, null, 12004, null, 260.20001220703125, 0, null, null, null, null, null], [453220, 26111, 0, null, 12004, null, 260.0, 0, null, null, null, null, null], [453239, 26112, 0, null, 12004, null, 254.0, 0, null, null, null, null, null], [453249, 26113, 0, null, 12004, null, 298.20001220703125, 0, null, null, null, null, null], [453273, 26114, 0, null, 12004, null, 296.20001220703125, 0, null, null, null, null, null], [453295, 26115, 0, null, 12004, null, 254.5, 0, null, null, null, null, null], [453314, 26117, 0, null, 12004, null, 276.70001220703125, 0, null, null, null, null, null], [453339, 26120, 0, null, 12004, null, 274.29998779296875, 0, null, null, null, null, null], [453350, 26121, 0, null, 12004, null, 275.6000061035156, 0, null, null, null, null, null], [453368, 26123, 0, null, 12004, null, 276.1000061035156, 0, null, null, null, null, null]];\n",
       "\n",
       "        // Define the dt_args\n",
       "        let dt_args = {\"layout\": {\"topStart\": \"pageLength\", \"topEnd\": \"search\", \"bottomStart\": \"info\", \"bottomEnd\": \"paging\"}, \"order\": [], \"warn_on_dom\": true, \"fnInfoCallback\": function (oSettings, iStart, iEnd, iMax, iTotal, sPre) { return sPre + ' (<a href=\"https://mwouts.github.io/itables/downsampling.html\">downsampled</a> from 25,065x13 to 856x13 as maxBytes=131072)'; }};\n",
       "        dt_args[\"data\"] = data;\n",
       "\n",
       "        \n",
       "        new DataTable(table, dt_args);\n",
       "    });\n",
       "</script>\n"
      ],
      "text/plain": [
       "<IPython.core.display.HTML object>"
      ]
     },
     "metadata": {},
     "output_type": "display_data"
    }
   ],
   "source": [
    "# result_data_arrow\n",
    "# show(result_data_arrow, buttons=[\"copyHtml5\", \"csvHtml5\", \"excelHtml5\"]) # ... (downsampled from 453,375x13 ...\n",
    "show(result_data_pl_df.filter(pl.col(\"VARNO\") == 12004)) # ... (downsampled from 25,065x13 to 856x13 as maxBytes=131072)"
   ]
  },
  {
   "cell_type": "code",
   "execution_count": null,
   "id": "81aa4886-b0f9-4d0d-bfab-89acba1df729",
   "metadata": {},
   "outputs": [
    {
     "data": {
      "text/html": [
       "<div><style>\n",
       ".dataframe > thead > tr,\n",
       ".dataframe > tbody > tr {\n",
       "  text-align: right;\n",
       "  white-space: pre-wrap;\n",
       "}\n",
       "</style>\n",
       "<small>shape: (453_375, 13)</small><table border=\"1\" class=\"dataframe\"><thead><tr><th>ID_DATA</th><th>ID_OBS</th><th>BURP_BTYP</th><th>VCOORD</th><th>VARNO</th><th>VCOORD_TYPE</th><th>OBSVALUE</th><th>FLAG</th><th>OMP</th><th>OMA</th><th>OBS_ERROR</th><th>FG_ERROR</th><th>FSO</th></tr><tr><td>i64</td><td>i64</td><td>i64</td><td>f64</td><td>i64</td><td>str</td><td>f64</td><td>i64</td><td>str</td><td>str</td><td>str</td><td>str</td><td>str</td></tr></thead><tbody><tr><td>1</td><td>1</td><td>0</td><td>null</td><td>10051</td><td>null</td><td>101600.0</td><td>0</td><td>null</td><td>null</td><td>null</td><td>null</td><td>null</td></tr><tr><td>2</td><td>1</td><td>0</td><td>null</td><td>11011</td><td>null</td><td>50.0</td><td>0</td><td>null</td><td>null</td><td>null</td><td>null</td><td>null</td></tr><tr><td>3</td><td>1</td><td>0</td><td>null</td><td>11012</td><td>null</td><td>1.0</td><td>0</td><td>null</td><td>null</td><td>null</td><td>null</td><td>null</td></tr><tr><td>4</td><td>1</td><td>0</td><td>null</td><td>12004</td><td>null</td><td>288.200012</td><td>0</td><td>null</td><td>null</td><td>null</td><td>null</td><td>null</td></tr><tr><td>5</td><td>1</td><td>0</td><td>null</td><td>10063</td><td>null</td><td>4.0</td><td>0</td><td>null</td><td>null</td><td>null</td><td>null</td><td>null</td></tr><tr><td>&hellip;</td><td>&hellip;</td><td>&hellip;</td><td>&hellip;</td><td>&hellip;</td><td>&hellip;</td><td>&hellip;</td><td>&hellip;</td><td>&hellip;</td><td>&hellip;</td><td>&hellip;</td><td>&hellip;</td><td>&hellip;</td></tr><tr><td>453371</td><td>26123</td><td>0</td><td>null</td><td>20003</td><td>null</td><td>509.0</td><td>4</td><td>null</td><td>null</td><td>null</td><td>null</td><td>null</td></tr><tr><td>453372</td><td>26123</td><td>0</td><td>null</td><td>1013</td><td>null</td><td>0.0</td><td>0</td><td>null</td><td>null</td><td>null</td><td>null</td><td>null</td></tr><tr><td>453373</td><td>26123</td><td>0</td><td>null</td><td>10004</td><td>null</td><td>101020.0</td><td>0</td><td>null</td><td>null</td><td>null</td><td>null</td><td>null</td></tr><tr><td>453374</td><td>26123</td><td>0</td><td>null</td><td>2038</td><td>null</td><td>0.0</td><td>0</td><td>null</td><td>null</td><td>null</td><td>null</td><td>null</td></tr><tr><td>453375</td><td>26123</td><td>0</td><td>null</td><td>22049</td><td>null</td><td>279.350006</td><td>0</td><td>null</td><td>null</td><td>null</td><td>null</td><td>null</td></tr></tbody></table></div>"
      ],
      "text/plain": [
       "shape: (453_375, 13)\n",
       "┌─────────┬────────┬───────────┬────────┬───┬──────┬───────────┬──────────┬──────┐\n",
       "│ ID_DATA ┆ ID_OBS ┆ BURP_BTYP ┆ VCOORD ┆ … ┆ OMA  ┆ OBS_ERROR ┆ FG_ERROR ┆ FSO  │\n",
       "│ ---     ┆ ---    ┆ ---       ┆ ---    ┆   ┆ ---  ┆ ---       ┆ ---      ┆ ---  │\n",
       "│ i64     ┆ i64    ┆ i64       ┆ f64    ┆   ┆ str  ┆ str       ┆ str      ┆ str  │\n",
       "╞═════════╪════════╪═══════════╪════════╪═══╪══════╪═══════════╪══════════╪══════╡\n",
       "│ 1       ┆ 1      ┆ 0         ┆ null   ┆ … ┆ null ┆ null      ┆ null     ┆ null │\n",
       "│ 2       ┆ 1      ┆ 0         ┆ null   ┆ … ┆ null ┆ null      ┆ null     ┆ null │\n",
       "│ 3       ┆ 1      ┆ 0         ┆ null   ┆ … ┆ null ┆ null      ┆ null     ┆ null │\n",
       "│ 4       ┆ 1      ┆ 0         ┆ null   ┆ … ┆ null ┆ null      ┆ null     ┆ null │\n",
       "│ 5       ┆ 1      ┆ 0         ┆ null   ┆ … ┆ null ┆ null      ┆ null     ┆ null │\n",
       "│ …       ┆ …      ┆ …         ┆ …      ┆ … ┆ …    ┆ …         ┆ …        ┆ …    │\n",
       "│ 453371  ┆ 26123  ┆ 0         ┆ null   ┆ … ┆ null ┆ null      ┆ null     ┆ null │\n",
       "│ 453372  ┆ 26123  ┆ 0         ┆ null   ┆ … ┆ null ┆ null      ┆ null     ┆ null │\n",
       "│ 453373  ┆ 26123  ┆ 0         ┆ null   ┆ … ┆ null ┆ null      ┆ null     ┆ null │\n",
       "│ 453374  ┆ 26123  ┆ 0         ┆ null   ┆ … ┆ null ┆ null      ┆ null     ┆ null │\n",
       "│ 453375  ┆ 26123  ┆ 0         ┆ null   ┆ … ┆ null ┆ null      ┆ null     ┆ null │\n",
       "└─────────┴────────┴───────────┴────────┴───┴──────┴───────────┴──────────┴──────┘"
      ]
     },
     "execution_count": null,
     "metadata": {},
     "output_type": "execute_result"
    }
   ],
   "source": [
    "result_data_pl_df"
   ]
  },
  {
   "cell_type": "code",
   "execution_count": null,
   "id": "41adf023-dcfe-4ca9-a56b-365ba0f92a87",
   "metadata": {},
   "outputs": [],
   "source": [
    "# result_data_pl_df['VARNO'].unique()\n",
    "varno_list = result_data_pl_df['VARNO'].unique().to_list()\n",
    "\n",
    "# Generator expression to pad codes and join them with '|'\n",
    "varno_list_grep = '|'.join(f\"{code:06}\" for code in varno_list)\n",
    "\n",
    "#varno_list_grep = '|'.join(map(str, varno_df))"
   ]
  },
  {
   "cell_type": "code",
   "execution_count": null,
   "id": "76cdf109-5982-4069-94b1-91e5a74c081b",
   "metadata": {},
   "outputs": [
    {
     "data": {
      "text/plain": [
       "'001012|001013|002004|002038|005001|006001|007004|007030|007031|010004|010009|010051|010061|010062|010063|010194|011011|011012|011041|012002|012004|012006|012016|012017|013003|013013|013019|013020|013021|013022|013023|013033|013200|013204|020001|020003|020004|020005|020011|020012|020013|020062|020198|020199|020200|020201|020202|020213|022003|022011|022012|022013|022021|022022|022023|022042|022049'"
      ]
     },
     "execution_count": null,
     "metadata": {},
     "output_type": "execute_result"
    }
   ],
   "source": [
    "varno_list_grep\n",
    "# to supply to `grep -E` '^(001012|001013|002004|002038|005001|006001|007004|007030|007031|010004|010009|010051|010061|010062|010063|010194|011011|011012|011041|012002|012004|012006|012016|012017|013003|013013|013019|013020|013021|013022|013023|013033|013200|013204|020001|020003|020004|020005|020011|020012|020013|020062|020198|020199|020200|020201|020202|020213|022003|022011|022012|022013|022021|022022|022023|022042|022049)'"
   ]
  },
  {
   "cell_type": "code",
   "execution_count": null,
   "id": "ae636aac-77fa-4c0e-91f1-4fbc95cba094",
   "metadata": {},
   "outputs": [],
   "source": [
    "code_list_df = pl.read_csv(\"codes_burp.csv\", truncate_ragged_lines=True)"
   ]
  },
  {
   "cell_type": "code",
   "execution_count": null,
   "id": "6af49042-e53c-42f3-88b8-8c6a822cb0c4",
   "metadata": {},
   "outputs": [
    {
     "data": {
      "text/html": [
       "<div><style>\n",
       ".dataframe > thead > tr,\n",
       ".dataframe > tbody > tr {\n",
       "  text-align: right;\n",
       "  white-space: pre-wrap;\n",
       "}\n",
       "</style>\n",
       "<small>shape: (57, 4)</small><table border=\"1\" class=\"dataframe\"><thead><tr><th>code</th><th>name</th><th>units</th><th>remainder</th></tr><tr><td>i64</td><td>str</td><td>str</td><td>str</td></tr></thead><tbody><tr><td>1012</td><td>&quot;DIR. MOUVEMENT…</td><td>&quot;DEG VRAI&quot;</td><td>&quot;0          0  …</td></tr><tr><td>1013</td><td>&quot;VITESSE&quot;</td><td>&quot; STATION OBSER…</td><td>&quot;M/S&quot;</td></tr><tr><td>2004</td><td>&quot;TYPE D&#x27;INSTR. …</td><td>&quot;CODE TABLE&quot;</td><td>&quot;0          0  …</td></tr><tr><td>2038</td><td>&quot;METH. MESURE T…</td><td>&quot;CODE TABLE&quot;</td><td>&quot;0          0  …</td></tr><tr><td>5001</td><td>&quot;LATITUDE (HAUT…</td><td>&quot;DEGRE&quot;</td><td>&quot;5   -9000000  …</td></tr><tr><td>&hellip;</td><td>&hellip;</td><td>&hellip;</td><td>&hellip;</td></tr><tr><td>20199</td><td>&quot;TYPE DE NUAGES…</td><td>&quot;CODE TABLE&quot;</td><td>&quot;0          0  …</td></tr><tr><td>20200</td><td>&quot;HAUTEUR P.R. S…</td><td>&quot; BASE DES NUAG…</td><td>&quot;M           -&quot;</td></tr><tr><td>20201</td><td>&quot;TYPE DE NUAGES…</td><td>&quot;CODE TABLE&quot;</td><td>&quot;0          0  …</td></tr><tr><td>20202</td><td>&quot;TYPE DE NUAGES…</td><td>&quot;CODE TABLE&quot;</td><td>&quot;0          0  …</td></tr><tr><td>20213</td><td>&quot;ETENDUE TOTALE…</td><td>&quot;CODE TABLE&quot;</td><td>&quot;0          0  …</td></tr></tbody></table></div>"
      ],
      "text/plain": [
       "shape: (57, 4)\n",
       "┌───────┬───────────────────────────────────┬─────────────────────────────┬────────────────────┐\n",
       "│ code  ┆ name                              ┆ units                       ┆ remainder          │\n",
       "│ ---   ┆ ---                               ┆ ---                         ┆ ---                │\n",
       "│ i64   ┆ str                               ┆ str                         ┆ str                │\n",
       "╞═══════╪═══════════════════════════════════╪═════════════════════════════╪════════════════════╡\n",
       "│ 1012  ┆ DIR. MOUVEMENT DE STATION MOBILE  ┆ DEG VRAI                    ┆ 0          0     9 │\n",
       "│ 1013  ┆ VITESSE                           ┆  STATION OBSERVATION MOBILE ┆ M/S                │\n",
       "│ 2004  ┆ TYPE D'INSTR. UTILISE POUR RAPP.… ┆ CODE TABLE                  ┆ 0          0     4 │\n",
       "│ 2038  ┆ METH. MESURE TEMPER. SURF.OU SAL… ┆ CODE TABLE                  ┆ 0          0     4 │\n",
       "│ 5001  ┆ LATITUDE (HAUTE PRECISION)        ┆ DEGRE                       ┆ 5   -9000000    25 │\n",
       "│ …     ┆ …                                 ┆ …                           ┆ …                  │\n",
       "│ 20199 ┆ TYPE DE NUAGES BAS (SA|SYNOP|MET… ┆ CODE TABLE                  ┆ 0          0     6 │\n",
       "│ 20200 ┆ HAUTEUR P.R. SOL                  ┆  BASE DES NUAGES BAS (SM)   ┆ M           -      │\n",
       "│ 20201 ┆ TYPE DE NUAGES MOYENS  (SA|SYNOP… ┆ CODE TABLE                  ┆ 0          0     6 │\n",
       "│ 20202 ┆ TYPE DE NUAGES HAUTS  (SA|SYNOP|… ┆ CODE TABLE                  ┆ 0          0     6 │\n",
       "│ 20213 ┆ ETENDUE TOTALE (MEME TABLE QUE 2… ┆ CODE TABLE                  ┆ 0          0     4 │\n",
       "└───────┴───────────────────────────────────┴─────────────────────────────┴────────────────────┘"
      ]
     },
     "execution_count": null,
     "metadata": {},
     "output_type": "execute_result"
    }
   ],
   "source": [
    "code_list_df"
   ]
  },
  {
   "cell_type": "code",
   "execution_count": null,
   "id": "45b48c41-4c12-4c86-ad31-e846221d6c73",
   "metadata": {},
   "outputs": [],
   "source": [
    "result_ID_OBS = pd.merge(result_data, result_header, on=\"ID_OBS\")\n"
   ]
  },
  {
   "cell_type": "code",
   "execution_count": null,
   "id": "8fe7cb33-57a5-4e11-a3d8-1bd8091c3470",
   "metadata": {},
   "outputs": [
    {
     "data": {
      "text/html": [
       "<div>\n",
       "<style scoped>\n",
       "    .dataframe tbody tr th:only-of-type {\n",
       "        vertical-align: middle;\n",
       "    }\n",
       "\n",
       "    .dataframe tbody tr th {\n",
       "        vertical-align: top;\n",
       "    }\n",
       "\n",
       "    .dataframe thead th {\n",
       "        text-align: right;\n",
       "    }\n",
       "</style>\n",
       "<table border=\"1\" class=\"dataframe\">\n",
       "  <thead>\n",
       "    <tr style=\"text-align: right;\">\n",
       "      <th></th>\n",
       "      <th>ID_DATA</th>\n",
       "      <th>ID_OBS</th>\n",
       "      <th>BURP_BTYP</th>\n",
       "      <th>VCOORD</th>\n",
       "      <th>VARNO</th>\n",
       "      <th>VCOORD_TYPE</th>\n",
       "      <th>OBSVALUE</th>\n",
       "      <th>FLAG</th>\n",
       "      <th>OMP</th>\n",
       "      <th>OMA</th>\n",
       "      <th>...</th>\n",
       "      <th>LAT</th>\n",
       "      <th>LON</th>\n",
       "      <th>CODTYP</th>\n",
       "      <th>DATE</th>\n",
       "      <th>TIME</th>\n",
       "      <th>STATUS</th>\n",
       "      <th>DELAY</th>\n",
       "      <th>RUNN</th>\n",
       "      <th>OARS</th>\n",
       "      <th>ELEV</th>\n",
       "    </tr>\n",
       "  </thead>\n",
       "  <tbody>\n",
       "    <tr>\n",
       "      <th>0</th>\n",
       "      <td>1</td>\n",
       "      <td>1</td>\n",
       "      <td>0</td>\n",
       "      <td>NaN</td>\n",
       "      <td>10051</td>\n",
       "      <td>None</td>\n",
       "      <td>101270.000000</td>\n",
       "      <td>0</td>\n",
       "      <td>None</td>\n",
       "      <td>None</td>\n",
       "      <td>...</td>\n",
       "      <td>54.5</td>\n",
       "      <td>10.6</td>\n",
       "      <td>13</td>\n",
       "      <td>20240304</td>\n",
       "      <td>150000</td>\n",
       "      <td>12583936</td>\n",
       "      <td>0</td>\n",
       "      <td>0</td>\n",
       "      <td>0</td>\n",
       "      <td>8.0</td>\n",
       "    </tr>\n",
       "    <tr>\n",
       "      <th>1</th>\n",
       "      <td>2</td>\n",
       "      <td>1</td>\n",
       "      <td>0</td>\n",
       "      <td>NaN</td>\n",
       "      <td>11011</td>\n",
       "      <td>None</td>\n",
       "      <td>90.000000</td>\n",
       "      <td>0</td>\n",
       "      <td>None</td>\n",
       "      <td>None</td>\n",
       "      <td>...</td>\n",
       "      <td>54.5</td>\n",
       "      <td>10.6</td>\n",
       "      <td>13</td>\n",
       "      <td>20240304</td>\n",
       "      <td>150000</td>\n",
       "      <td>12583936</td>\n",
       "      <td>0</td>\n",
       "      <td>0</td>\n",
       "      <td>0</td>\n",
       "      <td>8.0</td>\n",
       "    </tr>\n",
       "    <tr>\n",
       "      <th>2</th>\n",
       "      <td>3</td>\n",
       "      <td>1</td>\n",
       "      <td>0</td>\n",
       "      <td>NaN</td>\n",
       "      <td>11012</td>\n",
       "      <td>None</td>\n",
       "      <td>11.000000</td>\n",
       "      <td>0</td>\n",
       "      <td>None</td>\n",
       "      <td>None</td>\n",
       "      <td>...</td>\n",
       "      <td>54.5</td>\n",
       "      <td>10.6</td>\n",
       "      <td>13</td>\n",
       "      <td>20240304</td>\n",
       "      <td>150000</td>\n",
       "      <td>12583936</td>\n",
       "      <td>0</td>\n",
       "      <td>0</td>\n",
       "      <td>0</td>\n",
       "      <td>8.0</td>\n",
       "    </tr>\n",
       "    <tr>\n",
       "      <th>3</th>\n",
       "      <td>4</td>\n",
       "      <td>1</td>\n",
       "      <td>0</td>\n",
       "      <td>NaN</td>\n",
       "      <td>12004</td>\n",
       "      <td>None</td>\n",
       "      <td>278.399994</td>\n",
       "      <td>0</td>\n",
       "      <td>None</td>\n",
       "      <td>None</td>\n",
       "      <td>...</td>\n",
       "      <td>54.5</td>\n",
       "      <td>10.6</td>\n",
       "      <td>13</td>\n",
       "      <td>20240304</td>\n",
       "      <td>150000</td>\n",
       "      <td>12583936</td>\n",
       "      <td>0</td>\n",
       "      <td>0</td>\n",
       "      <td>0</td>\n",
       "      <td>8.0</td>\n",
       "    </tr>\n",
       "    <tr>\n",
       "      <th>4</th>\n",
       "      <td>5</td>\n",
       "      <td>1</td>\n",
       "      <td>0</td>\n",
       "      <td>NaN</td>\n",
       "      <td>12006</td>\n",
       "      <td>None</td>\n",
       "      <td>277.100006</td>\n",
       "      <td>0</td>\n",
       "      <td>None</td>\n",
       "      <td>None</td>\n",
       "      <td>...</td>\n",
       "      <td>54.5</td>\n",
       "      <td>10.6</td>\n",
       "      <td>13</td>\n",
       "      <td>20240304</td>\n",
       "      <td>150000</td>\n",
       "      <td>12583936</td>\n",
       "      <td>0</td>\n",
       "      <td>0</td>\n",
       "      <td>0</td>\n",
       "      <td>8.0</td>\n",
       "    </tr>\n",
       "    <tr>\n",
       "      <th>...</th>\n",
       "      <td>...</td>\n",
       "      <td>...</td>\n",
       "      <td>...</td>\n",
       "      <td>...</td>\n",
       "      <td>...</td>\n",
       "      <td>...</td>\n",
       "      <td>...</td>\n",
       "      <td>...</td>\n",
       "      <td>...</td>\n",
       "      <td>...</td>\n",
       "      <td>...</td>\n",
       "      <td>...</td>\n",
       "      <td>...</td>\n",
       "      <td>...</td>\n",
       "      <td>...</td>\n",
       "      <td>...</td>\n",
       "      <td>...</td>\n",
       "      <td>...</td>\n",
       "      <td>...</td>\n",
       "      <td>...</td>\n",
       "      <td>...</td>\n",
       "    </tr>\n",
       "    <tr>\n",
       "      <th>518975</th>\n",
       "      <td>518976</td>\n",
       "      <td>30618</td>\n",
       "      <td>0</td>\n",
       "      <td>NaN</td>\n",
       "      <td>12002</td>\n",
       "      <td>None</td>\n",
       "      <td>298.200012</td>\n",
       "      <td>0</td>\n",
       "      <td>None</td>\n",
       "      <td>None</td>\n",
       "      <td>...</td>\n",
       "      <td>-22.1</td>\n",
       "      <td>153.0</td>\n",
       "      <td>13</td>\n",
       "      <td>20240304</td>\n",
       "      <td>200000</td>\n",
       "      <td>12583936</td>\n",
       "      <td>1431</td>\n",
       "      <td>0</td>\n",
       "      <td>0</td>\n",
       "      <td>0.0</td>\n",
       "    </tr>\n",
       "    <tr>\n",
       "      <th>518976</th>\n",
       "      <td>518977</td>\n",
       "      <td>30618</td>\n",
       "      <td>0</td>\n",
       "      <td>NaN</td>\n",
       "      <td>22049</td>\n",
       "      <td>None</td>\n",
       "      <td>304.149994</td>\n",
       "      <td>0</td>\n",
       "      <td>None</td>\n",
       "      <td>None</td>\n",
       "      <td>...</td>\n",
       "      <td>-22.1</td>\n",
       "      <td>153.0</td>\n",
       "      <td>13</td>\n",
       "      <td>20240304</td>\n",
       "      <td>200000</td>\n",
       "      <td>12583936</td>\n",
       "      <td>1431</td>\n",
       "      <td>0</td>\n",
       "      <td>0</td>\n",
       "      <td>0.0</td>\n",
       "    </tr>\n",
       "    <tr>\n",
       "      <th>518977</th>\n",
       "      <td>518978</td>\n",
       "      <td>30618</td>\n",
       "      <td>8192</td>\n",
       "      <td>1.0</td>\n",
       "      <td>22003</td>\n",
       "      <td>None</td>\n",
       "      <td>130.000000</td>\n",
       "      <td>0</td>\n",
       "      <td>None</td>\n",
       "      <td>None</td>\n",
       "      <td>...</td>\n",
       "      <td>-22.1</td>\n",
       "      <td>153.0</td>\n",
       "      <td>13</td>\n",
       "      <td>20240304</td>\n",
       "      <td>200000</td>\n",
       "      <td>12583936</td>\n",
       "      <td>1431</td>\n",
       "      <td>0</td>\n",
       "      <td>0</td>\n",
       "      <td>0.0</td>\n",
       "    </tr>\n",
       "    <tr>\n",
       "      <th>518978</th>\n",
       "      <td>518979</td>\n",
       "      <td>30618</td>\n",
       "      <td>8192</td>\n",
       "      <td>1.0</td>\n",
       "      <td>22013</td>\n",
       "      <td>None</td>\n",
       "      <td>4.000000</td>\n",
       "      <td>0</td>\n",
       "      <td>None</td>\n",
       "      <td>None</td>\n",
       "      <td>...</td>\n",
       "      <td>-22.1</td>\n",
       "      <td>153.0</td>\n",
       "      <td>13</td>\n",
       "      <td>20240304</td>\n",
       "      <td>200000</td>\n",
       "      <td>12583936</td>\n",
       "      <td>1431</td>\n",
       "      <td>0</td>\n",
       "      <td>0</td>\n",
       "      <td>0.0</td>\n",
       "    </tr>\n",
       "    <tr>\n",
       "      <th>518979</th>\n",
       "      <td>518980</td>\n",
       "      <td>30618</td>\n",
       "      <td>8192</td>\n",
       "      <td>1.0</td>\n",
       "      <td>22023</td>\n",
       "      <td>None</td>\n",
       "      <td>1.000000</td>\n",
       "      <td>0</td>\n",
       "      <td>None</td>\n",
       "      <td>None</td>\n",
       "      <td>...</td>\n",
       "      <td>-22.1</td>\n",
       "      <td>153.0</td>\n",
       "      <td>13</td>\n",
       "      <td>20240304</td>\n",
       "      <td>200000</td>\n",
       "      <td>12583936</td>\n",
       "      <td>1431</td>\n",
       "      <td>0</td>\n",
       "      <td>0</td>\n",
       "      <td>0.0</td>\n",
       "    </tr>\n",
       "  </tbody>\n",
       "</table>\n",
       "<p>518980 rows × 24 columns</p>\n",
       "</div>"
      ],
      "text/plain": [
       "        ID_DATA  ID_OBS  BURP_BTYP  VCOORD  VARNO VCOORD_TYPE       OBSVALUE  \\\n",
       "0             1       1          0     NaN  10051        None  101270.000000   \n",
       "1             2       1          0     NaN  11011        None      90.000000   \n",
       "2             3       1          0     NaN  11012        None      11.000000   \n",
       "3             4       1          0     NaN  12004        None     278.399994   \n",
       "4             5       1          0     NaN  12006        None     277.100006   \n",
       "...         ...     ...        ...     ...    ...         ...            ...   \n",
       "518975   518976   30618          0     NaN  12002        None     298.200012   \n",
       "518976   518977   30618          0     NaN  22049        None     304.149994   \n",
       "518977   518978   30618       8192     1.0  22003        None     130.000000   \n",
       "518978   518979   30618       8192     1.0  22013        None       4.000000   \n",
       "518979   518980   30618       8192     1.0  22023        None       1.000000   \n",
       "\n",
       "        FLAG   OMP   OMA  ...   LAT    LON CODTYP      DATE    TIME    STATUS  \\\n",
       "0          0  None  None  ...  54.5   10.6     13  20240304  150000  12583936   \n",
       "1          0  None  None  ...  54.5   10.6     13  20240304  150000  12583936   \n",
       "2          0  None  None  ...  54.5   10.6     13  20240304  150000  12583936   \n",
       "3          0  None  None  ...  54.5   10.6     13  20240304  150000  12583936   \n",
       "4          0  None  None  ...  54.5   10.6     13  20240304  150000  12583936   \n",
       "...      ...   ...   ...  ...   ...    ...    ...       ...     ...       ...   \n",
       "518975     0  None  None  ... -22.1  153.0     13  20240304  200000  12583936   \n",
       "518976     0  None  None  ... -22.1  153.0     13  20240304  200000  12583936   \n",
       "518977     0  None  None  ... -22.1  153.0     13  20240304  200000  12583936   \n",
       "518978     0  None  None  ... -22.1  153.0     13  20240304  200000  12583936   \n",
       "518979     0  None  None  ... -22.1  153.0     13  20240304  200000  12583936   \n",
       "\n",
       "        DELAY  RUNN  OARS  ELEV  \n",
       "0           0     0     0   8.0  \n",
       "1           0     0     0   8.0  \n",
       "2           0     0     0   8.0  \n",
       "3           0     0     0   8.0  \n",
       "4           0     0     0   8.0  \n",
       "...       ...   ...   ...   ...  \n",
       "518975   1431     0     0   0.0  \n",
       "518976   1431     0     0   0.0  \n",
       "518977   1431     0     0   0.0  \n",
       "518978   1431     0     0   0.0  \n",
       "518979   1431     0     0   0.0  \n",
       "\n",
       "[518980 rows x 24 columns]"
      ]
     },
     "execution_count": null,
     "metadata": {},
     "output_type": "execute_result"
    }
   ],
   "source": [
    "result_ID_OBS"
   ]
  },
  {
   "cell_type": "code",
   "execution_count": null,
   "id": "dd9cb316-472a-4148-bad2-cf5eda9055ba",
   "metadata": {},
   "outputs": [],
   "source": [
    "unique_time_values = result_ID_OBS[\"TIME\"].unique()\n",
    "print(unique_time_values)"
   ]
  }
 ],
 "metadata": {
  "kernelspec": {
   "display_name": "pandas_polars_daft_deltalake",
   "language": "python",
   "name": "pandas_polars_daft_deltalake"
  }
 },
 "nbformat": 4,
 "nbformat_minor": 5
}
