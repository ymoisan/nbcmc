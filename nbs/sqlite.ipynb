{
 "cells": [
  {
   "cell_type": "code",
   "execution_count": null,
   "id": "5a2e709d-b9a5-482a-844d-00528d78211d",
   "metadata": {},
   "outputs": [],
   "source": [
    "import sqlite3, getpass\n",
    "import pandas as pd\n",
    "import polars as pl\n",
    "from itables import show\n",
    "# import itables.options as opt\n",
    "# opt.maxBytes = 131072"
   ]
  },
  {
   "cell_type": "code",
   "execution_count": null,
   "id": "e6c2d323-ad2d-4a0c-9b90-def28769085b",
   "metadata": {},
   "outputs": [],
   "source": [
    "sqlite_dir = getpass.getpass(prompt='Base directory for SQLite files : ')"
   ]
  },
  {
   "cell_type": "code",
   "execution_count": null,
   "id": "41d926a6-fa19-4e6f-b543-839f1a497118",
   "metadata": {},
   "outputs": [],
   "source": [
    "#connection = sqlite3.connect(f\"{sqlite_dir}synop_b.2024031112.sqlite\")\n",
    "\n",
    "connection = sqlite3.connect(f\"{sqlite_dir}2024031318__sqlite\")\n",
    "cursor = connection.cursor()\n",
    "\n",
    "query = \"SELECT name FROM sqlite_master WHERE type='table';\"\n",
    "cursor.execute(query)\n",
    "tables = cursor.fetchall() # ('DATA',) ('HEADER',) ('OmF',)\n",
    "\n",
    "for table in tables:\n",
    "    print(table)\n",
    "\n",
    "connection.close()"
   ]
  },
  {
   "cell_type": "code",
   "execution_count": null,
   "id": "3b7929a1-e4fd-40ca-82d7-0dfa297a7c53",
   "metadata": {},
   "outputs": [],
   "source": [
    "# connection = sqlite3.connect(f\"{sqlite_dir}synop_b.2024031112.sqlite\")\n",
    "connection = sqlite3.connect(f\"{sqlite_dir}2024031318__sqlite\")\n",
    "# burp2rdb\n",
    "\n",
    "data_table = 'DATA'\n",
    "header_table = 'HEADER'\n",
    "# Define the SQL query you want to execute\n",
    "query_data = f\"SELECT * FROM {data_table};\"\n",
    "query_header = f\"SELECT * FROM {header_table};\"\n",
    "\n",
    "# Execute the query and store the result in a DataFrame\n",
    "result_data = pd.read_sql_query(query_data, connection)\n",
    "result_data_arrow = pd.read_sql_query(query_data, connection, dtype_backend='pyarrow')\n",
    "result_header = pd.read_sql_query(query_header, connection)\n",
    "\n",
    "connection.close()"
   ]
  },
  {
   "cell_type": "code",
   "execution_count": null,
   "id": "01777572-5e69-4c41-af90-2fe2597e5225",
   "metadata": {},
   "outputs": [],
   "source": [
    "result_data_pl_df = pl.from_pandas(result_data)"
   ]
  },
  {
   "cell_type": "code",
   "execution_count": null,
   "id": "127b9848-245c-46a4-b510-d55d5afa27ba",
   "metadata": {},
   "outputs": [],
   "source": [
    "print(type(result_data))\n",
    "print(type(result_data_pl_df))"
   ]
  },
  {
   "cell_type": "code",
   "execution_count": null,
   "id": "5d5c2ae8-08ba-415b-92c5-9654a951d869",
   "metadata": {},
   "outputs": [],
   "source": [
    "delta_lake_df = pl.scan_delta(\"tar_swob_no_optimization\")"
   ]
  },
  {
   "cell_type": "code",
   "execution_count": null,
   "id": "79a090c7-1d77-4498-8716-4e232adc8cef",
   "metadata": {},
   "outputs": [],
   "source": [
    "print(result_data.dtypes)"
   ]
  },
  {
   "cell_type": "code",
   "execution_count": null,
   "id": "2e20762c-fe41-460b-8a44-0d1cf5082e79",
   "metadata": {},
   "outputs": [],
   "source": [
    "print(result_data_pl_df.dtypes)"
   ]
  },
  {
   "cell_type": "code",
   "execution_count": null,
   "id": "e203e90a-a47a-4f53-90f0-dc1bc249096f",
   "metadata": {},
   "outputs": [],
   "source": [
    "# result_data_arrow = pd.read_sql_query(query_data, connection, dtype_backend='pyarrow')\n",
    "print(result_data_arrow.dtypes)"
   ]
  },
  {
   "cell_type": "code",
   "execution_count": null,
   "id": "3d1c4c0d-722b-419e-af36-84e74163d31a",
   "metadata": {},
   "outputs": [],
   "source": [
    "# result_data_arrow\n",
    "# show(result_data_arrow, buttons=[\"copyHtml5\", \"csvHtml5\", \"excelHtml5\"]) # ... (downsampled from 453,375x13 ...\n",
    "show(result_data_pl_df.filter(pl.col(\"VARNO\") == 12004)) # ... (downsampled from 25,065x13 to 856x13 as maxBytes=131072)"
   ]
  },
  {
   "cell_type": "code",
   "execution_count": null,
   "id": "81aa4886-b0f9-4d0d-bfab-89acba1df729",
   "metadata": {},
   "outputs": [],
   "source": [
    "result_data_pl_df"
   ]
  },
  {
   "cell_type": "code",
   "execution_count": null,
   "id": "41adf023-dcfe-4ca9-a56b-365ba0f92a87",
   "metadata": {},
   "outputs": [],
   "source": [
    "# result_data_pl_df['VARNO'].unique()\n",
    "varno_list = result_data_pl_df['VARNO'].unique().to_list()\n",
    "\n",
    "# Generator expression to pad codes and join them with '|'\n",
    "varno_list_grep = '|'.join(f\"{code:06}\" for code in varno_list)\n",
    "\n",
    "#varno_list_grep = '|'.join(map(str, varno_df))"
   ]
  },
  {
   "cell_type": "code",
   "execution_count": null,
   "id": "76cdf109-5982-4069-94b1-91e5a74c081b",
   "metadata": {},
   "outputs": [],
   "source": [
    "varno_list_grep\n",
    "# to supply to `grep -E` '^(001012|001013|002004|002038|005001|006001|007004|007030|007031|010004|010009|010051|010061|010062|010063|010194|011011|011012|011041|012002|012004|012006|012016|012017|013003|013013|013019|013020|013021|013022|013023|013033|013200|013204|020001|020003|020004|020005|020011|020012|020013|020062|020198|020199|020200|020201|020202|020213|022003|022011|022012|022013|022021|022022|022023|022042|022049)'"
   ]
  },
  {
   "cell_type": "code",
   "execution_count": null,
   "id": "ae636aac-77fa-4c0e-91f1-4fbc95cba094",
   "metadata": {},
   "outputs": [],
   "source": [
    "code_list_df = pl.read_csv(\"codes_burp.csv\", truncate_ragged_lines=True)"
   ]
  },
  {
   "cell_type": "code",
   "execution_count": null,
   "id": "6af49042-e53c-42f3-88b8-8c6a822cb0c4",
   "metadata": {},
   "outputs": [],
   "source": [
    "code_list_df"
   ]
  },
  {
   "cell_type": "code",
   "execution_count": null,
   "id": "45b48c41-4c12-4c86-ad31-e846221d6c73",
   "metadata": {},
   "outputs": [],
   "source": [
    "result_ID_OBS = pd.merge(result_data, result_header, on=\"ID_OBS\")\n"
   ]
  },
  {
   "cell_type": "code",
   "execution_count": null,
   "id": "8fe7cb33-57a5-4e11-a3d8-1bd8091c3470",
   "metadata": {},
   "outputs": [],
   "source": [
    "result_ID_OBS"
   ]
  },
  {
   "cell_type": "code",
   "execution_count": null,
   "id": "dd9cb316-472a-4148-bad2-cf5eda9055ba",
   "metadata": {},
   "outputs": [],
   "source": [
    "unique_time_values = result_ID_OBS[\"TIME\"].unique()\n",
    "print(unique_time_values)"
   ]
  }
 ],
 "metadata": {
  "kernelspec": {
   "display_name": "pandas_polars_daft_deltalake",
   "language": "python",
   "name": "pandas_polars_daft_deltalake"
  }
 },
 "nbformat": 4,
 "nbformat_minor": 5
}
