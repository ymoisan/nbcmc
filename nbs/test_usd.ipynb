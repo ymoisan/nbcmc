{
 "cells": [
  {
   "cell_type": "code",
   "execution_count": 1,
   "id": "be66c338-3c57-436f-9c0b-bc6383188e60",
   "metadata": {},
   "outputs": [],
   "source": [
    "from pxr import Usd, UsdGeom, UsdUtils, UsdShade, Sdf, Gf\n",
    "import struct\n",
    "from pathlib import Path\n",
    "from script import extract_gltf_from_b3dm, \\\n",
    "                   check_converter_availability, \\\n",
    "                   create_layer_from_geotiff, \\\n",
    "                   create_layer_from_3dtiles, \\\n",
    "                   create_stage, \\\n",
    "                   add_layer_to_stage, \\\n",
    "                   save_stage, \\\n",
    "                   create_layer_from_geopackage\n",
    "import rasterio\n",
    "import getpass"
   ]
  },
  {
   "cell_type": "code",
   "execution_count": 2,
   "id": "07610e42",
   "metadata": {},
   "outputs": [],
   "source": [
    "# This is needed to see something in usdview as values in lat/lon coordinates\n",
    "# show up clustered and are almost invisible.  Omniverse shold allow using no SCALE_FACTOR ?\n",
    "SCALE_FACTOR = 100000.0"
   ]
  },
  {
   "cell_type": "markdown",
   "id": "d04e03e6",
   "metadata": {},
   "source": [
    "# Tests"
   ]
  },
  {
   "cell_type": "code",
   "execution_count": null,
   "id": "8d9ad76d-152e-475b-9f4d-976e98f0b173",
   "metadata": {},
   "outputs": [],
   "source": [
    "stage = Usd.Stage.CreateNew('HelloWorld.usda')\n",
    "xformPrim = UsdGeom.Xform.Define(stage, '/hello')\n",
    "spherePrim = UsdGeom.Sphere.Define(stage, '/hello/world')\n",
    "stage.GetRootLayer().Save()"
   ]
  },
  {
   "cell_type": "markdown",
   "id": "4256b60c",
   "metadata": {},
   "source": [
    "# Extract glTF from 3DTiles/b3dm"
   ]
  },
  {
   "cell_type": "code",
   "execution_count": 3,
   "id": "f0c48a50",
   "metadata": {},
   "outputs": [],
   "source": [
    "full_path = getpass.getpass(\"Enter path to b3dm file: \")\n",
    "b3dm_file = Path(full_path) # Autobuilding lidar"
   ]
  },
  {
   "cell_type": "code",
   "execution_count": null,
   "id": "f2c15ee2",
   "metadata": {},
   "outputs": [],
   "source": [
    "print(f\"Extracting glTF data from {b3dm_file} to its corresponding .glb file\")\n",
    "extract_gltf_from_b3dm(b3dm_file)"
   ]
  },
  {
   "cell_type": "code",
   "execution_count": 5,
   "id": "e468bc96",
   "metadata": {},
   "outputs": [],
   "source": [
    "gltf_file = b3dm_file.with_suffix('.glb')"
   ]
  },
  {
   "cell_type": "code",
   "execution_count": 6,
   "id": "b920f12d",
   "metadata": {},
   "outputs": [],
   "source": [
    "# Create a new USD stage from the GLB file\n",
    "gltf_path = str(gltf_file)  # Convert Path to string\n",
    "output_usd = gltf_file.with_suffix('.usda')"
   ]
  },
  {
   "cell_type": "markdown",
   "id": "8a04664b",
   "metadata": {},
   "source": [
    "# Convert a small DEM to USD"
   ]
  },
  {
   "cell_type": "code",
   "execution_count": 3,
   "id": "9fc14f35",
   "metadata": {},
   "outputs": [],
   "source": [
    "dem_file = Path(\"02EJ_5m_Cilp_4326.tif\")"
   ]
  },
  {
   "cell_type": "code",
   "execution_count": 4,
   "id": "5f82b230",
   "metadata": {},
   "outputs": [],
   "source": [
    "usd_output_file = dem_file.with_suffix('.usdc')\n",
    "# usd_filename = \"usd_output_file.usda\"\n",
    "# usd_output_file = Path(usd_filename)"
   ]
  },
  {
   "cell_type": "code",
   "execution_count": 5,
   "id": "416e890f",
   "metadata": {},
   "outputs": [],
   "source": [
    "# 1. Create a new stage\n",
    "stage = create_stage(usd_output_file)"
   ]
  },
  {
   "cell_type": "code",
   "execution_count": 6,
   "id": "1e5fe7a2",
   "metadata": {},
   "outputs": [
    {
     "data": {
      "application/vnd.jupyter.widget-view+json": {
       "model_id": "2ba0321bae8c4d26b4bbdef220b7f179",
       "version_major": 2,
       "version_minor": 0
      },
      "text/plain": [
       "Overall DEM processing:   0%|          | 0/2689 [00:00<?, ?rows/s]"
      ]
     },
     "metadata": {},
     "output_type": "display_data"
    },
    {
     "data": {
      "application/vnd.jupyter.widget-view+json": {
       "model_id": "420bc149341e4e409334ef93051a3ef4",
       "version_major": 2,
       "version_minor": 0
      },
      "text/plain": [
       "Generating vertices:   0%|          | 0/1345 [00:00<?, ?row/s]"
      ]
     },
     "metadata": {},
     "output_type": "display_data"
    },
    {
     "data": {
      "application/vnd.jupyter.widget-view+json": {
       "model_id": "72561ed689a54a03802c627ac19bb987",
       "version_major": 2,
       "version_minor": 0
      },
      "text/plain": [
       "Generating mesh topology:   0%|          | 0/1344 [00:00<?, ?row/s]"
      ]
     },
     "metadata": {},
     "output_type": "display_data"
    }
   ],
   "source": [
    "# 2. Create the DEM layer from GeoTIFF\n",
    "dem_layer = create_layer_from_geotiff(dem_file, \n",
    "           sample_factor=1, \n",
    "           scale_factor=SCALE_FACTOR, \n",
    "           material_type='terrain',\n",
    "           bbox=(-63.679503,44.564071,-63.565863,44.625435)\n",
    "           )"
   ]
  },
  {
   "cell_type": "code",
   "execution_count": 7,
   "id": "65ca5a3b",
   "metadata": {},
   "outputs": [
    {
     "name": "stdout",
     "output_type": "stream",
     "text": [
      "\n",
      "Mesh Statistics:\n",
      "Number of points: 3351740\n",
      "Number of faces: 6695808\n",
      "Z range: -0.9736483693122864 to 133.67996215820312\n"
     ]
    }
   ],
   "source": [
    "# 3. Add the DEM layer to the stage\n",
    "add_layer_to_stage(stage, dem_layer)"
   ]
  },
  {
   "cell_type": "markdown",
   "id": "532eec27",
   "metadata": {},
   "source": [
    "# 3DTiles Buildings in USD"
   ]
  },
  {
   "cell_type": "code",
   "execution_count": 12,
   "id": "607dd6c9",
   "metadata": {},
   "outputs": [],
   "source": [
    "blg_path = Path(\"C:/Users/ymoisan/3dtiles/Cesium-1.123/Halifax_0_0_1_aoi_3D_4326/tileset.json\")"
   ]
  },
  {
   "cell_type": "code",
   "execution_count": null,
   "id": "c87d5ee0",
   "metadata": {},
   "outputs": [],
   "source": [
    "bldg_layer = create_layer_from_3dtiles(blg_path, scale_factor=1.0, z_offset=50.0)"
   ]
  },
  {
   "cell_type": "code",
   "execution_count": null,
   "id": "ff3cf550",
   "metadata": {},
   "outputs": [],
   "source": [
    "add_layer_to_stage(\n",
    "    stage,\n",
    "    bldg_layer,\n",
    "    \"/World/Buildings\",  # Different path in the USD hierarchy\n",
    ")"
   ]
  },
  {
   "cell_type": "markdown",
   "id": "acacb732",
   "metadata": {},
   "source": [
    "# GPKG Buildings in USD"
   ]
  },
  {
   "cell_type": "code",
   "execution_count": 8,
   "id": "37250604",
   "metadata": {},
   "outputs": [],
   "source": [
    "# Create and add buildings layer from GeoPackage\n",
    "buildings_gpkg_layer = create_layer_from_geopackage(\"halifax-aoi-plus_4326.gpkg\", material_type='building', scale_factor=SCALE_FACTOR, z_offset=50.0)"
   ]
  },
  {
   "cell_type": "code",
   "execution_count": null,
   "id": "7048b517",
   "metadata": {},
   "outputs": [],
   "source": [
    "# Create and add buildings layer from GeoPackage\n",
    "add_layer_to_stage(stage, buildings_gpkg_layer, \"/World/Buildings\")"
   ]
  },
  {
   "cell_type": "markdown",
   "id": "f1e93430",
   "metadata": {},
   "source": [
    "# Save stage"
   ]
  },
  {
   "cell_type": "code",
   "execution_count": 8,
   "id": "29fb7a03",
   "metadata": {},
   "outputs": [
    {
     "name": "stdout",
     "output_type": "stream",
     "text": [
      "Writing USD file... |"
     ]
    }
   ],
   "source": [
    "# 6. Save the stage once after all layers are added\n",
    "save_stage(stage)"
   ]
  },
  {
   "cell_type": "markdown",
   "id": "b095a262",
   "metadata": {},
   "source": [
    "# Odd stuff"
   ]
  },
  {
   "cell_type": "code",
   "execution_count": 3,
   "id": "66dea9ed",
   "metadata": {},
   "outputs": [],
   "source": [
    "def convert_usdc_to_usdz(usdc_path: str, usdz_path: str):\n",
    "    # Open the existing USDC stage\n",
    "    stage = Usd.Stage.Open(usdc_path)\n",
    "    if not stage:\n",
    "        raise RuntimeError(f\"Could not open stage at {usdc_path}\")\n",
    "    \n",
    "    # Package the stage into a USDZ file.\n",
    "    # (This requires a USD build with USDZ support)\n",
    "    UsdUtils.CreateNewUsdzPackage(stage, usdz_path)\n",
    "    print(f\"Converted {usdc_path} to {usdz_path}\")"
   ]
  }
 ],
 "metadata": {
  "kernelspec": {
   "display_name": "usd",
   "language": "python",
   "name": "python3"
  },
  "language_info": {
   "codemirror_mode": {
    "name": "ipython",
    "version": 3
   },
   "file_extension": ".py",
   "mimetype": "text/x-python",
   "name": "python",
   "nbconvert_exporter": "python",
   "pygments_lexer": "ipython3",
   "version": "3.12.8"
  }
 },
 "nbformat": 4,
 "nbformat_minor": 5
}
