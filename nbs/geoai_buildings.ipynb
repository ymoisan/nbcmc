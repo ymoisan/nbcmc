{
 "cells": [
  {
   "cell_type": "markdown",
   "id": "27cde30a",
   "metadata": {},
   "source": [
    "# GeoAI buildings extraction\n",
    "From https://ftp.maps.canada.ca/pub/nrcan_rncan/vector/geobase_geoai_geoia/GPKG/"
   ]
  },
  {
   "cell_type": "code",
   "execution_count": 1,
   "id": "4d8758b0",
   "metadata": {},
   "outputs": [],
   "source": [
    "from my_nb_utils import (\n",
    "    get_gpkg_schema,\n",
    "    compare_gpkg_schemas,\n",
    "    print_schema_comparison,\n",
    "    read_and_concat_gpkgs,\n",
    "    prepare_gdf_for_delta,\n",
    "    list_gpkg_files,\n",
    "    get_all_gpkg_data\n",
    ")"
   ]
  },
  {
   "cell_type": "markdown",
   "id": "e68300e8",
   "metadata": {},
   "source": [
    "# Get all building footprintsfrom FTP site"
   ]
  },
  {
   "cell_type": "code",
   "execution_count": null,
   "id": "83338b23",
   "metadata": {},
   "outputs": [],
   "source": [
    "df, stats = get_all_gpkg_data()"
   ]
  },
  {
   "cell_type": "code",
   "execution_count": null,
   "id": "4c3fe984",
   "metadata": {},
   "outputs": [],
   "source": [
    "df"
   ]
  },
  {
   "cell_type": "code",
   "execution_count": null,
   "id": "74a256aa",
   "metadata": {},
   "outputs": [],
   "source": [
    "print(\"\\nProcessing Summary:\")\n",
    "print(f\"Expected files: {stats['expected_files']}\")\n",
    "print(f\"Successfully processed: {stats['successful_reads']}\")\n",
    "print(f\"Failed reads: {stats['failed_reads']}\")\n",
    "print(f\"Total features: {stats['total_features']}\")\n",
    "\n",
    "print(\"\\nUpload Date Range:\")\n",
    "print(f\"Earliest: {stats['upload_date_range']['earliest']}\")\n",
    "print(f\"Latest: {stats['upload_date_range']['latest']}\")\n",
    "\n",
    "print(\"\\nDataFrame Info:\")\n",
    "print(df.info())"
   ]
  },
  {
   "cell_type": "markdown",
   "id": "01267e17",
   "metadata": {},
   "source": [
    "# Compare schemas"
   ]
  },
  {
   "cell_type": "code",
   "execution_count": 2,
   "id": "7c1b8265",
   "metadata": {},
   "outputs": [],
   "source": [
    "file_paths = [\n",
    "    'https://ftp.maps.canada.ca/pub/nrcan_rncan/vector/geobase_geoai_geoia/GPKG/BC_CapeBall_WV03_20210702.zip',\n",
    "    'https://ftp.maps.canada.ca/pub/nrcan_rncan/vector/geobase_geoai_geoia/GPKG/NB_Bouctouche_2016.zip',\n",
    "    'https://ftp.maps.canada.ca/pub/nrcan_rncan/vector/geobase_geoai_geoia/GPKG/QC_RockForest_WV03_20220930.zip'\n",
    "]\n",
    "\n",
    "file_paths = [\n",
    "\"https://ftp.maps.canada.ca/pub/nrcan_rncan/vector/geobase_geoai_geoia/GPKG/BC_Masset_WV02_20160607.zip\",\n",
    "\"https://ftp.maps.canada.ca/pub/nrcan_rncan/vector/geobase_geoai_geoia/GPKG/BC_PortClements_GE01_20180930.zip\",\n",
    "\"https://ftp.maps.canada.ca/pub/nrcan_rncan/vector/geobase_geoai_geoia/GPKG/NB_AnseBleue_WV03_20200807.zip\",\n",
    "\"https://ftp.maps.canada.ca/pub/nrcan_rncan/vector/geobase_geoai_geoia/GPKG/NB_Brantville_WV02_20210825.zip\",\n",
    "\"https://ftp.maps.canada.ca/pub/nrcan_rncan/vector/geobase_geoai_geoia/GPKG/NB_DNR_2013_a.zip\",\n",
    "\"https://ftp.maps.canada.ca/pub/nrcan_rncan/vector/geobase_geoai_geoia/GPKG/NB_DNR_2015_a.zip\",\n",
    "\"https://ftp.maps.canada.ca/pub/nrcan_rncan/vector/geobase_geoai_geoia/GPKG/NB_DNR_2017_s.zip\",\n",
    "\"https://ftp.maps.canada.ca/pub/nrcan_rncan/vector/geobase_geoai_geoia/GPKG/NB_DNR_2019_an.zip\",\n",
    "\"https://ftp.maps.canada.ca/pub/nrcan_rncan/vector/geobase_geoai_geoia/GPKG/NB_Fairisle_WV02_20210919_A.zip\",\n",
    "\"https://ftp.maps.canada.ca/pub/nrcan_rncan/vector/geobase_geoai_geoia/GPKG/NB_SNB_2022_g.zip\",\n",
    "\"https://ftp.maps.canada.ca/pub/nrcan_rncan/vector/geobase_geoai_geoia/GPKG/ON_RideauFerry_GE01_20180730.zip\",\n",
    "\"https://ftp.maps.canada.ca/pub/nrcan_rncan/vector/geobase_geoai_geoia/GPKG/ON_TalbotRiver_WV02_20180710.zip\",\n",
    "\"https://ftp.maps.canada.ca/pub/nrcan_rncan/vector/geobase_geoai_geoia/GPKG/PEIGeorgetown.zip\",\n",
    "\"https://ftp.maps.canada.ca/pub/nrcan_rncan/vector/geobase_geoai_geoia/GPKG/QC_Boisbriand_WV02_20210524.zip\",\n",
    "\"https://ftp.maps.canada.ca/pub/nrcan_rncan/vector/geobase_geoai_geoia/GPKG/QC_ZecTawachiche_WV02_20190825_B.zip\",\n",
    "\"https://ftp.maps.canada.ca/pub/nrcan_rncan/vector/geobase_geoai_geoia/GPKG/YT1.zip\"]\n"
   ]
  },
  {
   "cell_type": "code",
   "execution_count": 3,
   "id": "9a3e503b",
   "metadata": {},
   "outputs": [],
   "source": [
    "comparison = compare_gpkg_schemas(file_paths)"
   ]
  },
  {
   "cell_type": "code",
   "execution_count": null,
   "id": "84598e15",
   "metadata": {},
   "outputs": [],
   "source": [
    "print_schema_comparison(comparison)"
   ]
  },
  {
   "cell_type": "code",
   "execution_count": 2,
   "id": "dd5ca44a",
   "metadata": {},
   "outputs": [],
   "source": [
    "test_files = [\n",
    "    'https://ftp.maps.canada.ca/pub/nrcan_rncan/vector/geobase_geoai_geoia/GPKG/BC_CapeBall_WV03_20210702.zip',\n",
    "    'https://ftp.maps.canada.ca/pub/nrcan_rncan/vector/geobase_geoai_geoia/GPKG/NB_Bouctouche_2016.zip',\n",
    "    'https://ftp.maps.canada.ca/pub/nrcan_rncan/vector/geobase_geoai_geoia/GPKG/QC_RockForest_WV03_20220930.zip'\n",
    "]"
   ]
  },
  {
   "cell_type": "code",
   "execution_count": null,
   "id": "32c96dd3",
   "metadata": {},
   "outputs": [],
   "source": [
    "combined_gdf, stats = read_and_concat_gpkgs(test_files)"
   ]
  },
  {
   "cell_type": "code",
   "execution_count": null,
   "id": "eac70f3e",
   "metadata": {},
   "outputs": [],
   "source": [
    "# Print processing statistics\n",
    "print(\"\\nProcessing Statistics:\")\n",
    "print(f\"Total files processed: {stats['total_files']}\")\n",
    "print(f\"Successful reads: {stats['successful_reads']}\")\n",
    "print(f\"Failed reads: {stats['failed_reads']}\")\n",
    "print(f\"Total features: {stats['total_features']}\")\n",
    "\n",
    "if stats['crs_transforms']:\n",
    "    print(\"\\nCRS Transformations:\")\n",
    "    for transform in stats['crs_transforms']:\n",
    "        print(f\"File: {transform['file']}\")\n",
    "        print(f\"  From: {transform['from']}\")\n",
    "        print(f\"  To: {transform['to']}\")\n",
    "\n",
    "if stats['errors']:\n",
    "    print(\"\\nErrors encountered:\")\n",
    "    for error in stats['errors']:\n",
    "        print(f\"File: {error['file']}\")\n",
    "        print(f\"  Error: {error['error']}\")\n",
    "\n",
    "# Display information about the combined GeoDataFrame\n",
    "print(\"\\nCombined GeoDataFrame Info:\")\n",
    "print(combined_gdf.info())"
   ]
  },
  {
   "cell_type": "code",
   "execution_count": null,
   "id": "c75f8f61",
   "metadata": {},
   "outputs": [],
   "source": [
    "# Prepare the data for Delta Lake\n",
    "prepared_df, quality_stats = prepare_gdf_for_delta(combined_gdf)\n",
    "\n",
    "# Print quality statistics\n",
    "print(\"\\nData Quality Statistics:\")\n",
    "print(f\"Total rows: {quality_stats['total_rows']}\")\n",
    "print(f\"Invalid geometries: {quality_stats['invalid_geometries']}\")\n",
    "\n",
    "print(\"\\nNull counts by column:\")\n",
    "for col, count in quality_stats['null_counts'].items():\n",
    "    if count > 0:\n",
    "        print(f\"  {col}: {count}\")\n",
    "\n",
    "print(\"\\nData types:\")\n",
    "for col, dtype in quality_stats['data_types'].items():\n",
    "    print(f\"  {col}: {dtype}\")"
   ]
  },
  {
   "cell_type": "markdown",
   "id": "4a53e8fd",
   "metadata": {},
   "source": [
    "# FTP tests"
   ]
  },
  {
   "cell_type": "code",
   "execution_count": null,
   "id": "7b95ed06",
   "metadata": {},
   "outputs": [],
   "source": [
    "from ftplib import FTP\n",
    "from datetime import datetime\n",
    "\n",
    "try:\n",
    "    # Connect to FTP server\n",
    "    print(\"Connecting to FTP server...\")\n",
    "    ftp = FTP('ftp.maps.canada.ca')\n",
    "    ftp.login()  # anonymous login\n",
    "    \n",
    "    print(\"\\nNavigating to GPKG directory...\")\n",
    "    ftp.cwd('/pub/nrcan_rncan/vector/geobase_geoai_geoia/GPKG/')\n",
    "    \n",
    "    # Get file list with details\n",
    "    files = []\n",
    "    ftp.dir(lambda x: files.append(x))\n",
    "    \n",
    "    print(\"\\nGPKG ZIP files and their timestamps:\")\n",
    "    print(\"-\" * 70)\n",
    "    \n",
    "    zip_files = []\n",
    "    for file_info in files:\n",
    "        if '.zip' in file_info:\n",
    "            parts = file_info.split()\n",
    "            # Get file size\n",
    "            size = parts[4]\n",
    "            # Combine date parts\n",
    "            date_str = f\"{parts[5]} {parts[6]} {parts[7]}\"\n",
    "            filename = parts[-1]\n",
    "            print(f\"{filename:<50} {date_str:>15} {size:>10} bytes\")\n",
    "            zip_files.append({\n",
    "                'filename': filename,\n",
    "                'upload_date': date_str,\n",
    "                'size': int(size)\n",
    "            })\n",
    "    \n",
    "    print(f\"\\nTotal ZIP files found: {len(zip_files)}\")\n",
    "    \n",
    "except Exception as e:\n",
    "    print(f\"Error accessing FTP: {str(e)}\")\n",
    "finally:\n",
    "    try:\n",
    "        ftp.quit()\n",
    "    except:\n",
    "        pass"
   ]
  },
  {
   "cell_type": "code",
   "execution_count": null,
   "id": "78d0e2c2",
   "metadata": {},
   "outputs": [],
   "source": []
  }
 ],
 "metadata": {
  "kernelspec": {
   "display_name": "twins",
   "language": "python",
   "name": "twins"
  },
  "language_info": {
   "codemirror_mode": {
    "name": "ipython",
    "version": 3
   },
   "file_extension": ".py",
   "mimetype": "text/x-python",
   "name": "python",
   "nbconvert_exporter": "python",
   "pygments_lexer": "ipython3",
   "version": "3.12.4"
  }
 },
 "nbformat": 4,
 "nbformat_minor": 5
}
